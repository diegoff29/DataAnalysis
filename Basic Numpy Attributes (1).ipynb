{
 "cells": [
  {
   "cell_type": "code",
   "execution_count": 6,
   "metadata": {},
   "outputs": [
    {
     "name": "stdout",
     "output_type": "stream",
     "text": [
      "[5 0 3 3 7 9]\n",
      "array([[3, 5, 2, 4],\n",
      "       [7, 6, 8, 8],\n",
      "       [1, 6, 7, 7]])\n",
      "array([[[8, 1, 5, 9, 8],\n",
      "        [9, 4, 3, 0, 3],\n",
      "        [5, 0, 2, 3, 8],\n",
      "        [1, 3, 3, 3, 7]],\n",
      "\n",
      "       [[0, 1, 9, 9, 0],\n",
      "        [4, 7, 3, 2, 7],\n",
      "        [2, 0, 0, 4, 5],\n",
      "        [5, 6, 8, 4, 1]],\n",
      "\n",
      "       [[4, 9, 8, 1, 1],\n",
      "        [7, 9, 9, 3, 6],\n",
      "        [7, 2, 0, 3, 5],\n",
      "        [9, 4, 4, 6, 4]]])\n",
      "3\n",
      "(3, 4, 5)\n",
      "60\n"
     ]
    }
   ],
   "source": [
    "import pprint \n",
    "import numpy as np\n",
    "np.random.seed(0)\n",
    "x1= np.random.randint(10,size=6)\n",
    "x2= np.random.randint(10,size=(3,4))\n",
    "x3= np.random.randint(10,size=(3,4,5))\n",
    "print(x1)\n",
    "pprint.pprint(x2)\n",
    "pprint.pprint(x3)\n",
    "print(x3.ndim)\n",
    "print(x3.shape)\n",
    "print(x3.size)"
   ]
  },
  {
   "cell_type": "code",
   "execution_count": 7,
   "metadata": {},
   "outputs": [
    {
     "name": "stdout",
     "output_type": "stream",
     "text": [
      "array([[12,  5,  2,  4],\n",
      "       [ 7,  6,  8,  8],\n",
      "       [ 1,  6,  7,  7]])\n"
     ]
    }
   ],
   "source": [
    "x2[0,0]=12\n",
    "pprint.pprint(x2)"
   ]
  },
  {
   "cell_type": "code",
   "execution_count": 15,
   "metadata": {},
   "outputs": [
    {
     "name": "stdout",
     "output_type": "stream",
     "text": [
      "[[99  5]\n",
      " [ 7  6]]\n",
      "array([[99,  5,  2,  4],\n",
      "       [ 7,  6,  8,  8],\n",
      "       [ 1,  6,  7,  7]])\n",
      "array([[12,  5],\n",
      "       [ 7,  6]])\n",
      "array([[99,  5,  2,  4],\n",
      "       [ 7,  6,  8,  8],\n",
      "       [ 1,  6,  7,  7]])\n"
     ]
    }
   ],
   "source": [
    "x2[:2, :3]\n",
    "x2[::-1, ::-1] #Rows,Column\n",
    "x2_sub=x2[0:2,0:2]\n",
    "print(x2_sub)\n",
    "x2_sub[0,0]=99\n",
    "pprint.pprint(x2)\n",
    "#Slices are views, not copies. That means that if slices are affected, originals are also affected. \n",
    "#For unaffected lists:\n",
    "x2_copy=x2[:2,:2].copy()\n",
    "x2_copy[0,0]=12\n",
    "pprint.pprint(x2_copy)\n",
    "pprint.pprint(x2)"
   ]
  },
  {
   "cell_type": "code",
   "execution_count": 18,
   "metadata": {},
   "outputs": [
    {
     "name": "stdout",
     "output_type": "stream",
     "text": [
      "[[1 2 3]\n",
      " [4 5 6]\n",
      " [7 8 9]]\n"
     ]
    }
   ],
   "source": [
    "grid=np.arange(1,10).reshape(3,3)\n",
    "print(grid)"
   ]
  },
  {
   "cell_type": "code",
   "execution_count": null,
   "metadata": {},
   "outputs": [],
   "source": []
  }
 ],
 "metadata": {
  "kernelspec": {
   "display_name": "Python 3",
   "language": "python",
   "name": "python3"
  },
  "language_info": {
   "codemirror_mode": {
    "name": "ipython",
    "version": 3
   },
   "file_extension": ".py",
   "mimetype": "text/x-python",
   "name": "python",
   "nbconvert_exporter": "python",
   "pygments_lexer": "ipython3",
   "version": "3.8.5"
  }
 },
 "nbformat": 4,
 "nbformat_minor": 4
}
