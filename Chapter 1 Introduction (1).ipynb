{
 "cells": [
  {
   "cell_type": "code",
   "execution_count": 10,
   "metadata": {},
   "outputs": [
    {
     "name": "stdout",
     "output_type": "stream",
     "text": [
      "*\n",
      "**\n",
      "***\n",
      "****\n"
     ]
    }
   ],
   "source": [
    "print(\"*\\n**\\n***\\n****\")"
   ]
  },
  {
   "cell_type": "code",
   "execution_count": 11,
   "metadata": {},
   "outputs": [
    {
     "name": "stdout",
     "output_type": "stream",
     "text": [
      "0.1017249004865104\n"
     ]
    }
   ],
   "source": [
    "result= (512-282)/(47*48+5)\n",
    "print(result)"
   ]
  },
  {
   "cell_type": "code",
   "execution_count": 17,
   "metadata": {},
   "outputs": [
    {
     "name": "stdout",
     "output_type": "stream",
     "text": [
      "Enter a number: 47\n",
      "The square of 47 is 2209.\n"
     ]
    }
   ],
   "source": [
    "number=int(input(\"Enter a number: \"))\n",
    "print(\"The square of \",number,\" is \",number**2,\".\",sep=\"\")"
   ]
  },
  {
   "cell_type": "code",
   "execution_count": 18,
   "metadata": {},
   "outputs": [
    {
     "name": "stdout",
     "output_type": "stream",
     "text": [
      "Enter a number: 8\n",
      "8---16---24---32---40\n"
     ]
    }
   ],
   "source": [
    "number=int(input(\"Enter a number: \"))\n",
    "print(number,number*2,number*3,number*4,number*5,sep=\"---\")"
   ]
  },
  {
   "cell_type": "code",
   "execution_count": 21,
   "metadata": {},
   "outputs": [
    {
     "name": "stdout",
     "output_type": "stream",
     "text": [
      "Enter your weight in kilograms: 10\n",
      "The weight is pounds is 22.0.\n"
     ]
    }
   ],
   "source": [
    "kilos=int(input(\"Enter your weight in kilograms: \"))\n",
    "print(\"The weight is pounds is \",kilos*2.2,\".\",sep=\"\")"
   ]
  },
  {
   "cell_type": "code",
   "execution_count": 22,
   "metadata": {},
   "outputs": [
    {
     "name": "stdout",
     "output_type": "stream",
     "text": [
      "Enter your first number: 1\n",
      "Enter your second number: 2\n",
      "Enter your third number: 3\n",
      "6\n",
      "2.0\n"
     ]
    }
   ],
   "source": [
    "number1=int(input(\"Enter your first number: \"))\n",
    "number2=int(input(\"Enter your second number: \"))\n",
    "number3=int(input(\"Enter your third number: \"))\n",
    "total=number1+number2+number3\n",
    "average=total/3\n",
    "print(total)\n",
    "print(average)"
   ]
  },
  {
   "cell_type": "code",
   "execution_count": 25,
   "metadata": {},
   "outputs": [
    {
     "name": "stdout",
     "output_type": "stream",
     "text": [
      "Enter the price of the bill: 100\n",
      "Enter the tip percentage: 20\n",
      "The tip given is 20.0 and the total bill is 120.0.\n"
     ]
    }
   ],
   "source": [
    "bill=int(input(\"Enter the price of the bill: \"))\n",
    "tip=int(input(\"Enter the tip percentage: \"))\n",
    "tipamount=bill*tip/100\n",
    "total=bill+tipamount\n",
    "print(\"The tip given is \",tipamount, \" and the total bill is \",total,\".\",sep=\"\")"
   ]
  },
  {
   "cell_type": "code",
   "execution_count": null,
   "metadata": {},
   "outputs": [],
   "source": []
  },
  {
   "cell_type": "code",
   "execution_count": null,
   "metadata": {},
   "outputs": [],
   "source": []
  }
 ],
 "metadata": {
  "kernelspec": {
   "display_name": "Python 3",
   "language": "python",
   "name": "python3"
  },
  "language_info": {
   "codemirror_mode": {
    "name": "ipython",
    "version": 3
   },
   "file_extension": ".py",
   "mimetype": "text/x-python",
   "name": "python",
   "nbconvert_exporter": "python",
   "pygments_lexer": "ipython3",
   "version": "3.8.5"
  }
 },
 "nbformat": 4,
 "nbformat_minor": 4
}
