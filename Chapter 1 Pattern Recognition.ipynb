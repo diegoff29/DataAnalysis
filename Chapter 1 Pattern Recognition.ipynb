{
 "cells": [
  {
   "cell_type": "code",
   "execution_count": 35,
   "metadata": {},
   "outputs": [
    {
     "name": "stdout",
     "output_type": "stream",
     "text": [
      "[(' 0161-794-5000 x161', '', ' ', '0161', '-', '794', '-', '5000', ' x161', 'x', '161'), (' -393-4541 x0161', '', ' ', '', '-', '393', '-', '4541', ' x0161', 'x', '0161'), (' -794-5000', '', ' ', '', '-', '794', '-', '5000', '', '', '')]\n",
      "The phone numbers found on the text were:\n",
      "\n",
      "[' 0161-794-5000 x161', ' -393-4541 x0161', ' -794-5000']\n",
      "The emails found on the text were:\n",
      "\n",
      "Copied to copyboard\n",
      " 0161-794-5000 x161\n",
      " -393-4541 x0161\n",
      " -794-5000\n"
     ]
    }
   ],
   "source": [
    "\n",
    "import re,pyperclip\n",
    "texto=str(pyperclip.paste())\n",
    "phoneRegex= re.compile(r'''(\n",
    "(\\+\\d+)? #Country plus\n",
    "(.)? # Separador:Espacio, guion o punto\n",
    "(\\d{3,5}|\\(\\d{3,5}\\))? # Area Code\n",
    "(\\s|-|\\.)? # Separador:Espacio, guion o punto\n",
    "(\\d{3}) # Middle numbers\n",
    "(\\s|-|\\.) # Separador:Espacio, guion o punto. Not optional\n",
    "(\\d{4}) #End numbers\n",
    "(\\s*(|ext|x|ext.|)\\s*(\\d{2,5}))? #Extension\n",
    "        )''',re.VERBOSE)\n",
    "telephones=phoneRegex.findall(texto)\n",
    "print(telephones)\n",
    "matchesphone=[]\n",
    "for numbers in telephones:\n",
    "    lines=\"\"\n",
    "    if numbers[1]!=\" \":\n",
    "        lines+= numbers[1]+\" \"\n",
    "    lines+=\"-\".join([numbers[3],numbers[5],numbers[7]])\n",
    "    if numbers[-1] != \"\":\n",
    "        lines+= \" x\" + numbers[-1]\n",
    "    matchesphone.append(lines)\n",
    "print(\"The phone numbers found on the text were:\\n\")\n",
    "print(matchesphone)\n",
    "emailRegex= re.compile('''(\n",
    "[a-zA-Z0-9._%+-]+ #Pre@\n",
    "(@) #At\n",
    "[a-zA-Z0-9._%+-]+ #Direction\n",
    "(\\.[a-zA-Z]{2,4}) #Last code\n",
    "        )''',re.VERBOSE)\n",
    "addresses=emailRegex.findall(texto)\n",
    "for emails in addresses:\n",
    "    matchesphone.append(emails[0])\n",
    "print(\"The emails found on the text were:\\n\")\n",
    "if len(matchesphone)>0:\n",
    "    print(\"Copied to copyboard\")\n",
    "    pyperclip.copy(\"\\n\".join(matchesphone))\n",
    "    print(\"\\n\".join(matchesphone))\n",
    "else:\n",
    "    print(\"No cellphones or emails copied\")"
   ]
  },
  {
   "cell_type": "code",
   "execution_count": 37,
   "metadata": {},
   "outputs": [
    {
     "name": "stdout",
     "output_type": "stream",
     "text": [
      "2\n"
     ]
    }
   ],
   "source": [
    "print(int(\"02\"))"
   ]
  },
  {
   "cell_type": "code",
   "execution_count": null,
   "metadata": {},
   "outputs": [],
   "source": []
  }
 ],
 "metadata": {
  "kernelspec": {
   "display_name": "Python 3",
   "language": "python",
   "name": "python3"
  },
  "language_info": {
   "codemirror_mode": {
    "name": "ipython",
    "version": 3
   },
   "file_extension": ".py",
   "mimetype": "text/x-python",
   "name": "python",
   "nbconvert_exporter": "python",
   "pygments_lexer": "ipython3",
   "version": "3.8.5"
  }
 },
 "nbformat": 4,
 "nbformat_minor": 4
}
