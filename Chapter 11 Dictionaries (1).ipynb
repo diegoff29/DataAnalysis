{
 "cells": [
  {
   "cell_type": "code",
   "execution_count": 30,
   "metadata": {},
   "outputs": [
    {
     "name": "stdout",
     "output_type": "stream",
     "text": [
      "{'A': 100, 'B': 400, 'C': 200}\n",
      "{'B': 400, 'C': 200}\n"
     ]
    }
   ],
   "source": [
    "d={\"A\":100,\"B\":50}\n",
    "d[\"B\"]=400\n",
    "d[\"C\"]=200\n",
    "print(d)\n",
    "del d[\"A\"]\n",
    "print(d)\n"
   ]
  },
  {
   "cell_type": "code",
   "execution_count": 38,
   "metadata": {},
   "outputs": [
    {
     "name": "stdout",
     "output_type": "stream",
     "text": [
      "{'A': 100, 'B': 50}\n",
      "cierto\n",
      "['A', 'B']\n",
      "A\n",
      "B\n",
      "[100, 50]\n",
      "100\n",
      "50\n",
      "[('A', 100), ('B', 50)]\n"
     ]
    }
   ],
   "source": [
    "d={\"A\":100,\"B\":50}\n",
    "d2=d.copy()\n",
    "print(d2)\n",
    "if \"A\" in d:\n",
    "    print(\"cierto\")\n",
    "print(list(d))\n",
    "for key in d:\n",
    "    print(key)\n",
    "print(list(d2.values()))\n",
    "for key in d:\n",
    "    print(d[key])\n",
    "print(list(d2.items()))"
   ]
  },
  {
   "cell_type": "code",
   "execution_count": 49,
   "metadata": {},
   "outputs": [
    {
     "name": "stdout",
     "output_type": "stream",
     "text": [
      "Would you like to enter more products? Put Y for yes or anything else to stop n\n",
      "{'Brim': '1', 'Yankee': '69', 'Yankee with no brim': '69.01', 'Brim with no Yankee': '10.69', 'Brim with Yankee': '1.69', 'Yankee with brim': '69.10', 'Yankee with Yankee': '69.69', 'Brim with Brim': '420.69'}\n",
      "Please enter the name of the product you want to searchBrim\n",
      "The price of that item is 1.00\n",
      "Would you like to find more products?y\n",
      "Please enter the name of the product you want to searchNo brim with no Yankee\n",
      "This item is not present in the store\n",
      "Would you like to find more products?n\n"
     ]
    }
   ],
   "source": [
    "Answer=\"Y\"\n",
    "#Store={}\n",
    "while (Answer==\"Y\" or Answer==\"y\"):\n",
    "    #Product=input(\"Please enter the name of the product \")\n",
    "    #Price=input(\"Please enter the price \")\n",
    "    #Store[Product]= Price\n",
    "    Answer=input(\"Would you like to enter more products? Put Y for yes or anything else to stop \")\n",
    "print(Store)\n",
    "Answer=\"Y\"\n",
    "while (Answer==\"Y\" or Answer==\"y\"):\n",
    "    Search=input(\"Please enter the name of the product you want to search \")\n",
    "    if Search in Store:\n",
    "        print(\"The price of that item is {:.2f} \".format(float(Store[Search])))\n",
    "    else:\n",
    "        print(\"This item is not present in the store \")\n",
    "    Answer=input(\"Would you like to find more products? \")\n"
   ]
  },
  {
   "cell_type": "code",
   "execution_count": 51,
   "metadata": {},
   "outputs": [
    {
     "name": "stdout",
     "output_type": "stream",
     "text": [
      "Enter the price you want as a minimum 50.00\n",
      "Brim\n",
      "Brim with no Yankee\n",
      "Brim with Yankee\n"
     ]
    }
   ],
   "source": [
    "Limit=eval(input(\"Enter the price you want as a minimum \"))\n",
    "for keys in Store:\n",
    "    if float(Store[keys]) < Limit:\n",
    "        print(keys)"
   ]
  },
  {
   "cell_type": "code",
   "execution_count": 64,
   "metadata": {},
   "outputs": [
    {
     "name": "stdout",
     "output_type": "stream",
     "text": [
      "Enter the month desired December\n",
      "31\n",
      "['April', 'August', 'December', 'February', 'January', 'July', 'June', 'March', 'May', 'November', 'October', 'September']\n",
      "January\n",
      "March\n",
      "May\n",
      "July\n",
      "August\n",
      "October\n",
      "December\n",
      "[(28, 'February'), (30, 'April'), (30, 'June'), (30, 'November'), (30, 'September'), (31, 'August'), (31, 'December'), (31, 'January'), (31, 'July'), (31, 'March'), (31, 'May'), (31, 'October')]\n",
      "Enter the month desired Nov\n",
      "November\n"
     ]
    }
   ],
   "source": [
    "days={\"January\":31, \"February\":28, \"March\":31,\"April\":30, \"May\":31, \"June\":30, \"July\":31, \"August\":31, \"September\":30,\"October\":31,\"November\":30,\"December\":31}\n",
    "month=input(\"Enter the month desired \")\n",
    "print(days[month])\n",
    "organized=list(days)\n",
    "organized.sort()\n",
    "print(organized)\n",
    "for keys in days:\n",
    "    if days[keys]==31:\n",
    "        print(keys)\n",
    "alpha=list(days.items())\n",
    "alpha=[(i[1],i[0]) for i in alpha]\n",
    "alpha.sort()\n",
    "print(alpha)\n",
    "month=input(\"Enter the month desired \")\n",
    "for keys in days:\n",
    "    if keys[0:3]==month:\n",
    "        print(days[keys])\n",
    "    \n"
   ]
  },
  {
   "cell_type": "code",
   "execution_count": 63,
   "metadata": {},
   "outputs": [
    {
     "name": "stdout",
     "output_type": "stream",
     "text": [
      "Enter the month desired December\n",
      "Dec\n"
     ]
    }
   ],
   "source": [
    "month=input(\"Enter the month desired \")\n",
    "print(month[0:3])"
   ]
  },
  {
   "cell_type": "code",
   "execution_count": 71,
   "metadata": {},
   "outputs": [
    {
     "name": "stdout",
     "output_type": "stream",
     "text": [
      "Introduce the name of the account Brim\n",
      "Introduce the password of the account 1\n",
      "You are now logged in the system\n"
     ]
    }
   ],
   "source": [
    "Account={'Brim': '1', 'Yankee': '69', 'Yankee with no brim': '69.01', 'Brim with no Yankee': '10.69', 'Brim with Yankee': '1.69', 'Yankee with brim': '69.10', 'Yankee with Yankee': '69.69', 'Brim with Brim': '420.69'}\n",
    "Account[\"No Brim with no Yankee\"]=10.96\n",
    "Account[\"No Yankee with no Brim\"]=96.10\n",
    "guest=input(\"Introduce the name of the account \")\n",
    "password=input(\"Introduce the password of the account \")\n",
    "if guest not in Account:\n",
    "    print(\"Not a valid user of the system\")\n",
    "else:\n",
    "    if Account[guest]==password:\n",
    "        print(\"You are now logged in the system\")\n",
    "    else:\n",
    "        print(\"Invalid password\")"
   ]
  },
  {
   "cell_type": "code",
   "execution_count": 85,
   "metadata": {},
   "outputs": [
    {
     "name": "stdout",
     "output_type": "stream",
     "text": [
      "{'Bucks': [72.0, 11.0], 'Lakers': [81.0, 1.0], 'Clippers': [50.0, 49.0], 'Warriors': [34.0, 23.0], 'Suns': [37.0, 55.0], 'Bulls': [78.0, 5.0]}\n",
      "Please enter the name of the team you want to search Suns\n",
      "40.22\n",
      "[72.0, 81.0, 50.0, 34.0, 37.0, 78.0]\n",
      "['Bucks', 'Lakers', 'Clippers', 'Warriors', 'Bulls']\n"
     ]
    }
   ],
   "source": [
    "Answer=\"Y\"\n",
    "#Games={}\n",
    "#while (Answer==\"Y\" or Answer==\"y\"):\n",
    "    #Result=[]\n",
    "    #Teams=input(\"Please enter the name of the team \")\n",
    "    #Wins=float(input(\"Please enter the number of wins \"))\n",
    "    #Result.append(Wins)\n",
    "    #Loses=float(input(\"Please enter the number of loses \"))\n",
    "    #Result.append(Loses)\n",
    "    #Games[Teams]=Result\n",
    "    #Answer=input(\"Would you like to enter more teams? Put Y for yes or anything else to stop \")\n",
    "print(Games)\n",
    "Search=input(\"Please enter the name of the team you want to search \")\n",
    "if Search in Games:\n",
    "    Total=Games[Search][0]+ Games[Search][1]\n",
    "    Percentage=Games[Search][0]/Total*100\n",
    "    print(\"{:.2f}\".format(Percentage))\n",
    "else:\n",
    "    print(\"This team is not present in the dictionary \")\n",
    "Winning=[]\n",
    "Record=[]\n",
    "for keys in Games:\n",
    "    Winning.append(Games[keys][0])\n",
    "    if Games[keys][0]>Games[keys][1]:\n",
    "        Record.append(keys)\n",
    "print(Winning)\n",
    "print(Record)"
   ]
  },
  {
   "cell_type": "code",
   "execution_count": 93,
   "metadata": {},
   "outputs": [
    {
     "name": "stdout",
     "output_type": "stream",
     "text": [
      "Please enter the result of the games Clippers 1 - Bucks 101\n",
      "['Clippers', '1', '-', 'Bucks', '101']\n",
      "Would you like to enter more products? Put Y for yes or anything else to stop y\n",
      "Please enter the result of the games Lakers 420 - Clippers 69\n",
      "['Lakers', '420', '-', 'Clippers', '69']\n",
      "Would you like to enter more products? Put Y for yes or anything else to stop y\n",
      "Please enter the result of the games Warriors 360 - Clippers 2\n",
      "['Warriors', '360', '-', 'Clippers', '2']\n",
      "Would you like to enter more products? Put Y for yes or anything else to stop n\n"
     ]
    }
   ],
   "source": [
    "Answer=\"Y\"\n",
    "#Games={}\n",
    "while (Answer==\"Y\" or Answer==\"y\"):\n",
    "    Result=input(\"Please enter the result of the games \")\n",
    "    Resultslist=Result.split()\n",
    "    print(Resultslist)\n",
    "    if Resultslist[0] in Games:\n",
    "        if int(Resultslist[1])> int(Resultslist[4]):\n",
    "            Games[Resultslist[0]][0]+=1\n",
    "        else:\n",
    "            Games[Resultslist[0]][1]+=1\n",
    "    else:\n",
    "        Games[Resultslist[0]]=[0,0]\n",
    "        if int(Resultslist[1])> int(Resultslist[4]):\n",
    "            Games[Resultslist[0]][0]+=1\n",
    "        else:\n",
    "            Games[Resultslist[0]][1]+=1\n",
    "    if Resultslist[3] in Games:\n",
    "        if int(Resultslist[4])> int(Resultslist[1]):\n",
    "            Games[Resultslist[3]][0]+=1\n",
    "        else:\n",
    "            Games[Resultslist[3]][1]+=1\n",
    "    else:\n",
    "        Games[Resultslist[3]]=[0,0]\n",
    "        if int(Resultslist[4])> int(Resultslist[1]):\n",
    "            Games[Resultslist[3]][0]+=1\n",
    "        else:\n",
    "            Games[Resultslist[3]][1]+=1\n",
    "    Answer=input(\"Would you like to enter more products? Put Y for yes or anything else to stop \")\n"
   ]
  },
  {
   "cell_type": "code",
   "execution_count": 94,
   "metadata": {},
   "outputs": [
    {
     "name": "stdout",
     "output_type": "stream",
     "text": [
      "{'Bucks': [2, 1], 'Lakers': [2, 1], 'Clippers': [0, 3], 'Warriors': [1, 0]}\n"
     ]
    }
   ],
   "source": [
    "print(Games)"
   ]
  },
  {
   "cell_type": "code",
   "execution_count": 112,
   "metadata": {},
   "outputs": [
    {
     "name": "stdout",
     "output_type": "stream",
     "text": [
      "[[9, 1, 6, 5, 6], [8, 5, 2, 2, 6], [3, 9, 7, 2, 3], [2, 8, 0, 1, 6], [8, 7, 10, 2, 2]]\n",
      "{9: 2, 1: 2, 6: 4, 5: 2, 8: 3, 2: 6, 3: 2, 7: 2, 0: 1, 10: 1}\n",
      "[[1, 0], [1, 10], [2, 1], [2, 3], [2, 5], [2, 7], [2, 9], [3, 8], [4, 6], [6, 2]]\n",
      "2\n",
      "6\n",
      "8\n"
     ]
    }
   ],
   "source": [
    "from random import *\n",
    "Numbers={}\n",
    "lista=[[randint(0,10) for a in range(5)] for b in range (5)]\n",
    "print(lista)\n",
    "for a in range (5):\n",
    "    for b in range (5):\n",
    "        if lista[a][b] in Numbers:\n",
    "            Numbers[lista[a][b]]+=1\n",
    "        else:\n",
    "            Numbers[lista[a][b]]=1\n",
    "print(Numbers)\n",
    "organized=list(Numbers.items())\n",
    "organized=[[organized[i][1],organized[i][0]] for i in range(len(organized))]\n",
    "organized.sort()\n",
    "print(organized)\n",
    "for a in range(-1,-4,-1):\n",
    "    print(organized[a][1])\n"
   ]
  },
  {
   "cell_type": "code",
   "execution_count": 160,
   "metadata": {},
   "outputs": [
    {
     "name": "stdout",
     "output_type": "stream",
     "text": [
      "[{'value': 14, 'suit': 'diamonds'}, {'value': 5, 'suit': 'hearts'}, {'value': 2, 'suit': 'hearts'}]\n",
      "[{'value': 3, 'suit': 'hearts'}, {'value': 10, 'suit': 'diamonds'}, {'value': 4, 'suit': 'hearts'}]\n",
      "3\n",
      "3\n",
      "10\n",
      "10\n",
      "2\n",
      "4\n",
      "The second player won\n"
     ]
    }
   ],
   "source": [
    "deck = [{\"value\":i, \"suit\":c}\n",
    "for c in ['spades', 'clubs', 'hearts', 'diamonds']\n",
    "for i in range(2,15)]\n",
    "shuffle(deck)\n",
    "list1=deck[0:3]\n",
    "print(list1)\n",
    "list2=deck[3:6]\n",
    "print(list2)\n",
    "for a in range(3):\n",
    "    list1[0][\"value\"]=list2[0][\"value\"]\n",
    "    list1[1][\"value\"]=list2[1][\"value\"]\n",
    "    print(list1[a][\"value\"])\n",
    "    print(list2[a][\"value\"])\n",
    "    if list1[a][\"value\"]>list2[a][\"value\"]:\n",
    "        print(\"The first player won\")\n",
    "        break\n",
    "    else:\n",
    "        if list1[a][\"value\"]< list2[a][\"value\"]:\n",
    "            print(\"The second player won\")\n",
    "            break\n",
    "    if a==2:\n",
    "        print(\"The result was Tie\")\n"
   ]
  },
  {
   "cell_type": "code",
   "execution_count": 181,
   "metadata": {},
   "outputs": [
    {
     "name": "stdout",
     "output_type": "stream",
     "text": [
      "[{'value': 9, 'suit': 'hearts'}, {'value': 14, 'suit': 'diamonds'}, {'value': 10, 'suit': 'hearts'}]\n",
      "[9, 10, 14]\n",
      "[{'value': 9, 'suit': 'hearts'}, {'value': 14, 'suit': 'diamonds'}, {'value': 10, 'suit': 'hearts'}]\n",
      "0\n",
      "0\n",
      "0\n",
      "0\n"
     ]
    }
   ],
   "source": [
    "deck = [{\"value\":i, \"suit\":c}\n",
    "for c in ['spades', 'clubs', 'hearts', 'diamonds']\n",
    "for i in range(2,15)]\n",
    "shuffle(deck)\n",
    "lista=deck[0:3]\n",
    "print(lista)\n",
    "counta=0\n",
    "countb=0\n",
    "countc=0\n",
    "countd=0\n",
    "if lista[0][\"suit\"]==lista[1][\"suit\"]==lista[2][\"suit\"]:\n",
    "    counta=1\n",
    "if lista[0][\"value\"]==lista[1][\"value\"]==lista[2][\"value\"]:\n",
    "    countb=1\n",
    "else:\n",
    "    if (lista[0][\"value\"]==lista[1][\"value\"]) or (lista[0][\"value\"]==lista[2][\"value\"]) or (lista[2][\"value\"]==lista[1][\"value\"]):\n",
    "        countc=1\n",
    "collection=[]\n",
    "for a in range (3):\n",
    "    b=list(lista[a].values())\n",
    "    collection.append(b[0])\n",
    "collection.sort()\n",
    "print(collection)\n",
    "if (collection[1]-collection[0]==1) and (collection[2]-collection[1]==1):\n",
    "    countd=1\n",
    "print(lista)\n",
    "print(counta)\n",
    "print(countb)\n",
    "print(countc)\n",
    "print(countd)"
   ]
  },
  {
   "cell_type": "code",
   "execution_count": 190,
   "metadata": {},
   "outputs": [
    {
     "name": "stdout",
     "output_type": "stream",
     "text": [
      "1\n",
      "2\n",
      "3\n",
      "4\n",
      "5\n",
      "6\n",
      "7\n",
      "8\n",
      "9\n",
      "10\n",
      "11\n",
      "12\n",
      "13\n",
      "0.13\n"
     ]
    }
   ],
   "source": [
    "deck = [{\"value\":i, \"suit\":c}\n",
    "for c in ['spades', 'clubs', 'hearts', 'diamonds']\n",
    "for i in range(2,15)]\n",
    "counta=0\n",
    "for a in range (10000):\n",
    "    shuffle(deck)\n",
    "    lista=deck[0:5]\n",
    "    if lista[0][\"suit\"]==lista[1][\"suit\"]==lista[2][\"suit\"]==lista[3][\"suit\"]==lista[4][\"suit\"]:\n",
    "        counta+=1\n",
    "        print(counta)\n",
    "print(counta/10000*100)"
   ]
  },
  {
   "cell_type": "code",
   "execution_count": 196,
   "metadata": {},
   "outputs": [
    {
     "name": "stdout",
     "output_type": "stream",
     "text": [
      "Please introduce the word you want to encipher CXXK\n",
      "Please introduce the possible coding BOOK\n",
      "The coding is impossible because a letter substitutes itself\n"
     ]
    }
   ],
   "source": [
    "Alphabet={}\n",
    "original=input(\"Please introduce the word you want to encipher \")\n",
    "solution=input(\"Please introduce the possible coding \")\n",
    "if len(original)==len(solution):\n",
    "    for a in range(len(original)):\n",
    "        if original[a]==solution[a]:\n",
    "            print(\"The coding is impossible because a letter substitutes itself\")\n",
    "            break\n",
    "        else:\n",
    "            if original[a] not in Alphabet:\n",
    "                Alphabet[original[a]]=solution[a]\n",
    "            else:\n",
    "                if solution[a]!=Alphabet[original[a]]:\n",
    "                    print(\"The coding is invalid. Two letters point to the same one\")\n",
    "                    break\n",
    "        if a==len(original)-1:\n",
    "            print(\"The coding is valid \")\n",
    "else:\n",
    "    print(\"This coding is impossible as it has a different length than the original string\")"
   ]
  },
  {
   "cell_type": "code",
   "execution_count": 223,
   "metadata": {},
   "outputs": [
    {
     "name": "stdout",
     "output_type": "stream",
     "text": [
      "Enter the desired musical key E\n",
      "Please enter the desired chord [4,7,11]\n",
      "{'E': 0, 'F': 1, 'F#': 2, 'G': 3, 'G#': 4, 'A': 5, 'A#': 6, 'B': 7, 'B#': 8, 'C': 9, 'C#': 10, 'D': 11, 'D#': 12}\n",
      "G#\n",
      "B\n",
      "D\n"
     ]
    }
   ],
   "source": [
    "Chord={}\n",
    "notes=[\"C\",\"C#\",\"D\",\"D#\", \"E\", \"F\", \"F#\", \"G\", \"G#\", \"A\", \"A#\",\"B\",\"B#\",\"C\",\"C#\",\"D\",\"D#\", \"E\", \"F\", \"F#\", \"G\", \"G#\", \"A\", \"A#\",\"B\",\"B#\"]\n",
    "base=input(\"Enter the desired musical key \")\n",
    "note=eval(input(\"Please enter the desired chord \"))\n",
    "start=notes.index(base)\n",
    "newnotes=notes[start:]\n",
    "b=0\n",
    "for a in newnotes:\n",
    "    Chord[a]=newnotes.index(a)\n",
    "    b=b+1\n",
    "print(Chord)\n",
    "for c in note:\n",
    "    for keys in Chord:\n",
    "        if Chord[keys]==int(c):\n",
    "            print(keys)\n",
    "            break"
   ]
  },
  {
   "cell_type": "code",
   "execution_count": 239,
   "metadata": {},
   "outputs": [
    {
     "name": "stdout",
     "output_type": "stream",
     "text": [
      "Please enter the desired code *****b***\n",
      "{5: 'b'}\n",
      "aabaabac\n",
      "cabaabca\n",
      "aabacbab\n",
      "acababba\n"
     ]
    }
   ],
   "source": [
    "Info={}\n",
    "L = ['aabaabac', 'cabaabca', 'aaabbcba', 'aabacbab', 'acababba']\n",
    "code=input(\"Please enter the desired code \")\n",
    "codelist=[]\n",
    "for c in range(len(code)):\n",
    "    if code[c]!=\"*\":\n",
    "        Info[c]=code[c]\n",
    "print(Info)\n",
    "for a in range(len(L)):\n",
    "    available=1\n",
    "    for key in Info:\n",
    "        if L[a][key]!=Info[key]:\n",
    "            available=0\n",
    "            break\n",
    "    if (available==1):\n",
    "        print(L[a])"
   ]
  },
  {
   "cell_type": "code",
   "execution_count": 249,
   "metadata": {},
   "outputs": [
    {
     "name": "stdout",
     "output_type": "stream",
     "text": [
      "The people whose number end in 8 are\n",
      "Helga\n",
      "LJ\n",
      "The people who do not have an email\n",
      "Princess\n"
     ]
    }
   ],
   "source": [
    "d=[{'name':'Todd', 'phone':'555-1414', 'email':'todd@mail.net'},\n",
    "{'name':'Helga', 'phone':'555-1618', 'email':'helga@mail.net'},\n",
    "{'name':'Princess', 'phone':'555-3141', 'email':''},\n",
    "{'name':'LJ', 'phone':'555-2718', 'email':'lj@mail.net'}]\n",
    "print(\"The people whose number end in 8 are\")\n",
    "for a in range(len(d)):\n",
    "    if(d[a][\"phone\"][-1]==\"8\"):\n",
    "        print(d[a][\"name\"])\n",
    "print(\"The people who do not have an email\")\n",
    "for a in range(len(d)):\n",
    "    if(d[a][\"email\"]==\"\"):\n",
    "        print(d[a][\"name\"])"
   ]
  },
  {
   "cell_type": "code",
   "execution_count": 250,
   "metadata": {},
   "outputs": [
    {
     "name": "stdout",
     "output_type": "stream",
     "text": [
      "Enter the hour: 11:48am\n",
      "Enter the current timezone Central\n",
      "Enter the desired timezone Eastern\n",
      "The new hour is 12:48pm\n"
     ]
    }
   ],
   "source": [
    "Timezones={\"Eastern\": 0,\"Central\":-1,\"Mountain\":-2,\"Pacific\":-3}\n",
    "string=input(\"Enter the hour: \")\n",
    "a=len(string)\n",
    "half=string[-2::1]\n",
    "minutes=string[-5:-2:1]\n",
    "hour=string[:-5:1]\n",
    "if half==\"pm\" and (hour!=\"12\"):\n",
    "    hour=str(int(hour)+12)\n",
    "oldzone=input(\"Enter the current timezone \")\n",
    "newzone=input(\"Enter the desired timezone \")\n",
    "hour=int(hour)+(Timezones[newzone]-Timezones[oldzone])\n",
    "hour=hour%24\n",
    "if (hour%12==0):\n",
    "    hour=hour+12\n",
    "if hour<=12:\n",
    "    print(\"The new hour is \",str(hour),minutes,\"am\",sep=\"\")\n",
    "else:\n",
    "    hour=hour-12\n",
    "    print(\"The new hour is \",str(hour),minutes,\"pm\",sep=\"\")"
   ]
  },
  {
   "cell_type": "code",
   "execution_count": 14,
   "metadata": {},
   "outputs": [
    {
     "name": "stdout",
     "output_type": "stream",
     "text": [
      "Introduce the desired roman numeral DCLXXIV\n",
      "674\n"
     ]
    }
   ],
   "source": [
    "roman=input(\"Introduce the desired roman numeral \")\n",
    "total=0\n",
    "Romans={\"M\":1000,\"D\":500,\"C\":100,\"L\":50,\"X\":10,\"V\":5,\"I\":1}\n",
    "for a in range(len(roman)):\n",
    "    if (a!=len(roman)-1) and ((roman[a]==\"C\" and roman[a+1]==\"M\") or (roman[a]==\"C\" and roman[a+1]==\"D\") or (roman[a]==\"X\" and roman[a+1]==\"C\") or (roman[a]==\"X\" and roman[a+1]==\"L\")or(roman[a]==\"I\" and roman[a+1]==\"X\")or(roman[a]==\"I\" and roman[a+1]==\"V\")):\n",
    "            total=total-Romans[roman[a]]\n",
    "    else:\n",
    "        total=total+Romans[roman[a]]\n",
    "print(total)"
   ]
  },
  {
   "cell_type": "code",
   "execution_count": 27,
   "metadata": {},
   "outputs": [
    {
     "name": "stdout",
     "output_type": "stream",
     "text": [
      "Introduce the desired normal numeral 1895\n",
      "MDCCCXCV\n"
     ]
    }
   ],
   "source": [
    "arabic=input(\"Introduce the desired normal numeral \")\n",
    "Romans={\"M\":1000,\"D\":500,\"C\":100,\"L\":50,\"X\":10,\"V\":5,\"I\":1}\n",
    "roman=\"\"\n",
    "a=4-len(arabic)\n",
    "b=0\n",
    "needed=int(arabic[b])\n",
    "while (a<4):\n",
    "    if a==0:\n",
    "        if needed>3:\n",
    "            print(\"This number is not possible with the available letters\")\n",
    "        else:\n",
    "            if needed>0:\n",
    "                roman=roman+\"M\"\n",
    "                needed=needed-1\n",
    "            else:\n",
    "                a=a+1\n",
    "                b=b+1\n",
    "                if b<=len(arabic)-1:\n",
    "                    needed=int(arabic[b])\n",
    "    if a==1:\n",
    "        if needed==9:\n",
    "            roman=roman+\"CM\"\n",
    "            needed=0\n",
    "        else:\n",
    "            if needed>=5:\n",
    "                roman=roman+\"D\"\n",
    "                needed=needed-5\n",
    "            else:\n",
    "                if needed==4:\n",
    "                    roman=roman+\"CD\"\n",
    "                    needed=0\n",
    "                else:\n",
    "                    if needed>0:\n",
    "                        roman=roman+\"C\"\n",
    "                        needed=needed-1\n",
    "                    else:\n",
    "                        a=a+1\n",
    "                        b=b+1\n",
    "                        if b<=len(arabic)-1:\n",
    "                            needed=int(arabic[b])\n",
    "    if a==2:\n",
    "        if needed==9:\n",
    "            roman=roman+\"XC\"\n",
    "            needed=0\n",
    "        else:\n",
    "            if needed>=5:\n",
    "                roman=roman+\"L\"\n",
    "                needed=needed-5\n",
    "            else:\n",
    "                if needed==4:\n",
    "                    roman=roman+\"XL\"\n",
    "                    needed=0\n",
    "                else:\n",
    "                    if needed>0:\n",
    "                        roman=roman+\"X\"\n",
    "                        needed=needed-1\n",
    "                    else:\n",
    "                        a=a+1\n",
    "                        b=b+1\n",
    "                        if b<=len(arabic)-1:\n",
    "                            needed=int(arabic[b])\n",
    "    if a==3:\n",
    "        if needed==9:\n",
    "            roman=roman+\"IX\"\n",
    "            needed=0\n",
    "        else:\n",
    "            if needed>=5:\n",
    "                roman=roman+\"V\"\n",
    "                needed=needed-5\n",
    "            else:\n",
    "                if needed==4:\n",
    "                    roman=roman+\"IV\"\n",
    "                    needed=0\n",
    "                else:\n",
    "                    if needed>0:\n",
    "                        roman=roman+\"I\"\n",
    "                        needed=needed-1\n",
    "                    else:\n",
    "                        a=a+1\n",
    "                        b=b+1\n",
    "                        if b<=len(arabic)-1:\n",
    "                            needed=int(arabic[b])\n",
    "print(roman)"
   ]
  },
  {
   "cell_type": "code",
   "execution_count": null,
   "metadata": {},
   "outputs": [],
   "source": []
  }
 ],
 "metadata": {
  "kernelspec": {
   "display_name": "Python 3",
   "language": "python",
   "name": "python3"
  },
  "language_info": {
   "codemirror_mode": {
    "name": "ipython",
    "version": 3
   },
   "file_extension": ".py",
   "mimetype": "text/x-python",
   "name": "python",
   "nbconvert_exporter": "python",
   "pygments_lexer": "ipython3",
   "version": "3.8.5"
  }
 },
 "nbformat": 4,
 "nbformat_minor": 4
}
