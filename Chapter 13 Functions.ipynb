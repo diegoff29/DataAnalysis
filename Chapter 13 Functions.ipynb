{
 "cells": [
  {
   "cell_type": "code",
   "execution_count": 1,
   "metadata": {},
   "outputs": [
    {
     "name": "stdout",
     "output_type": "stream",
     "text": [
      "hello\n"
     ]
    }
   ],
   "source": [
    "def print_hello():\n",
    "    print(\"hello\")\n",
    "print_hello()\n"
   ]
  },
  {
   "cell_type": "code",
   "execution_count": 4,
   "metadata": {},
   "outputs": [
    {
     "name": "stdout",
     "output_type": "stream",
     "text": [
      "hello hello hello \n"
     ]
    }
   ],
   "source": [
    "def print_hello(n):\n",
    "    print(\"hello \"*n)\n",
    "print_hello(3)\n"
   ]
  },
  {
   "cell_type": "code",
   "execution_count": 6,
   "metadata": {},
   "outputs": [
    {
     "name": "stdout",
     "output_type": "stream",
     "text": [
      "68.0\n"
     ]
    }
   ],
   "source": [
    "def convert(t):\n",
    "    return t*1.8+32\n",
    "print(convert(20))"
   ]
  },
  {
   "cell_type": "code",
   "execution_count": 9,
   "metadata": {},
   "outputs": [
    {
     "name": "stdout",
     "output_type": "stream",
     "text": [
      "0\n",
      "1\n",
      "2\n",
      "3\n",
      "4\n",
      "5\n",
      "6\n",
      "7\n",
      "8\n",
      "9\n",
      "0\n",
      "1\n",
      "2\n",
      "3\n",
      "4\n",
      "5\n",
      "6\n",
      "7\n",
      "8\n",
      "9\n",
      "100\n"
     ]
    }
   ],
   "source": [
    "def func1():\n",
    "    for i in range(10):\n",
    "        print(i)\n",
    "def func2():\n",
    "    i=100\n",
    "    func1()\n",
    "    print(i)\n",
    "func1()\n",
    "func2()\n"
   ]
  },
  {
   "cell_type": "code",
   "execution_count": 13,
   "metadata": {},
   "outputs": [
    {
     "name": "stdout",
     "output_type": "stream",
     "text": [
      "4\n",
      "[1, 2, 3, 1]\n",
      "3\n",
      "[1, 2, 3]\n"
     ]
    }
   ],
   "source": [
    "def func1(x):\n",
    "    x = x + 1\n",
    "    return x\n",
    "def func2(L):\n",
    "    copy = L[:]\n",
    "    copy = copy + [1]\n",
    "    return copy\n",
    "a=3\n",
    "M=[1,2,3]\n",
    "print(func1(a))\n",
    "print(func2(M))\n",
    "print(a)\n",
    "print(M)"
   ]
  },
  {
   "cell_type": "code",
   "execution_count": 20,
   "metadata": {},
   "outputs": [
    {
     "name": "stdout",
     "output_type": "stream",
     "text": [
      "*****\n",
      "*****\n",
      "*****\n",
      "\n"
     ]
    }
   ],
   "source": [
    "def rectangle(m,n):\n",
    "    print((\"*\"*n+\"\\n\")*m)\n",
    "rectangle(3,5)"
   ]
  },
  {
   "cell_type": "code",
   "execution_count": 23,
   "metadata": {},
   "outputs": [
    {
     "name": "stdout",
     "output_type": "stream",
     "text": [
      "['Hello!!', 'my!!', 'name!!', 'is!!', 'Diego!!']\n"
     ]
    }
   ],
   "source": [
    "L=[\"Hello\",\"my\",\"name\",\"is\",\"Diego\"]\n",
    "def add_excitement():\n",
    "    for a in range(len(L)):\n",
    "        L[a]=L[a]+\"!\"\n",
    "add_excitement()\n",
    "add_excitement()\n",
    "print(L)"
   ]
  },
  {
   "cell_type": "code",
   "execution_count": 25,
   "metadata": {},
   "outputs": [
    {
     "name": "stdout",
     "output_type": "stream",
     "text": [
      "['Hello!', 'my!', 'name!', 'is!', 'Diego!']\n"
     ]
    }
   ],
   "source": [
    "L=[\"Hello\",\"my\",\"name\",\"is\",\"Diego\"]\n",
    "def add_excitement():\n",
    "    copy=L[:]\n",
    "    for a in range(len(copy)):\n",
    "        copy[a]=copy[a]+\"!\"\n",
    "    return copy\n",
    "print(add_excitement())\n"
   ]
  },
  {
   "cell_type": "code",
   "execution_count": 28,
   "metadata": {},
   "outputs": [
    {
     "name": "stdout",
     "output_type": "stream",
     "text": [
      "46\n"
     ]
    }
   ],
   "source": [
    "\n",
    "def sum_digits(n):\n",
    "    string=str(n)\n",
    "    total=0\n",
    "    for a in range(len(string)):\n",
    "        total=total+int(string[a])\n",
    "    return total\n",
    "print(sum_digits(13133587429))"
   ]
  },
  {
   "cell_type": "code",
   "execution_count": 35,
   "metadata": {},
   "outputs": [
    {
     "name": "stdout",
     "output_type": "stream",
     "text": [
      "88\n",
      "16\n",
      "7\n",
      "7\n"
     ]
    }
   ],
   "source": [
    "def sum_digits(n):\n",
    "    string=str(n)\n",
    "    total=0\n",
    "    for a in range(len(string)):\n",
    "        total=total+int(string[a])\n",
    "    return total\n",
    "def digital_root(n):\n",
    "    string=str(n)\n",
    "    while len(string)!=1:\n",
    "        n=sum_digits(n)\n",
    "        print(n)\n",
    "        string=str(n)\n",
    "    return n\n",
    "print(digital_root(131233709797987156))\n",
    "            "
   ]
  },
  {
   "cell_type": "code",
   "execution_count": 50,
   "metadata": {},
   "outputs": [
    {
     "name": "stdout",
     "output_type": "stream",
     "text": [
      "-1\n"
     ]
    }
   ],
   "source": [
    "def first_diff(str1,str2):\n",
    "    less=min(len(str1),len(str2))\n",
    "    if str1==str2:\n",
    "        return -1\n",
    "    else:\n",
    "        for a in range(less):\n",
    "            if str1[a]!=str2[a]:\n",
    "                return a+1\n",
    "            if a==less-1:\n",
    "                print(\"Same start. Different length \")\n",
    "                return a+1\n",
    "print(first_diff(\"pepa\",\"pepa\"))"
   ]
  },
  {
   "cell_type": "code",
   "execution_count": 65,
   "metadata": {},
   "outputs": [
    {
     "name": "stdout",
     "output_type": "stream",
     "text": [
      "21.0\n"
     ]
    }
   ],
   "source": [
    "def factorial(a):\n",
    "    total=1\n",
    "    while(a>0):\n",
    "        total=total*a\n",
    "        a=a-1\n",
    "    return total\n",
    "def binom (n,k):\n",
    "    coeff=factorial(n)/(factorial(k)*factorial(n-k))\n",
    "    return coeff\n",
    "print(binom(7,5))\n"
   ]
  },
  {
   "cell_type": "code",
   "execution_count": 83,
   "metadata": {},
   "outputs": [
    {
     "name": "stdout",
     "output_type": "stream",
     "text": [
      "369125\n"
     ]
    }
   ],
   "source": [
    "from random import *\n",
    "def digits(n):\n",
    "    x=randrange(10**(n-1),10**n)\n",
    "    return x\n",
    "print(digits(6))"
   ]
  },
  {
   "cell_type": "code",
   "execution_count": 91,
   "metadata": {},
   "outputs": [
    {
     "name": "stdout",
     "output_type": "stream",
     "text": [
      "7\n"
     ]
    }
   ],
   "source": [
    "def number_of_factors(n):\n",
    "    x=0\n",
    "    for a in range(1,n+1):\n",
    "        if n%a==0:\n",
    "            x+=1\n",
    "    return x\n",
    "print(number_of_factors(64))"
   ]
  },
  {
   "cell_type": "code",
   "execution_count": 95,
   "metadata": {},
   "outputs": [
    {
     "name": "stdout",
     "output_type": "stream",
     "text": [
      "[1, 5, 25]\n"
     ]
    }
   ],
   "source": [
    "def factors(n):\n",
    "    lista=[]\n",
    "    for a in range(1,n+1):\n",
    "        if n%a==0:\n",
    "            lista.append(a)\n",
    "    return lista\n",
    "print(factors(25))"
   ]
  },
  {
   "cell_type": "code",
   "execution_count": 2,
   "metadata": {},
   "outputs": [
    {
     "name": "stdout",
     "output_type": "stream",
     "text": [
      "24\n"
     ]
    }
   ],
   "source": [
    "L=[1,3,4,6,8,10,24,65,32,45,4,5,6]\n",
    "def closest(lista,n):\n",
    "    lista.sort()\n",
    "    a=-1\n",
    "    while (a>=-len(lista)):\n",
    "        if lista[a]>n:\n",
    "            a=a-1\n",
    "        else:\n",
    "            return lista[a]\n",
    "print(closest(L,31))"
   ]
  },
  {
   "cell_type": "markdown",
   "metadata": {},
   "source": [
    "def methods (str1,str2) "
   ]
  },
  {
   "cell_type": "code",
   "execution_count": 9,
   "metadata": {},
   "outputs": [
    {
     "name": "stdout",
     "output_type": "stream",
     "text": [
      "3\n"
     ]
    }
   ],
   "source": [
    "def matches (str1,str2):\n",
    "    less=min(len(str1),len(str2))\n",
    "    common=0\n",
    "    for a in range(less):\n",
    "        if str1[a]==str2[a]:\n",
    "            common+=1\n",
    "    return common\n",
    "print(matches(\"python\",\"prihiny\"))"
   ]
  },
  {
   "cell_type": "code",
   "execution_count": 14,
   "metadata": {},
   "outputs": [
    {
     "name": "stdout",
     "output_type": "stream",
     "text": [
      "[9, 23]\n"
     ]
    }
   ],
   "source": [
    "def findall(string,letter):\n",
    "    number=[]\n",
    "    for a in range(len(string)):\n",
    "        if string[a]==letter:\n",
    "            number.append(a+1)\n",
    "    return number\n",
    "print(findall(\"Diego Francisco Herrera Rowley\",\"a\"))"
   ]
  },
  {
   "cell_type": "code",
   "execution_count": 20,
   "metadata": {},
   "outputs": [
    {
     "name": "stdout",
     "output_type": "stream",
     "text": [
      "pANamA\n"
     ]
    }
   ],
   "source": [
    "def change_case(string):\n",
    "    newstring=\"\"\n",
    "    for a in range(len(string)):\n",
    "        if string[a].islower():\n",
    "            newstring=newstring+string[a].upper()\n",
    "        else:\n",
    "            newstring=newstring+string[a].lower()\n",
    "    return newstring\n",
    "print(change_case(\"PanAMa\"))\n",
    "    "
   ]
  },
  {
   "cell_type": "code",
   "execution_count": 22,
   "metadata": {},
   "outputs": [
    {
     "name": "stdout",
     "output_type": "stream",
     "text": [
      "False\n"
     ]
    }
   ],
   "source": [
    "L=[1,2,3,4,4,5,6,7]\n",
    "M=[3,4,2,5,3,2,3,5]\n",
    "def is_sorted(lista):\n",
    "    copy=lista[:]\n",
    "    copy.sort()\n",
    "    for a in range(len(lista)):\n",
    "        if lista[a]!=copy[a]:\n",
    "            return False\n",
    "    else:\n",
    "        return True\n",
    "print(is_sorted(M))"
   ]
  },
  {
   "cell_type": "code",
   "execution_count": 28,
   "metadata": {},
   "outputs": [
    {
     "name": "stdout",
     "output_type": "stream",
     "text": [
      "8.0\n"
     ]
    }
   ],
   "source": [
    "def root(number,exponent=2):\n",
    "    if exponent==0:\n",
    "        print(\"Impossible to divide 1 over 0\")\n",
    "    else:\n",
    "        x=number**(1/exponent)\n",
    "        return x\n",
    "print(root(64))"
   ]
  },
  {
   "cell_type": "code",
   "execution_count": 35,
   "metadata": {},
   "outputs": [
    {
     "name": "stdout",
     "output_type": "stream",
     "text": [
      "False\n"
     ]
    }
   ],
   "source": [
    "def one_away(str1,str2):\n",
    "    if len(str1)==len(str2):\n",
    "        mistakes=0\n",
    "        for a in range(len(str1)):\n",
    "            if str1[a]!=str2[a]:\n",
    "                mistakes+=1\n",
    "        if mistakes==1:\n",
    "            return True\n",
    "        else:\n",
    "            return False\n",
    "    else:\n",
    "        return False\n",
    "print(one_away(\"hike\",\"bake\"))"
   ]
  },
  {
   "cell_type": "code",
   "execution_count": 66,
   "metadata": {},
   "outputs": [
    {
     "name": "stdout",
     "output_type": "stream",
     "text": [
      "100\n",
      "[2, 3, 5, 7, 11, 13, 17, 19, 23, 29, 31, 37, 41, 43, 47, 53, 59, 61, 67, 71, 73, 79, 83, 89, 97, 101, 103, 107, 109, 113, 127, 131, 137, 139, 149, 151, 157, 163, 167, 173, 179, 181, 191, 193, 197, 199, 211, 223, 227, 229, 233, 239, 241, 251, 257, 263, 269, 271, 277, 281, 283, 293, 307, 311, 313, 317, 331, 337, 347, 349, 353, 359, 367, 373, 379, 383, 389, 397, 401, 409, 419, 421, 431, 433, 439, 443, 449, 457, 461, 463, 467, 479, 487, 491, 499, 503, 509, 521, 523, 541, 547]\n"
     ]
    }
   ],
   "source": [
    "\n",
    "def primes(no=100):\n",
    "    print(no)\n",
    "    number=0\n",
    "    a=2\n",
    "    List=[]\n",
    "    while(number<=no):\n",
    "        for b in range(2,a):\n",
    "            if a%b==0:\n",
    "                break\n",
    "        else:\n",
    "            List.append(a)\n",
    "            number+=1\n",
    "        a=a+1\n",
    "    return List\n",
    "print(primes())"
   ]
  },
  {
   "cell_type": "code",
   "execution_count": 70,
   "metadata": {},
   "outputs": [
    {
     "name": "stdout",
     "output_type": "stream",
     "text": [
      "50\n",
      "[13, 17, 19, 23, 29, 31, 37, 41, 43, 47, 53, 59, 61, 67, 71, 73, 79, 83, 89, 97, 101, 103, 107, 109, 113, 127, 131, 137, 139, 149, 151, 157, 163, 167, 173, 179, 181, 191, 193, 197, 199, 211, 223, 227, 229, 233, 239, 241, 251, 257, 263]\n"
     ]
    }
   ],
   "source": [
    "\n",
    "def primes(start=2,no=100):\n",
    "    print(no)\n",
    "    number=0\n",
    "    a=start\n",
    "    List=[]\n",
    "    while(number<=no):\n",
    "        for b in range(2,a):\n",
    "            if a%b==0:\n",
    "                break\n",
    "        else:\n",
    "            List.append(a)\n",
    "            number+=1\n",
    "        a=a+1\n",
    "    return List\n",
    "print(primes(13,50))"
   ]
  },
  {
   "cell_type": "code",
   "execution_count": 97,
   "metadata": {},
   "outputs": [
    {
     "name": "stdout",
     "output_type": "stream",
     "text": [
      "BATKDTSK\n"
     ]
    }
   ],
   "source": [
    "from math import *\n",
    "def base20(integer):\n",
    "    Dict=\"ABCDEFGHIJKLMNOPQRST\"\n",
    "    full=\"\"\n",
    "    ready=0\n",
    "    while(ready!=1):\n",
    "        remainder=int(integer%20)\n",
    "        full=full+Dict[remainder]\n",
    "        integer=(integer-remainder)/20\n",
    "        if integer==0:\n",
    "            ready=1\n",
    "    full=full[-1::-1]\n",
    "    return full\n",
    "print(base20(1342431970))"
   ]
  },
  {
   "cell_type": "code",
   "execution_count": 98,
   "metadata": {},
   "outputs": [
    {
     "name": "stdout",
     "output_type": "stream",
     "text": [
      "Verbose ya lo hiciste en C++\n"
     ]
    }
   ],
   "source": [
    "print(\"Verbose ya lo hiciste en C++\")"
   ]
  },
  {
   "cell_type": "code",
   "execution_count": 100,
   "metadata": {},
   "outputs": [
    {
     "name": "stdout",
     "output_type": "stream",
     "text": [
      "[1, 2, 2, 2, 2, 2, 2, 3, 3, 3, 4, 5, 5, 5, 6, 6, 7, 7, 8, 9, 9]\n"
     ]
    }
   ],
   "source": [
    "L=[1,2,2,2,3,3,3,5,5,8]\n",
    "M=[1,2,3,4,7,8,9]\n",
    "def merge (list1,list2):\n",
    "    largest=max(len(list1),len(list2))\n",
    "    if len(list2)>len(list1):\n",
    "        a=list2[:]\n",
    "        b=list1[:]\n",
    "    else:\n",
    "        a=list1[:]\n",
    "        b=list2[:]\n",
    "    for a in range(largest)\n",
    "print(merge(L,M))"
   ]
  },
  {
   "cell_type": "code",
   "execution_count": 101,
   "metadata": {},
   "outputs": [
    {
     "ename": "IndentationError",
     "evalue": "expected an indented block (<ipython-input-101-6b47d98c07c2>, line 9)",
     "output_type": "error",
     "traceback": [
      "\u001b[1;36m  File \u001b[1;32m\"<ipython-input-101-6b47d98c07c2>\"\u001b[1;36m, line \u001b[1;32m9\u001b[0m\n\u001b[1;33m    copy.sort()\u001b[0m\n\u001b[1;37m    ^\u001b[0m\n\u001b[1;31mIndentationError\u001b[0m\u001b[1;31m:\u001b[0m expected an indented block\n"
     ]
    }
   ],
   "source": [
    "L=[1,2,5,3,2,5,3,2,5,2,3]\n",
    "M=[6,7,2,4,6,9,9,2,8,7]\n",
    "def merge (list1,list2):\n",
    "    copy=L[:]+M[:]\n",
    "    sorting=[]\n",
    "    for a in range(len(copy)):\n",
    "        for b in range(len(copy)):\n",
    "            \n",
    "    copy.sort()\n",
    "    return copy\n",
    "print(merge(L,M))"
   ]
  },
  {
   "cell_type": "code",
   "execution_count": 122,
   "metadata": {},
   "outputs": [
    {
     "name": "stdout",
     "output_type": "stream",
     "text": [
      "[[0, 1, 2], [1, 0, 2], [2, 0, 1]]\n"
     ]
    }
   ],
   "source": [
    "from random import *\n",
    "Matrix=[[0,1,2],[1,0,2],[0,0,1]]\n",
    "def TicTacToeAdd(matrix):\n",
    "    Disponible=[]\n",
    "    for a in range(3):\n",
    "        for b in range(3):\n",
    "            if Matrix[a][b]==0:\n",
    "                Disponible.append([a,b])\n",
    "    choice=randint(0,len(Disponible)-1)\n",
    "    Matrix[Disponible[choice][0]][Disponible[choice][1]]=2\n",
    "    return Matrix\n",
    "print(TicTacToeAdd(Matrix))"
   ]
  },
  {
   "cell_type": "code",
   "execution_count": 135,
   "metadata": {},
   "outputs": [
    {
     "name": "stdout",
     "output_type": "stream",
     "text": [
      "False\n"
     ]
    }
   ],
   "source": [
    "from random import *\n",
    "Matrix=[[2,1,0],[1,0,2],[0,1,2]]\n",
    "def TicTacToeWin(matrix):\n",
    "    Row1=0\n",
    "    Row2=0\n",
    "    Column1=0\n",
    "    Column2=0\n",
    "    Diagonal1=0\n",
    "    Diagonal2=0\n",
    "    Win1=0\n",
    "    Win2=0\n",
    "    for a in range(3):\n",
    "        if Matrix[a][0]==Matrix[a][1]==Matrix[a][2]==1:\n",
    "            Column1=1\n",
    "            print(\"The first player won\")\n",
    "        if Matrix[a][0]==Matrix[a][1]==Matrix[a][2]==2:\n",
    "            Column2=1\n",
    "            print(\"The second player won\")\n",
    "    for b in range(3):\n",
    "        if Matrix[0][b]==Matrix[1][b]==Matrix[2][b]==1:\n",
    "            Row1=1\n",
    "            print(\"The first player won\")\n",
    "        if Matrix[0][b]==Matrix[1][b]==Matrix[2][b]==2:\n",
    "            Row2=1\n",
    "            print(\"The second player won\")\n",
    "    if (Matrix[0][0]==Matrix[1][1]==Matrix[2][2]==1) or (Matrix[2][0]==Matrix[1][1]==Matrix[0][2]==1):\n",
    "            Diagona1=1\n",
    "            print(\"The first player won\")\n",
    "    if (Matrix[0][0]==Matrix[1][1]==Matrix[2][2]==2) or (Matrix[2][0]==Matrix[1][1]==Matrix[0][2]==2):\n",
    "            Diagonal2=1\n",
    "            print(\"The second player won\")\n",
    "    if Row1==1 or Column1==1 or Diagonal1==1:\n",
    "        Win1=1\n",
    "    if Row2==1 or Column2==1 or Diagonal2==1:\n",
    "        Win2=1\n",
    "    if Win1!=Win2:\n",
    "        return True\n",
    "    else:\n",
    "        return False\n",
    "print(TicTacToeWin(Matrix))"
   ]
  },
  {
   "cell_type": "code",
   "execution_count": 136,
   "metadata": {},
   "outputs": [
    {
     "ename": "SyntaxError",
     "evalue": "invalid syntax (<ipython-input-136-f84747b48c8a>, line 1)",
     "output_type": "error",
     "traceback": [
      "\u001b[1;36m  File \u001b[1;32m\"<ipython-input-136-f84747b48c8a>\"\u001b[1;36m, line \u001b[1;32m1\u001b[0m\n\u001b[1;33m    sudoku= 3 1 6 5 7 8 4 9 2\u001b[0m\n\u001b[1;37m              ^\u001b[0m\n\u001b[1;31mSyntaxError\u001b[0m\u001b[1;31m:\u001b[0m invalid syntax\n"
     ]
    }
   ],
   "source": [
    "sudoku= [\"3 1 6 5 7 8 4 9 2\"\n",
    "5 2 9 1 3 4 7 6 8\n",
    "4 8 7 6 2 9 5 3 1\n",
    "2 6 3 4 1 5 9 8 7\n",
    "9 7 4 8 6 3 1 2 5\n",
    "8 5 1 7 9 2 6 4 3\n",
    "1 3 8 9 4 7 2 5 6\n",
    "6 9 2 3 5 1 8 7 4\n",
    "7 4 5 2 8 6 3 1 9]\n",
    "ine=sudoku.strip()"
   ]
  },
  {
   "cell_type": "code",
   "execution_count": null,
   "metadata": {},
   "outputs": [],
   "source": []
  }
 ],
 "metadata": {
  "kernelspec": {
   "display_name": "Python 3",
   "language": "python",
   "name": "python3"
  },
  "language_info": {
   "codemirror_mode": {
    "name": "ipython",
    "version": 3
   },
   "file_extension": ".py",
   "mimetype": "text/x-python",
   "name": "python",
   "nbconvert_exporter": "python",
   "pygments_lexer": "ipython3",
   "version": "3.8.5"
  }
 },
 "nbformat": 4,
 "nbformat_minor": 4
}
