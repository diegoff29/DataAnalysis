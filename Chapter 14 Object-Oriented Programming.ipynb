{
 "cells": [
  {
   "cell_type": "code",
   "execution_count": 5,
   "metadata": {},
   "outputs": [
    {
     "name": "stdout",
     "output_type": "stream",
     "text": [
      "14\n"
     ]
    }
   ],
   "source": [
    "class Example:\n",
    "    #Always include _init and .self. Init is a constructor. Self needs to be used for every local variable\n",
    "    def __init__(self,a,b):\n",
    "        self.a=a\n",
    "        self.b=b\n",
    "    def add(self):\n",
    "        return self.a + self.b\n",
    "e=Example(8,6) # Before using method\n",
    "print(e.add())"
   ]
  },
  {
   "cell_type": "code",
   "execution_count": 4,
   "metadata": {},
   "outputs": [
    {
     "name": "stdout",
     "output_type": "stream",
     "text": [
      "['this', 'is', 'a', 'test', 'of', 'the', 'class']\n",
      "Number of words: 7\n",
      "Number of words starting with \"t\": 3\n",
      "Number of 2-letter words: 2\n"
     ]
    }
   ],
   "source": [
    "from string import punctuation\n",
    "class Analyzer:\n",
    "    def __init__(self, s):\n",
    "        for c in punctuation:\n",
    "            s = s.replace(c,'')\n",
    "        s = s.lower()\n",
    "        self.words = s.split()\n",
    "    def number_of_words(self):\n",
    "        return len(self.words)\n",
    "    def starts_with(self, s):\n",
    "        return len([w for w in self.words if w[:len(s)]==s])\n",
    "    def number_with_length(self, n):\n",
    "        return len([w for w in self.words if len(w)==n])\n",
    "s = 'This is a test of the class.'\n",
    "analyzer = Analyzer(s)#How to call the class. Not write self\n",
    "print(analyzer.words)\n",
    "print('Number of words:', analyzer.number_of_words())\n",
    "print('Number of words starting with \"t\":', analyzer.starts_with('t'))\n",
    "print('Number of 2-letter words:', analyzer.number_with_length(2))\n"
   ]
  },
  {
   "cell_type": "code",
   "execution_count": 7,
   "metadata": {},
   "outputs": [
    {
     "name": "stdout",
     "output_type": "stream",
     "text": [
      "Tacos\n",
      "Mexican\n",
      "The name of the restaurant is Tacos and the type is Mexican\n",
      "The restaurant Tacos is now open\n"
     ]
    }
   ],
   "source": [
    "class Restaurant():\n",
    "    def __init__(self,name,type):\n",
    "        self.name=name\n",
    "        self.type=type\n",
    "    def describe_restaurant(self):\n",
    "        print(\"The name of the restaurant is \"+self.name+\" and the type is \"+self.type)\n",
    "    def open_restaurant(self):\n",
    "        print(\"The restaurant \"+self.name+\" is now open\")\n",
    "        \n",
    "Nuevo= Restaurant(\"Tacos\",\"Mexican\")\n",
    "print(Nuevo.name)\n",
    "print(Nuevo.type)\n",
    "Nuevo.describe_restaurant()\n",
    "Nuevo.open_restaurant()"
   ]
  },
  {
   "cell_type": "code",
   "execution_count": 8,
   "metadata": {},
   "outputs": [
    {
     "name": "stdout",
     "output_type": "stream",
     "text": [
      "The name of the restaurant is Tacos and the type is Mexican\n",
      "The name of the restaurant is Pizza and the type is Italian\n",
      "The name of the restaurant is Croissant and the type is French\n"
     ]
    }
   ],
   "source": [
    "class Restaurant():\n",
    "    def __init__(self,name,type):\n",
    "        self.name=name\n",
    "        self.type=type\n",
    "    def describe_restaurant(self):\n",
    "        print(\"The name of the restaurant is \"+self.name+\" and the type is \"+self.type)\n",
    "    def open_restaurant(self):\n",
    "        print(\"The restaurant \"+self.name+\" is now open\")\n",
    "        \n",
    "Nuevo= Restaurant(\"Tacos\",\"Mexican\")\n",
    "Segundo= Restaurant(\"Pizza\",\"Italian\")\n",
    "Tercero= Restaurant(\"Croissant\",\"French\")\n",
    "Nuevo.describe_restaurant()\n",
    "Segundo.describe_restaurant()\n",
    "Tercero.describe_restaurant()"
   ]
  },
  {
   "cell_type": "code",
   "execution_count": 13,
   "metadata": {},
   "outputs": [
    {
     "name": "stdout",
     "output_type": "stream",
     "text": [
      "0\n",
      "24\n",
      "49\n",
      "109\n"
     ]
    }
   ],
   "source": [
    "class Restaurant():\n",
    "    def __init__(self,name,type):\n",
    "        self.name=name\n",
    "        self.type=type\n",
    "        self.number_served=0\n",
    "    def describe_restaurant(self):\n",
    "        print(\"The name of the restaurant is \"+self.name+\" and the type is \"+self.type)\n",
    "    def open_restaurant(self):\n",
    "        print(\"The restaurant \"+self.name+\" is now open\")\n",
    "    def set_number_served(self,quantity):\n",
    "        self.number_served=quantity\n",
    "    def increment_number_served(self,added):\n",
    "        self.number_served+=added\n",
    "restaurant= Restaurant(\"Tacos\",\"Mexican\")\n",
    "print(restaurant.number_served)\n",
    "restaurant.number_served=24\n",
    "print(restaurant.number_served)\n",
    "restaurant.set_number_served(49)\n",
    "print(restaurant.number_served)\n",
    "restaurant.increment_number_served(60)\n",
    "print(restaurant.number_served)"
   ]
  },
  {
   "cell_type": "code",
   "execution_count": null,
   "metadata": {},
   "outputs": [],
   "source": []
  }
 ],
 "metadata": {
  "kernelspec": {
   "display_name": "Python 3",
   "language": "python",
   "name": "python3"
  },
  "language_info": {
   "codemirror_mode": {
    "name": "ipython",
    "version": 3
   },
   "file_extension": ".py",
   "mimetype": "text/x-python",
   "name": "python",
   "nbconvert_exporter": "python",
   "pygments_lexer": "ipython3",
   "version": "3.8.5"
  }
 },
 "nbformat": 4,
 "nbformat_minor": 4
}
