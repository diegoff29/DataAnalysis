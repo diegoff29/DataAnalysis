{
 "cells": [
  {
   "cell_type": "code",
   "execution_count": 2,
   "metadata": {},
   "outputs": [
    {
     "name": "stdout",
     "output_type": "stream",
     "text": [
      "Hello\n",
      "Hello!!!\n",
      "[9, 2, 3]\n",
      "[1, 2, 3]\n"
     ]
    }
   ],
   "source": [
    "s=\"Hello\"\n",
    "copystr=s+\"!!!\"\n",
    "lista=[1,2,3]\n",
    "copylistbad=lista\n",
    "copylistgood=lista[:]\n",
    "lista[0]=9\n",
    "print(s)\n",
    "print(copystr)\n",
    "print(copylistbad)\n",
    "print(copylistgood)\n",
    "#Strings are not mutable(changeable). Copies will create a new reference.\n",
    "#Lists are mutable. Copies will point to the same reference if not doing right"
   ]
  },
  {
   "cell_type": "code",
   "execution_count": 8,
   "metadata": {},
   "outputs": [
    {
     "name": "stdout",
     "output_type": "stream",
     "text": [
      "('a', 'b', 'c', 'd', 'e')\n",
      "{1, 2, 3}\n",
      "{1, 2, 3, 4, 5, 6}\n"
     ]
    }
   ],
   "source": [
    "#Tuples: inmutable lists. Can be used as keys in Dictionaries\n",
    "\n",
    "grades={(\"John\",\"Ann\"):85}\n",
    "onetuple=(1,)\n",
    "# (1) is not a tuple. It's just a math expression\n",
    "t1=tuple([1,2,3])\n",
    "t2=tuple(\"abcde\")\n",
    "print(t2)\n",
    "# Sets. Lists with no repetition. Mutable\n",
    "S={1,2,3,4,5,6,6}\n",
    "copy=S\n",
    "S=S&{1,2,3}\n",
    "print(S)\n",
    "print(copy)\n",
    "# Empty Set:\n",
    "S2=set()"
   ]
  },
  {
   "cell_type": "code",
   "execution_count": 11,
   "metadata": {},
   "outputs": [
    {
     "name": "stdout",
     "output_type": "stream",
     "text": [
      "{1, 2, 3, 4, 5, 6}\n",
      "{1, 2, 3}\n",
      "{1, 2, 3, 4, 5, 6}\n"
     ]
    }
   ],
   "source": [
    "Un1={1,2,3,3}\n",
    "Un2={4,5,6}\n",
    "Union=Un1|Un2\n",
    "print(Union)\n",
    "D1={1,2,3,3}\n",
    "D2={3,4,5,6}\n",
    "Diff=Un1-Un2\n",
    "print(Diff)\n",
    "Sym1={1,2,3,3}\n",
    "Sym2={3,4,5,6}\n",
    "Symm=Sym1|Sym2\n",
    "print(Symm)"
   ]
  },
  {
   "cell_type": "code",
   "execution_count": null,
   "metadata": {},
   "outputs": [],
   "source": []
  }
 ],
 "metadata": {
  "kernelspec": {
   "display_name": "Python 3",
   "language": "python",
   "name": "python3"
  },
  "language_info": {
   "codemirror_mode": {
    "name": "ipython",
    "version": 3
   },
   "file_extension": ".py",
   "mimetype": "text/x-python",
   "name": "python",
   "nbconvert_exporter": "python",
   "pygments_lexer": "ipython3",
   "version": "3.8.5"
  }
 },
 "nbformat": 4,
 "nbformat_minor": 4
}
