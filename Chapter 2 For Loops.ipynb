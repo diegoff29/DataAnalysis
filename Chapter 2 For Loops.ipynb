{
 "cells": [
  {
   "cell_type": "code",
   "execution_count": 74,
   "metadata": {},
   "outputs": [
    {
     "name": "stdout",
     "output_type": "stream",
     "text": [
      "Diego\n",
      "Diego\n",
      "Diego\n",
      "Diego\n",
      "Diego\n",
      "Diego\n",
      "Diego\n",
      "Diego\n",
      "Diego\n",
      "Diego\n",
      "Diego\n",
      "Diego\n",
      "Diego\n",
      "Diego\n",
      "Diego\n",
      "Diego\n",
      "Diego\n",
      "Diego\n",
      "Diego\n",
      "Diego\n",
      "Diego\n",
      "Diego\n",
      "Diego\n",
      "Diego\n",
      "Diego\n",
      "Diego\n",
      "Diego\n",
      "Diego\n",
      "Diego\n",
      "Diego\n",
      "Diego\n",
      "Diego\n",
      "Diego\n",
      "Diego\n",
      "Diego\n",
      "Diego\n",
      "Diego\n",
      "Diego\n",
      "Diego\n",
      "Diego\n",
      "Diego\n",
      "Diego\n",
      "Diego\n",
      "Diego\n",
      "Diego\n",
      "Diego\n",
      "Diego\n",
      "Diego\n",
      "Diego\n",
      "Diego\n",
      "Diego\n",
      "Diego\n",
      "Diego\n",
      "Diego\n",
      "Diego\n",
      "Diego\n",
      "Diego\n",
      "Diego\n",
      "Diego\n",
      "Diego\n",
      "Diego\n",
      "Diego\n",
      "Diego\n",
      "Diego\n",
      "Diego\n",
      "Diego\n",
      "Diego\n",
      "Diego\n",
      "Diego\n",
      "Diego\n",
      "Diego\n",
      "Diego\n",
      "Diego\n",
      "Diego\n",
      "Diego\n",
      "Diego\n",
      "Diego\n",
      "Diego\n",
      "Diego\n",
      "Diego\n",
      "Diego\n",
      "Diego\n",
      "Diego\n",
      "Diego\n",
      "Diego\n",
      "Diego\n",
      "Diego\n",
      "Diego\n",
      "Diego\n",
      "Diego\n",
      "Diego\n",
      "Diego\n",
      "Diego\n",
      "Diego\n",
      "Diego\n",
      "Diego\n",
      "Diego\n",
      "Diego\n",
      "Diego\n",
      "Diego\n"
     ]
    }
   ],
   "source": [
    "for number in range(100):\n",
    "    print(\"Diego\")"
   ]
  },
  {
   "cell_type": "code",
   "execution_count": 75,
   "metadata": {},
   "outputs": [
    {
     "name": "stdout",
     "output_type": "stream",
     "text": [
      "Diego Diego Diego Diego Diego Diego Diego Diego Diego Diego Diego Diego Diego Diego Diego Diego Diego Diego Diego Diego Diego Diego Diego Diego Diego Diego Diego Diego Diego Diego Diego Diego Diego Diego Diego Diego Diego Diego Diego Diego Diego Diego Diego Diego Diego Diego Diego Diego Diego Diego Diego Diego Diego Diego Diego Diego Diego Diego Diego Diego Diego Diego Diego Diego Diego Diego Diego Diego Diego Diego Diego Diego Diego Diego Diego Diego Diego Diego Diego Diego Diego Diego Diego Diego Diego Diego Diego Diego Diego Diego Diego Diego Diego Diego Diego Diego Diego Diego Diego Diego "
     ]
    }
   ],
   "source": [
    "for number in range(100):\n",
    "    print(\"Diego\",end=\" \")"
   ]
  },
  {
   "cell_type": "code",
   "execution_count": 76,
   "metadata": {},
   "outputs": [
    {
     "name": "stdout",
     "output_type": "stream",
     "text": [
      "1  Diego\n",
      "2  Diego\n",
      "3  Diego\n",
      "4  Diego\n",
      "5  Diego\n",
      "6  Diego\n",
      "7  Diego\n",
      "8  Diego\n",
      "9  Diego\n",
      "10  Diego\n",
      "11  Diego\n",
      "12  Diego\n",
      "13  Diego\n",
      "14  Diego\n",
      "15  Diego\n",
      "16  Diego\n",
      "17  Diego\n",
      "18  Diego\n",
      "19  Diego\n",
      "20  Diego\n",
      "21  Diego\n",
      "22  Diego\n",
      "23  Diego\n",
      "24  Diego\n",
      "25  Diego\n",
      "26  Diego\n",
      "27  Diego\n",
      "28  Diego\n",
      "29  Diego\n",
      "30  Diego\n",
      "31  Diego\n",
      "32  Diego\n",
      "33  Diego\n",
      "34  Diego\n",
      "35  Diego\n",
      "36  Diego\n",
      "37  Diego\n",
      "38  Diego\n",
      "39  Diego\n",
      "40  Diego\n",
      "41  Diego\n",
      "42  Diego\n",
      "43  Diego\n",
      "44  Diego\n",
      "45  Diego\n",
      "46  Diego\n",
      "47  Diego\n",
      "48  Diego\n",
      "49  Diego\n",
      "50  Diego\n",
      "51  Diego\n",
      "52  Diego\n",
      "53  Diego\n",
      "54  Diego\n",
      "55  Diego\n",
      "56  Diego\n",
      "57  Diego\n",
      "58  Diego\n",
      "59  Diego\n",
      "60  Diego\n",
      "61  Diego\n",
      "62  Diego\n",
      "63  Diego\n",
      "64  Diego\n",
      "65  Diego\n",
      "66  Diego\n",
      "67  Diego\n",
      "68  Diego\n",
      "69  Diego\n",
      "70  Diego\n",
      "71  Diego\n",
      "72  Diego\n",
      "73  Diego\n",
      "74  Diego\n",
      "75  Diego\n",
      "76  Diego\n",
      "77  Diego\n",
      "78  Diego\n",
      "79  Diego\n",
      "80  Diego\n",
      "81  Diego\n",
      "82  Diego\n",
      "83  Diego\n",
      "84  Diego\n",
      "85  Diego\n",
      "86  Diego\n",
      "87  Diego\n",
      "88  Diego\n",
      "89  Diego\n",
      "90  Diego\n",
      "91  Diego\n",
      "92  Diego\n",
      "93  Diego\n",
      "94  Diego\n",
      "95  Diego\n",
      "96  Diego\n",
      "97  Diego\n",
      "98  Diego\n",
      "99  Diego\n",
      "100  Diego\n"
     ]
    }
   ],
   "source": [
    "for number in range(100):\n",
    "    print(number+1,\" Diego\")"
   ]
  },
  {
   "cell_type": "code",
   "execution_count": 77,
   "metadata": {},
   "outputs": [
    {
     "name": "stdout",
     "output_type": "stream",
     "text": [
      "1 --- 1\n",
      "2 --- 4\n",
      "3 --- 9\n",
      "4 --- 16\n",
      "5 --- 25\n",
      "6 --- 36\n",
      "7 --- 49\n",
      "8 --- 64\n",
      "9 --- 81\n",
      "10 --- 100\n",
      "11 --- 121\n",
      "12 --- 144\n",
      "13 --- 169\n",
      "14 --- 196\n",
      "15 --- 225\n",
      "16 --- 256\n",
      "17 --- 289\n",
      "18 --- 324\n",
      "19 --- 361\n",
      "20 --- 400\n"
     ]
    }
   ],
   "source": [
    "for number in range(1,21):\n",
    "    print(number,\"---\",number**2)"
   ]
  },
  {
   "cell_type": "code",
   "execution_count": 73,
   "metadata": {},
   "outputs": [
    {
     "name": "stdout",
     "output_type": "stream",
     "text": [
      "8\n",
      "11\n",
      "14\n",
      "17\n",
      "20\n",
      "23\n",
      "26\n",
      "29\n",
      "32\n",
      "35\n",
      "38\n",
      "41\n",
      "44\n",
      "47\n",
      "50\n",
      "53\n",
      "56\n",
      "59\n",
      "62\n",
      "65\n",
      "68\n",
      "71\n",
      "74\n",
      "77\n",
      "80\n",
      "83\n",
      "86\n",
      "89\n"
     ]
    }
   ],
   "source": [
    "for number in range(8,90,3):\n",
    "    print(number)"
   ]
  },
  {
   "cell_type": "code",
   "execution_count": 72,
   "metadata": {},
   "outputs": [
    {
     "name": "stdout",
     "output_type": "stream",
     "text": [
      "100\n",
      "98\n",
      "96\n",
      "94\n",
      "92\n",
      "90\n",
      "88\n",
      "86\n",
      "84\n",
      "82\n",
      "80\n",
      "78\n",
      "76\n",
      "74\n",
      "72\n",
      "70\n",
      "68\n",
      "66\n",
      "64\n",
      "62\n",
      "60\n",
      "58\n",
      "56\n",
      "54\n",
      "52\n",
      "50\n",
      "48\n",
      "46\n",
      "44\n",
      "42\n",
      "40\n",
      "38\n",
      "36\n",
      "34\n",
      "32\n",
      "30\n",
      "28\n",
      "26\n",
      "24\n",
      "22\n",
      "20\n",
      "18\n",
      "16\n",
      "14\n",
      "12\n",
      "10\n",
      "8\n",
      "6\n",
      "4\n",
      "2\n"
     ]
    }
   ],
   "source": [
    "for number in range(100,1,-2):\n",
    "    print(number)"
   ]
  },
  {
   "cell_type": "code",
   "execution_count": 71,
   "metadata": {},
   "outputs": [
    {
     "name": "stdout",
     "output_type": "stream",
     "text": [
      "AAAAAAAAAABBBBBBBCDCDCDCDEFFFFFFG"
     ]
    }
   ],
   "source": [
    "for number in range(10):\n",
    "    print(\"A\",end=\"\")\n",
    "for number in range(7):\n",
    "    print(\"B\",end=\"\")\n",
    "for number in range(4):\n",
    "    print(\"C\",end=\"\")\n",
    "    print(\"D\",end=\"\")\n",
    "print(\"E\",end=\"\")\n",
    "for number in range(6):\n",
    "    print(\"F\",end=\"\")\n",
    "print(\"G\",end=\"\")\n",
    "    \n",
    "   \n",
    "    \n",
    "    "
   ]
  },
  {
   "cell_type": "code",
   "execution_count": null,
   "metadata": {},
   "outputs": [],
   "source": [
    "fibo=int(input(\"Desired number of fibonacci numbers \"))\n",
    "nlast=0;\n",
    "nfirst=1;\n",
    "for number in range(fibo):\n",
    "    print(nfirst, end=\" \")\n",
    "    accum=nfirst;\n",
    "    nfirst=nfirst+nlast\n",
    "    nlast=accum;\n",
    "    \n"
   ]
  },
  {
   "cell_type": "code",
   "execution_count": 15,
   "metadata": {},
   "outputs": [
    {
     "name": "stdout",
     "output_type": "stream",
     "text": [
      "Desired height of box 5\n",
      "Desired width of box 10\n",
      "**********\n",
      "**********\n",
      "**********\n",
      "**********\n",
      "**********\n"
     ]
    }
   ],
   "source": [
    "boxheight=int(input(\"Desired height of box \"))\n",
    "boxwidth=int(input(\"Desired width of box \"))\n",
    "for a in range(boxheight):\n",
    "    print(\"*\"*boxwidth)"
   ]
  },
  {
   "cell_type": "code",
   "execution_count": 120,
   "metadata": {},
   "outputs": [
    {
     "name": "stdout",
     "output_type": "stream",
     "text": [
      "Desired height of box 5\n",
      "Desired width of box 10\n",
      "**********\n",
      "*        *\n",
      "*        *\n",
      "*        *\n",
      "**********\n"
     ]
    }
   ],
   "source": [
    "boxheight=int(input(\"Desired height of box \"))\n",
    "boxwidth=int(input(\"Desired width of box \"))\n",
    "print(\"*\"*boxwidth,sep=\"\")\n",
    "for a in range(boxheight-2):\n",
    "    print(\"*\",\" \"*(boxwidth-2),\"*\",sep=\"\")\n",
    "print(\"*\"*boxwidth,sep=\"\")"
   ]
  },
  {
   "cell_type": "code",
   "execution_count": 29,
   "metadata": {},
   "outputs": [
    {
     "name": "stdout",
     "output_type": "stream",
     "text": [
      "Desired height of triangle10\n",
      "*\n",
      "**\n",
      "***\n",
      "****\n",
      "*****\n",
      "******\n",
      "*******\n",
      "********\n",
      "*********\n",
      "**********\n"
     ]
    }
   ],
   "source": [
    "triheight=int(input(\"Desired height of triangle \"))\n",
    "for a in range(triheight):\n",
    "    print(\"*\"*(a+1))"
   ]
  },
  {
   "cell_type": "code",
   "execution_count": 31,
   "metadata": {},
   "outputs": [
    {
     "name": "stdout",
     "output_type": "stream",
     "text": [
      "Desired height of triangle10\n",
      "**********\n",
      "*********\n",
      "********\n",
      "*******\n",
      "******\n",
      "*****\n",
      "****\n",
      "***\n",
      "**\n",
      "*\n"
     ]
    }
   ],
   "source": [
    "triheight=int(input(\"Desired height of triangle \"))\n",
    "for a in range(triheight,0,-1):\n",
    "    print(\"*\"*(a))"
   ]
  },
  {
   "cell_type": "code",
   "execution_count": 79,
   "metadata": {},
   "outputs": [
    {
     "name": "stdout",
     "output_type": "stream",
     "text": [
      "Desired height of diamond11\n",
      "      *      \n",
      "     ***     \n",
      "    *****    \n",
      "   *******   \n",
      "  *********  \n",
      " *********** \n",
      "  *********  \n",
      "   *******   \n",
      "    *****    \n",
      "     ***     \n",
      "      *      \n"
     ]
    }
   ],
   "source": [
    "diaheight=int(input(\"Desired height of diamond\"))\n",
    "midpoint= int((diaheight+1)/2)\n",
    "asterisks=-1\n",
    "spaces=int(((diaheight-1)/2)+1)\n",
    "for a in range(midpoint):\n",
    "    asterisks=asterisks+2\n",
    "    spaces=spaces-1\n",
    "    print(\" \"*spaces,\"*\"*asterisks,\" \"*spaces)\n",
    "for a in range(1,midpoint):\n",
    "    asterisks=asterisks-2\n",
    "    spaces=spaces+1\n",
    "    print(\" \"*spaces,\"*\"*asterisks,\" \"*spaces)"
   ]
  },
  {
   "cell_type": "code",
   "execution_count": 113,
   "metadata": {},
   "outputs": [
    {
     "name": "stdout",
     "output_type": "stream",
     "text": [
      "Desired height of A 7\n",
      "      *      \n",
      "     * *     \n",
      "    *   *    \n",
      "   *******    \n",
      "  *       *  \n",
      " *         * \n",
      "*           *\n"
     ]
    }
   ],
   "source": [
    "Aheight=int(input(\"Desired height of A \"));\n",
    "midpoint= int((Aheight+1)/2)\n",
    "extspaces=int(Aheight-1)\n",
    "print(\" \"*extspaces,\"*\",\" \"*extspaces,sep=\"\")\n",
    "intspaces=-1\n",
    "for a in range(2,midpoint):\n",
    "    extspaces=extspaces-1\n",
    "    intspaces=intspaces+2\n",
    "    print(\" \"*extspaces,\"*\",\" \"*intspaces,\"*\",\" \"*extspaces,sep=\"\")\n",
    "extspaces=extspaces-1\n",
    "intspaces=intspaces+2\n",
    "print(\" \"*extspaces,\"*\"*(intspaces+2),\" \",\" \"*extspaces,sep=\"\")\n",
    "for b in range(1,midpoint):\n",
    "    extspaces=extspaces-1\n",
    "    intspaces=intspaces+2\n",
    "    print(\" \"*extspaces,\"*\",\" \"*intspaces,\"*\",\" \"*extspaces,sep=\"\")"
   ]
  },
  {
   "cell_type": "code",
   "execution_count": null,
   "metadata": {},
   "outputs": [],
   "source": []
  },
  {
   "cell_type": "markdown",
   "metadata": {},
   "source": []
  }
 ],
 "metadata": {
  "kernelspec": {
   "display_name": "Python 3",
   "language": "python",
   "name": "python3"
  },
  "language_info": {
   "codemirror_mode": {
    "name": "ipython",
    "version": 3
   },
   "file_extension": ".py",
   "mimetype": "text/x-python",
   "name": "python",
   "nbconvert_exporter": "python",
   "pygments_lexer": "ipython3",
   "version": "3.8.5"
  }
 },
 "nbformat": 4,
 "nbformat_minor": 4
}
