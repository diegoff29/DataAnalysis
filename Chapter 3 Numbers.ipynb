{
 "cells": [
  {
   "cell_type": "code",
   "execution_count": 4,
   "metadata": {},
   "outputs": [
    {
     "name": "stdout",
     "output_type": "stream",
     "text": [
      "3\n",
      "3\n",
      "6\n",
      "6\n",
      "6\n",
      "6\n",
      "5\n",
      "4\n",
      "6\n",
      "3\n",
      "5\n",
      "5\n",
      "6\n",
      "3\n",
      "6\n",
      "6\n",
      "6\n",
      "3\n",
      "5\n",
      "3\n",
      "4\n",
      "3\n",
      "3\n",
      "6\n",
      "3\n",
      "5\n",
      "6\n",
      "5\n",
      "4\n",
      "5\n",
      "4\n",
      "4\n",
      "6\n",
      "6\n",
      "4\n",
      "5\n",
      "5\n",
      "3\n",
      "5\n",
      "4\n",
      "3\n",
      "4\n",
      "6\n",
      "5\n",
      "4\n",
      "5\n",
      "3\n",
      "3\n",
      "3\n",
      "5\n"
     ]
    }
   ],
   "source": [
    "from random import *\n",
    "for a in range (50):\n",
    "    x=randint(3,6)\n",
    "    print(x)"
   ]
  },
  {
   "cell_type": "code",
   "execution_count": 12,
   "metadata": {},
   "outputs": [
    {
     "name": "stdout",
     "output_type": "stream",
     "text": [
      "91125\n"
     ]
    }
   ],
   "source": [
    "from random import *\n",
    "x=randint(1,50);\n",
    "y=randint(2,5);\n",
    "c=x**y;\n",
    "print(c)\n"
   ]
  },
  {
   "cell_type": "code",
   "execution_count": 17,
   "metadata": {},
   "outputs": [
    {
     "name": "stdout",
     "output_type": "stream",
     "text": [
      "Diego\n",
      "Diego\n",
      "Diego\n"
     ]
    }
   ],
   "source": [
    "from random import *\n",
    "a=randint(1,10)\n",
    "for b in range(a):\n",
    "    print(\"Diego\")"
   ]
  },
  {
   "cell_type": "code",
   "execution_count": 34,
   "metadata": {},
   "outputs": [
    {
     "name": "stdout",
     "output_type": "stream",
     "text": [
      "0.72\n"
     ]
    }
   ],
   "source": [
    "from random import *\n",
    "x=(randint(1,1000))/100\n",
    "print(x)"
   ]
  },
  {
   "cell_type": "code",
   "execution_count": 40,
   "metadata": {},
   "outputs": [
    {
     "name": "stdout",
     "output_type": "stream",
     "text": [
      "1\n",
      "3\n",
      "4\n",
      "1\n",
      "5\n",
      "1\n",
      "7\n",
      "2\n",
      "10\n",
      "7\n",
      "1\n",
      "12\n",
      "6\n",
      "5\n",
      "15\n",
      "15\n",
      "7\n",
      "4\n",
      "19\n",
      "9\n",
      "8\n",
      "13\n",
      "9\n",
      "22\n",
      "4\n",
      "1\n",
      "6\n",
      "4\n",
      "29\n",
      "2\n",
      "7\n",
      "12\n",
      "27\n",
      "12\n",
      "26\n",
      "23\n",
      "12\n",
      "12\n",
      "18\n",
      "34\n",
      "32\n",
      "1\n",
      "20\n",
      "12\n",
      "44\n",
      "2\n",
      "4\n",
      "43\n",
      "19\n",
      "17\n"
     ]
    }
   ],
   "source": [
    "from random import *\n",
    "for b in range (2,52):\n",
    "    print(randint(1,b))"
   ]
  },
  {
   "cell_type": "code",
   "execution_count": 44,
   "metadata": {},
   "outputs": [
    {
     "name": "stdout",
     "output_type": "stream",
     "text": [
      "Enter the first number 2\n",
      "Enter the second number 10\n",
      "0.6666666666666666\n"
     ]
    }
   ],
   "source": [
    "x=int(input(\"Enter the first number \"))\n",
    "y=int(input(\"Enter the second number \"))\n",
    "c=(abs(x-y))/(x+y)\n",
    "print(c)"
   ]
  },
  {
   "cell_type": "code",
   "execution_count": 49,
   "metadata": {},
   "outputs": [
    {
     "name": "stdout",
     "output_type": "stream",
     "text": [
      "Enter an angle between -180 and 180 -25\n",
      "335\n"
     ]
    }
   ],
   "source": [
    "x=int(input(\"Enter an angle between -180 and 180 \"))\n",
    "c=(x+360)%360\n",
    "print(c)"
   ]
  },
  {
   "cell_type": "code",
   "execution_count": 55,
   "metadata": {},
   "outputs": [
    {
     "name": "stdout",
     "output_type": "stream",
     "text": [
      "Enter the amount of seconds400\n",
      "6\n",
      "40\n"
     ]
    }
   ],
   "source": [
    "sec=int(input(\"Enter the amount of seconds \"))\n",
    "minu=sec//60\n",
    "secres=sec%60\n",
    "print(minu)\n",
    "print(secres)"
   ]
  },
  {
   "cell_type": "code",
   "execution_count": 58,
   "metadata": {},
   "outputs": [
    {
     "name": "stdout",
     "output_type": "stream",
     "text": [
      "Enter hour: 8\n",
      "How many hours ahead?: 12\n",
      "New hour: 8\n"
     ]
    }
   ],
   "source": [
    "Now=int(input(\"Enter hour: \"))\n",
    "Travel=int(input(\"How many hours ahead?: \"))\n",
    "Future=(Now+Travel)%12\n",
    "print(\"New hour:\",Future)"
   ]
  },
  {
   "cell_type": "code",
   "execution_count": 66,
   "metadata": {},
   "outputs": [
    {
     "name": "stdout",
     "output_type": "stream",
     "text": [
      "Enter a power: 10\n",
      "Number of desired digits5\n",
      "4\n",
      "24\n",
      "1024\n"
     ]
    }
   ],
   "source": [
    "power=int(input(\"Enter a power: \"))\n",
    "decdup=(2**power)%10\n",
    "centdup=(2**power)%100\n",
    "num=int(input(\"Number of desired digits: \"))\n",
    "duodup=(2**power)%(10**num)\n",
    "print(decdup)\n",
    "print(centdup)\n",
    "print(duodup)"
   ]
  },
  {
   "cell_type": "code",
   "execution_count": 69,
   "metadata": {},
   "outputs": [
    {
     "name": "stdout",
     "output_type": "stream",
     "text": [
      "Enter the weight kilograms: 123\n",
      "270.6\n"
     ]
    }
   ],
   "source": [
    "kilo=int(input(\"Enter the weight kilograms: \"))\n",
    "pounds=round(kilo*2.2,1)\n",
    "print(pounds)\n",
    "\n"
   ]
  },
  {
   "cell_type": "code",
   "execution_count": 71,
   "metadata": {},
   "outputs": [
    {
     "name": "stdout",
     "output_type": "stream",
     "text": [
      "Enter the desired number: 7\n",
      "5040\n"
     ]
    }
   ],
   "source": [
    "from math import *\n",
    "num=int(input(\"Enter the desired number: \"))\n",
    "print(factorial(num))"
   ]
  },
  {
   "cell_type": "code",
   "execution_count": 75,
   "metadata": {},
   "outputs": [
    {
     "name": "stdout",
     "output_type": "stream",
     "text": [
      "Enter the desired number: 1.054\n",
      "0.8694065651016113\n",
      "0.49409738367878214\n",
      "1.7595854457444802\n"
     ]
    }
   ],
   "source": [
    "from math import *\n",
    "num=float(input(\"Enter the desired number: \"))\n",
    "print(sin(num))\n",
    "print(cos(num))\n",
    "print(tan(num))"
   ]
  },
  {
   "cell_type": "code",
   "execution_count": 77,
   "metadata": {},
   "outputs": [
    {
     "name": "stdout",
     "output_type": "stream",
     "text": [
      "Enter the desired angle: 30\n",
      "0.49999999999999994\n"
     ]
    }
   ],
   "source": [
    "from math import *\n",
    "numang=float(input(\"Enter the desired angle: \"))\n",
    "num=numang*pi/180\n",
    "print(sin(num))\n"
   ]
  },
  {
   "cell_type": "code",
   "execution_count": 83,
   "metadata": {},
   "outputs": [
    {
     "name": "stdout",
     "output_type": "stream",
     "text": [
      "0  --- 0.0  1.0\n",
      "15  --- 0.2588  0.9659\n",
      "30  --- 0.5  0.866\n",
      "45  --- 0.7071  0.7071\n",
      "60  --- 0.866  0.5\n",
      "75  --- 0.9659  0.2588\n",
      "90  --- 1.0  0.0\n",
      "105  --- 0.9659  -0.2588\n",
      "120  --- 0.866  -0.5\n",
      "135  --- 0.7071  -0.7071\n",
      "150  --- 0.5  -0.866\n",
      "165  --- 0.2588  -0.9659\n",
      "180  --- 0.0  -1.0\n",
      "195  --- -0.2588  -0.9659\n",
      "210  --- -0.5  -0.866\n",
      "225  --- -0.7071  -0.7071\n",
      "240  --- -0.866  -0.5\n",
      "255  --- -0.9659  -0.2588\n",
      "270  --- -1.0  -0.0\n",
      "285  --- -0.9659  0.2588\n",
      "300  --- -0.866  0.5\n",
      "315  --- -0.7071  0.7071\n",
      "330  --- -0.5  0.866\n",
      "345  --- -0.2588  0.9659\n"
     ]
    }
   ],
   "source": [
    "from math import *\n",
    "for a in range(0,360,15):\n",
    "    b=a*pi/180\n",
    "    print(a,\" --- \",end=\"\")\n",
    "    print(round(sin(b),4),\" \",end=\"\")\n",
    "    print(round(cos(b),4))"
   ]
  },
  {
   "cell_type": "code",
   "execution_count": 97,
   "metadata": {},
   "outputs": [
    {
     "name": "stdout",
     "output_type": "stream",
     "text": [
      "Enter the year: 2020\n",
      "The date is April 12\n"
     ]
    }
   ],
   "source": [
    "from math import floor\n",
    "Year=int(input(\"Enter the year: \"))\n",
    "C=floor(Year/100)\n",
    "a=Year%4\n",
    "b=Year%7\n",
    "c=Year%19\n",
    "m=(15+C-floor(C/4)-floor((8*C+13)/25))%30\n",
    "n=(4+C-floor(C/4))%7\n",
    "d=(19*c+m)%30\n",
    "e=(2*a+4*b+6*d+n)%7\n",
    "Prohibited=(2,5,10,13,16,21,24,39)\n",
    "if (d+e)<9:\n",
    "    print(\"The date is March\",22+d+e)\n",
    "else:\n",
    "    if (d==29) and(e==6):\n",
    "        print(\"The date is April 19\")\n",
    "    else:\n",
    "        if(d==28) and (e==6) and((m in Prohibited)):\n",
    "            print(\"The date is April 18\")\n",
    "        else:\n",
    "            print(\"The date is April\",d+e-9)"
   ]
  },
  {
   "cell_type": "code",
   "execution_count": 111,
   "metadata": {},
   "outputs": [
    {
     "name": "stdout",
     "output_type": "stream",
     "text": [
      "Enter the desired year 1600\n",
      "1\n"
     ]
    }
   ],
   "source": [
    "year=int(input(\"Enter the desired year \"))\n",
    "num=((year-1600)//4)+1\n",
    "num=num-((year-1600)//100)\n",
    "num=num+((year-1600)//400)\n",
    "print(num)"
   ]
  },
  {
   "cell_type": "code",
   "execution_count": 114,
   "metadata": {},
   "outputs": [
    {
     "name": "stdout",
     "output_type": "stream",
     "text": [
      "Enter the desired change 92\n",
      "3 quarters\n",
      "1 dimes\n",
      "1 nickels\n",
      "2 pennies\n"
     ]
    }
   ],
   "source": [
    "change=int(input(\"Enter the desired change \"))\n",
    "quarters=(change//25)\n",
    "change=change-quarters*25\n",
    "dimes=(change//10)\n",
    "change=change-dimes*10\n",
    "nickels=(change//5)\n",
    "change=change-nickels*5\n",
    "pennies=change\n",
    "print(quarters,\"quarters\")\n",
    "print(dimes,\"dimes\")\n",
    "print(nickels,\"nickels\")\n",
    "print(pennies,\"pennies\")"
   ]
  },
  {
   "cell_type": "code",
   "execution_count": 118,
   "metadata": {},
   "outputs": [
    {
     "name": "stdout",
     "output_type": "stream",
     "text": [
      "Enter the desired height 4\n",
      "Enter the desired width 8\n",
      "0 1 2 3 4 5 6 7 \n",
      "\n",
      "8 9 0 1 2 3 4 5 \n",
      "\n",
      "6 7 8 9 0 1 2 3 \n",
      "\n",
      "4 5 6 7 8 9 0 1 \n",
      "\n"
     ]
    }
   ],
   "source": [
    "h=int(input(\"Enter the desired height \"))\n",
    "w=int(input(\"Enter the desired width \"))\n",
    "i=-1\n",
    "for a in range(h):\n",
    "    for b in range (w):\n",
    "        i=i+1\n",
    "        print(i%10, end=\" \")\n",
    "    print(\"\\n\")\n"
   ]
  },
  {
   "cell_type": "code",
   "execution_count": 47,
   "metadata": {},
   "outputs": [
    {
     "name": "stdout",
     "output_type": "stream",
     "text": [
      "-1.0\n",
      "1.291926581726429\n",
      "-2.0\n",
      "1.0\n",
      "0.09070257317431818\n",
      "-1.0\n",
      "1.1528973839407377\n",
      "1.3057947678814754\n",
      "1.8532861375145426\n",
      "0.9656405335762271\n",
      "1.9731876551730672\n",
      "1.1823480173971948\n",
      "1.9865146433430165\n",
      "1.163244251713496\n",
      "1.987249188409295\n",
      "1.163429992530704\n",
      "1.987248801288979\n",
      "1.1634299476777792\n",
      "1.9872488012888927\n",
      "1.1634299476777799\n",
      "1.9872488012888943\n",
      "1.1634299476777805\n",
      "1.9872488012888934\n",
      "1.1634299476777803\n",
      "1.9872488012888934\n",
      "1.16342994767778\n",
      "0.0\n",
      "-5.551115123125783e-16\n"
     ]
    }
   ],
   "source": [
    "from math import *\n",
    "count=0\n",
    "a=1\n",
    "b=0\n",
    "while(count<10):\n",
    "    f1=sin(a*b)+2*b*a**(2)-(a+b)**2\n",
    "    f2=a*exp(-b)+cos(b**2)-sin(a)**2\n",
    "    df1da=b*cos(a*b)+4*a*b-2*(a+b)\n",
    "    df1db=a*cos(a*b)+2*a**2-2*(a+b)\n",
    "    df2da=exp(-b)-2*sin(a)*cos(a)\n",
    "    df2db=-a*exp(-b)-2*b*sin(b**2)\n",
    "    Det=df1da*df2db-df1db*df2da\n",
    "    Final1=-(df2db*f1-df1db*f2)/Det+a\n",
    "    Final2=-(-df2da*f1+df1da*f2)/Det+b\n",
    "    a=Final1\n",
    "    b=Final2\n",
    "    if count==0:\n",
    "        print(f1)\n",
    "        print(f2)\n",
    "        print(df1da)\n",
    "        print(df1db)\n",
    "        print(df2da)\n",
    "        print(df2db)\n",
    "    print(Final1)\n",
    "    print(Final2)\n",
    "    count=count+1\n",
    "print(f1)\n",
    "print(f2)"
   ]
  },
  {
   "cell_type": "code",
   "execution_count": null,
   "metadata": {},
   "outputs": [],
   "source": []
  }
 ],
 "metadata": {
  "kernelspec": {
   "display_name": "Python 3",
   "language": "python",
   "name": "python3"
  },
  "language_info": {
   "codemirror_mode": {
    "name": "ipython",
    "version": 3
   },
   "file_extension": ".py",
   "mimetype": "text/x-python",
   "name": "python",
   "nbconvert_exporter": "python",
   "pygments_lexer": "ipython3",
   "version": "3.8.5"
  }
 },
 "nbformat": 4,
 "nbformat_minor": 4
}
