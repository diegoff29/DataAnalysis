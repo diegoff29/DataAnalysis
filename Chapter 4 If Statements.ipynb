{
 "cells": [
  {
   "cell_type": "code",
   "execution_count": 8,
   "metadata": {},
   "outputs": [
    {
     "name": "stdout",
     "output_type": "stream",
     "text": [
      "Enter your guess: 5\n",
      "Correct\n"
     ]
    }
   ],
   "source": [
    "from random import randint\n",
    "x=randint(1,10)\n",
    "guess=int(input(\"Enter your guess: \"))\n",
    "if guess==x:\n",
    "    print(\"Correct\")\n",
    "else:\n",
    "    print(\"Incorrect\")\n"
   ]
  },
  {
   "cell_type": "code",
   "execution_count": 16,
   "metadata": {},
   "outputs": [
    {
     "name": "stdout",
     "output_type": "stream",
     "text": [
      "Enter your measurement: 17.9\n",
      "The measurement in inches is 7.05\n"
     ]
    }
   ],
   "source": [
    "length=float(input(\"Enter your measurement: \"))\n",
    "if length<0:\n",
    "    print(\"Error. Enter a non-negative number\")\n",
    "else:\n",
    "    inches=round(length/2.54,2)\n",
    "    print(\"The measurement in inches is\",inches)"
   ]
  },
  {
   "cell_type": "code",
   "execution_count": 25,
   "metadata": {},
   "outputs": [
    {
     "name": "stdout",
     "output_type": "stream",
     "text": [
      "Enter your temperature: -1\n",
      "Celsius or Fahrenheit: Celsius\n",
      "The unit in Fahrenheit is 30.2\n"
     ]
    }
   ],
   "source": [
    "Temp=float(input(\"Enter your temperature: \"))\n",
    "typem=str(input(\"Celsius or Fahrenheit: \"))\n",
    "if ((typem==\"Celsius\") or (typem==\"celsius\")):\n",
    "    measurement=round(Temp*1.8 + 32,2)\n",
    "    print(\"The unit in Fahrenheit is\",measurement)\n",
    "else:\n",
    "    if ((typem==\"Fahrenheit\") or (typem==\"fahrenheit\")):\n",
    "        measurement=round((Temp-32)/1.8,2)\n",
    "        print(\"The unit in Celsius is\",measurement)\n",
    "    else:\n",
    "        print(\"Error. Enter an appropiate uni\")"
   ]
  },
  {
   "cell_type": "code",
   "execution_count": 33,
   "metadata": {},
   "outputs": [
    {
     "name": "stdout",
     "output_type": "stream",
     "text": [
      "Enter your temperature: 400\n",
      "Above boiling point\n"
     ]
    }
   ],
   "source": [
    "Temp=float(input(\"Enter your temperature: \"))\n",
    "if Temp<-273.15:\n",
    "    print(\"Impossible temperature. Below absolute zero\")\n",
    "else:\n",
    "    if(Temp==-273.15):\n",
    "        print(\"Absolute zero\")\n",
    "    else:\n",
    "        if(Temp<0):\n",
    "            print(\"Below freezing point\")\n",
    "        else:\n",
    "            if(Temp==0):\n",
    "                print(\"Freezing point\")\n",
    "            else:\n",
    "                if(Temp<100):\n",
    "                    print(\"Normal range\")\n",
    "                else:\n",
    "                    if(Temp==100):\n",
    "                        print(\"Boiling point\")\n",
    "                    else:\n",
    "                        print(\"Above boiling point\")"
   ]
  },
  {
   "cell_type": "code",
   "execution_count": 41,
   "metadata": {},
   "outputs": [
    {
     "name": "stdout",
     "output_type": "stream",
     "text": [
      "Enter your credits: 90\n",
      "Seniors\n"
     ]
    }
   ],
   "source": [
    "Credits=int(input(\"Enter your credits: \"))\n",
    "if Credits<=23:\n",
    "    print(\"Freshman\")\n",
    "else:\n",
    "    if(Credits<=53):\n",
    "        print(\"Sophomore\")\n",
    "    else:\n",
    "        if(Credits<=83):\n",
    "            print(\"Juniors\")\n",
    "        else:\n",
    "            print(\"Seniors\")"
   ]
  },
  {
   "cell_type": "code",
   "execution_count": 45,
   "metadata": {},
   "outputs": [
    {
     "name": "stdout",
     "output_type": "stream",
     "text": [
      "Enter your items bought: 101\n",
      "707\n"
     ]
    }
   ],
   "source": [
    "units=int(input(\"Enter your items bought: \"))\n",
    "if units<10:\n",
    "       total=units*12\n",
    "else:\n",
    "    if(units<=99):\n",
    "        total=units*10\n",
    "    else:\n",
    "        total=units*7\n",
    "print(total)"
   ]
  },
  {
   "cell_type": "code",
   "execution_count": 49,
   "metadata": {},
   "outputs": [
    {
     "name": "stdout",
     "output_type": "stream",
     "text": [
      "Enter the first number: 4.000001\n",
      "Enter the second number: 4\n",
      "Close\n"
     ]
    }
   ],
   "source": [
    "x=float(input(\"Enter the first number: \"))\n",
    "y=float(input(\"Enter the second number: \"))\n",
    "difference=abs(x-y)\n",
    "if (difference<=0.001):\n",
    "    print(\"Close\")\n",
    "else:\n",
    "    print(\"Not close\")"
   ]
  },
  {
   "cell_type": "code",
   "execution_count": 52,
   "metadata": {},
   "outputs": [
    {
     "name": "stdout",
     "output_type": "stream",
     "text": [
      "Enter the desired year: 1500\n",
      "The year is not a leap year\n"
     ]
    }
   ],
   "source": [
    "Year=int(input(\"Enter the desired year: \"))\n",
    "if (Year%4==0):\n",
    "    if(Year%100==0) and(Year%400!=0):\n",
    "        print(\"The year is not a leap year\")\n",
    "    else:\n",
    "        print(\"The year is a leap year\")\n",
    "    \n",
    "else:\n",
    "    print(\"The year is not a leap year\")"
   ]
  },
  {
   "cell_type": "code",
   "execution_count": 58,
   "metadata": {},
   "outputs": [
    {
     "name": "stdout",
     "output_type": "stream",
     "text": [
      "Enter the desired number: 100\n",
      "1\n",
      "2\n",
      "4\n",
      "5\n",
      "10\n",
      "20\n",
      "25\n",
      "50\n",
      "100\n"
     ]
    }
   ],
   "source": [
    "x=int(input(\"Enter the desired number: \"))\n",
    "for a in range(1,x+1):\n",
    "    if(x%a==0):\n",
    "        print(a)\n"
   ]
  },
  {
   "cell_type": "code",
   "execution_count": 81,
   "metadata": {},
   "outputs": [
    {
     "name": "stdout",
     "output_type": "stream",
     "text": [
      "1 --- 2 times 3equal? 6\n",
      "Correct!\n",
      "2 --- 11 times 1equal? 11\n",
      "Correct!\n",
      "3 --- 12 times 5equal? 60\n",
      "Correct!\n",
      "4 --- 8 times 9equal? 4\n",
      "Incorrect.The correct result was 72\n",
      "5 --- 7 times 9equal? 56\n",
      "Incorrect.The correct result was 63\n",
      "6 --- 7 times 11equal? 8\n",
      "Incorrect.The correct result was 77\n",
      "7 --- 9 times 3equal? 49\n",
      "Incorrect.The correct result was 27\n",
      "8 --- 8 times 11equal? 3\n",
      "Incorrect.The correct result was 88\n",
      "9 --- 1 times 8equal? 1\n",
      "Incorrect.The correct result was 8\n",
      "10 --- 3 times 9equal? 27\n",
      "Correct!\n"
     ]
    }
   ],
   "source": [
    "from random import randint\n",
    "for a in range(1,11):\n",
    "    b=randint(1,12)\n",
    "    c=randint(1,12)\n",
    "    result=int(b*c)\n",
    "    print(a,\"---\",b,\"times\",c,end=\"\")\n",
    "    guess=int(input(\"equal? \"))\n",
    "    if (guess==result):\n",
    "        print(\"Correct!\")\n",
    "    else:\n",
    "        print(\"Incorrect.The correct result was\",result)"
   ]
  },
  {
   "cell_type": "code",
   "execution_count": 91,
   "metadata": {},
   "outputs": [
    {
     "name": "stdout",
     "output_type": "stream",
     "text": [
      "Rock Paper or Scissors Rock\n",
      "Player Won Round\n",
      "Rock Paper or Scissors Scissors\n",
      "Player Won Round\n",
      "Rock Paper or Scissors Paper\n",
      "Tie\n",
      "Rock Paper or Scissors Scissors\n",
      "Computer Won Round\n",
      "Rock Paper or Scissors Rock\n",
      "Computer Won Round\n",
      "The game resulted in a tie\n"
     ]
    }
   ],
   "source": [
    "from random import randint\n",
    "player=0\n",
    "comp=0\n",
    "for a in range(5):\n",
    "    x=str(input(\"Rock Paper or Scissors \"))\n",
    "    y=randint(1,3)\n",
    "    if (y==1):\n",
    "        if(x==\"Paper\"):\n",
    "            print(\"Player Won Round\")\n",
    "            player=player+1\n",
    "        else:\n",
    "            if(x==\"Scissors\"):\n",
    "                print(\"Computer Won Round\")\n",
    "                comp=comp+1\n",
    "            else:\n",
    "                print(\"Tie\")\n",
    "    else:\n",
    "        if (y==2):\n",
    "            if(x==\"Scissors\"):\n",
    "                print(\"Player Won Round\")\n",
    "                player=player+1\n",
    "            else:\n",
    "                if(x==\"Rock\"):\n",
    "                    print(\"Computer Won Round\")\n",
    "                    comp=comp+1\n",
    "                else:\n",
    "                    print(\"Tie\")\n",
    "        else:\n",
    "            if(x==\"Rock\"):\n",
    "                print(\"Player Won Round\")\n",
    "                player=player+1\n",
    "            else:\n",
    "                if(x==\"Paper\"):\n",
    "                    print(\"Computer Won Round\")\n",
    "                    comp=comp+1\n",
    "                else:\n",
    "                    print(\"Tie\")\n",
    "                    \n",
    "if (player>comp):\n",
    "    print(\"Congratulations. You won\")\n",
    "else:\n",
    "    if(comp<player):\n",
    "        print(\"Sorry.You lost\")\n",
    "    else:\n",
    "        print(\"The game resulted in a tie\")\n",
    "\n",
    "    "
   ]
  },
  {
   "cell_type": "code",
   "execution_count": 93,
   "metadata": {},
   "outputs": [
    {
     "name": "stdout",
     "output_type": "stream",
     "text": [
      "177\n"
     ]
    }
   ],
   "source": [
    "for a in range(200):\n",
    "    if a%5==2:\n",
    "        if a%6==3:\n",
    "            if a%7==2:\n",
    "                print(a)"
   ]
  },
  {
   "cell_type": "code",
   "execution_count": 95,
   "metadata": {},
   "outputs": [
    {
     "name": "stdout",
     "output_type": "stream",
     "text": [
      "Enter the hour 8\n",
      "am or pm? pm\n",
      "How many hours ahead? 7\n",
      "The hour is 3 am\n"
     ]
    }
   ],
   "source": [
    "hour=int(input(\"Enter the hour \"))\n",
    "ampm=str(input(\"am or pm? \"))\n",
    "more=int(input(\"How many hours ahead? \"))\n",
    "if ampm==\"pm\":\n",
    "    hour=hour+12\n",
    "new=(hour+more)%24\n",
    "if(new>12):\n",
    "    new=new%12\n",
    "    print(\"The hour is\",new,\"pm\")\n",
    "else:\n",
    "    print(\"The hour is\",new,\"am\")\n",
    "\n",
    "\n"
   ]
  },
  {
   "cell_type": "code",
   "execution_count": null,
   "metadata": {},
   "outputs": [],
   "source": []
  }
 ],
 "metadata": {
  "kernelspec": {
   "display_name": "Python 3",
   "language": "python",
   "name": "python3"
  },
  "language_info": {
   "codemirror_mode": {
    "name": "ipython",
    "version": 3
   },
   "file_extension": ".py",
   "mimetype": "text/x-python",
   "name": "python",
   "nbconvert_exporter": "python",
   "pygments_lexer": "ipython3",
   "version": "3.8.5"
  }
 },
 "nbformat": 4,
 "nbformat_minor": 4
}
