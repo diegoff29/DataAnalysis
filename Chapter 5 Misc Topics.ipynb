{
 "cells": [
  {
   "cell_type": "code",
   "execution_count": 2,
   "metadata": {},
   "outputs": [
    {
     "name": "stdout",
     "output_type": "stream",
     "text": [
      "1\n",
      "9\n",
      "11\n",
      "19\n",
      "21\n",
      "29\n",
      "31\n",
      "39\n",
      "41\n",
      "49\n",
      "51\n",
      "59\n",
      "61\n",
      "69\n",
      "71\n",
      "79\n",
      "81\n",
      "89\n",
      "91\n",
      "99\n",
      "20\n"
     ]
    }
   ],
   "source": [
    "count=0\n",
    "for a in range (100):\n",
    "    if(a**2%10==1):\n",
    "        count=count+1\n",
    "print(count)\n",
    "        "
   ]
  },
  {
   "cell_type": "code",
   "execution_count": 4,
   "metadata": {},
   "outputs": [
    {
     "name": "stdout",
     "output_type": "stream",
     "text": [
      "2\n",
      "3\n",
      "7\n",
      "8\n",
      "12\n",
      "13\n",
      "17\n",
      "18\n",
      "22\n",
      "23\n",
      "27\n",
      "28\n",
      "32\n",
      "33\n",
      "37\n",
      "38\n",
      "42\n",
      "43\n",
      "47\n",
      "48\n",
      "52\n",
      "53\n",
      "57\n",
      "58\n",
      "62\n",
      "63\n",
      "67\n",
      "68\n",
      "72\n",
      "73\n",
      "77\n",
      "78\n",
      "82\n",
      "83\n",
      "87\n",
      "88\n",
      "92\n",
      "93\n",
      "97\n",
      "98\n",
      "20\n",
      "20\n"
     ]
    }
   ],
   "source": [
    "count4=0\n",
    "count9=0\n",
    "for a in range (100):\n",
    "    if(a**2%10==4):\n",
    "        count4=count4+1\n",
    "    if(a**2%10==9):\n",
    "        count9=count9+1\n",
    "print(count4)\n",
    "print(count9)"
   ]
  },
  {
   "cell_type": "code",
   "execution_count": 15,
   "metadata": {},
   "outputs": [
    {
     "name": "stdout",
     "output_type": "stream",
     "text": [
      "Enter the desired number: 10000000\n",
      "0.5772157148989514\n"
     ]
    }
   ],
   "source": [
    "from math import log\n",
    "n=int(input(\"Enter the desired number: \"))\n",
    "sum=0\n",
    "for a in range(n):\n",
    "    sum=sum+(1/(a+1))\n",
    "print(sum-log(n))\n",
    "    "
   ]
  },
  {
   "cell_type": "code",
   "execution_count": 31,
   "metadata": {},
   "outputs": [
    {
     "name": "stdout",
     "output_type": "stream",
     "text": [
      "-1000\n"
     ]
    }
   ],
   "source": [
    "n=0;\n",
    "sum=0;\n",
    "for a in range (1,2001):\n",
    "    sum=sum+(a*((-1)**n))\n",
    "    n=n+1\n",
    "print(sum)"
   ]
  },
  {
   "cell_type": "code",
   "execution_count": 36,
   "metadata": {},
   "outputs": [
    {
     "name": "stdout",
     "output_type": "stream",
     "text": [
      "Enter the desired number: 25\n",
      "31\n"
     ]
    }
   ],
   "source": [
    "n=int(input(\"Enter the desired number: \"))\n",
    "sum=0\n",
    "for a in range(1,n+1):\n",
    "    if n%a==0:\n",
    "        sum=sum+a\n",
    "print(sum)"
   ]
  },
  {
   "cell_type": "code",
   "execution_count": 44,
   "metadata": {},
   "outputs": [
    {
     "name": "stdout",
     "output_type": "stream",
     "text": [
      "6\n",
      "28\n",
      "496\n",
      "8128\n"
     ]
    }
   ],
   "source": [
    "from math import *\n",
    "for b in range(2,10001):\n",
    "    sum=0\n",
    "    for a in range(1,floor(b/2+2)):\n",
    "        if b%a==0:\n",
    "            sum=sum+a\n",
    "    if sum==b:\n",
    "        print(b)"
   ]
  },
  {
   "cell_type": "code",
   "execution_count": 62,
   "metadata": {},
   "outputs": [
    {
     "name": "stdout",
     "output_type": "stream",
     "text": [
      "Enter the desired number: 984\n",
      "Not squarefree\n"
     ]
    }
   ],
   "source": [
    " \n",
    "n=int(input(\"Enter the desired number: \"))\n",
    "sum=0\n",
    "flag=0\n",
    "for a in range(2,n+1):\n",
    "    if n%a==0:\n",
    "        if a**0.5==floor(a**0.5):\n",
    "            flag=1\n",
    "            break\n",
    "if(flag==1):\n",
    "    print(\"Not squarefree\")\n",
    "else:\n",
    "    print(\"Squarefree\")"
   ]
  },
  {
   "cell_type": "code",
   "execution_count": 64,
   "metadata": {},
   "outputs": [
    {
     "name": "stdout",
     "output_type": "stream",
     "text": [
      "2\n",
      "3\n",
      "1\n"
     ]
    }
   ],
   "source": [
    "x=1\n",
    "y=2\n",
    "z=3\n",
    "x,y=y,x\n",
    "z,y=y,z\n",
    "print(x)\n",
    "print(y)\n",
    "print(z)"
   ]
  },
  {
   "cell_type": "code",
   "execution_count": 95,
   "metadata": {},
   "outputs": [
    {
     "name": "stdout",
     "output_type": "stream",
     "text": [
      "964\n",
      "False\n"
     ]
    }
   ],
   "source": [
    "count=0\n",
    "for a in range(1,1001):\n",
    "    flag=0\n",
    "    if round(a**0.5,2)==a**0.5:\n",
    "        flag=1\n",
    "    if round(a**(1/3),2)==a**(1/3):\n",
    "        flag=1\n",
    "    if round(a**(1/5),2)==a**(1/5):\n",
    "        flag=1\n",
    "    if flag==0:\n",
    "        count=count+1\n",
    "print(count)\n",
    "a=bool(round(a**(1/3),2)==floor(a**(1/3)))\n",
    "print(a)"
   ]
  },
  {
   "cell_type": "code",
   "execution_count": 116,
   "metadata": {},
   "outputs": [
    {
     "name": "stdout",
     "output_type": "stream",
     "text": [
      "Enter the result of the desired test 1\n",
      "Enter the result of the desired test 2\n",
      "Enter the result of the desired test 3\n",
      "Enter the result of the desired test 4\n",
      "Enter the result of the desired test 5\n",
      "Enter the result of the desired test 6\n",
      "Enter the result of the desired test 7\n",
      "Enter the result of the desired test 8\n",
      "Enter the result of the desired test 9\n",
      "Enter the result of the desired test 10\n",
      "The largest test result was 10\n",
      "The smallest test result was 1\n",
      "The average test result was 5.5\n",
      "The second highest test result 9\n",
      "The new average is 6.5\n"
     ]
    }
   ],
   "source": [
    "sum=0\n",
    "flag=0\n",
    "Seclargest=0\n",
    "Secsmallest=0\n",
    "for a in range (1,11):\n",
    "    n=int(input(\"Enter the result of the desired test \"))\n",
    "    sum=sum+n\n",
    "    if n>100:\n",
    "        flag=1\n",
    "    if (a==1):\n",
    "        largest=n\n",
    "        smallest=n\n",
    "    else:\n",
    "        if(n>Seclargest):\n",
    "            Seclargest=n\n",
    "        if (Seclargest>largest):\n",
    "            Seclargest,largest=largest,Seclargest\n",
    "        if (a==2):\n",
    "            Secsmallest=n\n",
    "        else:\n",
    "            if(n<Secsmallest):\n",
    "                Secsmallest=n\n",
    "            if (Secsmallest<smallest):\n",
    "                Secsmallest,smallest=smallest,Secsmallest\n",
    "average=sum/10\n",
    "print(\"The largest test result was\",largest)\n",
    "print(\"The smallest test result was\",smallest)\n",
    "print(\"The average test result was\",average)\n",
    "print(\"The second highest test result\",Seclargest)\n",
    "changedaverage=(sum-smallest-Secsmallest)/8\n",
    "print(\"The new average is\",changedaverage)\n",
    "if flag==1:\n",
    "    print(\"At least one of the test results was higher than 100\")"
   ]
  },
  {
   "cell_type": "code",
   "execution_count": 120,
   "metadata": {},
   "outputs": [
    {
     "name": "stdout",
     "output_type": "stream",
     "text": [
      "Enter the desired number: 10\n",
      "3628800\n"
     ]
    }
   ],
   "source": [
    "n=int(input(\"Enter the desired number: \"))\n",
    "fact=1\n",
    "for a in range(1,n+1):\n",
    "    fact=fact*a\n",
    "print(fact)\n"
   ]
  },
  {
   "cell_type": "code",
   "execution_count": 124,
   "metadata": {},
   "outputs": [
    {
     "name": "stdout",
     "output_type": "stream",
     "text": [
      "Enter your guess: 4\n",
      "Incorrect\n",
      "Enter your guess: 4\n",
      "Correct\n",
      "Enter your guess: 4\n",
      "Incorrect\n",
      "Enter your guess: 4\n",
      "Incorrect\n",
      "Enter your guess: 4\n",
      "Incorrect\n",
      "6\n"
     ]
    }
   ],
   "source": [
    "from random import randint\n",
    "score=0\n",
    "for a in range(5):\n",
    "    x=randint(1,10)\n",
    "    n=int(input(\"Enter your guess: \"))\n",
    "    if(x==n):\n",
    "        print(\"Correct\")\n",
    "        score=score+10\n",
    "    else:\n",
    "        print(\"Incorrect\")\n",
    "        score=score-1\n",
    "print(score)\n",
    "    "
   ]
  },
  {
   "cell_type": "code",
   "execution_count": 125,
   "metadata": {},
   "outputs": [
    {
     "name": "stdout",
     "output_type": "stream",
     "text": [
      "1 --- 5 times 5equal? 5\n",
      "Incorrect.The correct result was 25\n",
      "2 --- 6 times 1equal? 6\n",
      "Correct!\n",
      "3 --- 10 times 4equal? 4\n",
      "Incorrect.The correct result was 40\n",
      "4 --- 8 times 10equal? 80\n",
      "Correct!\n",
      "5 --- 2 times 1equal? 2\n",
      "Correct!\n",
      "6 --- 4 times 10equal? 40\n",
      "Correct!\n",
      "7 --- 7 times 10equal? 8\n",
      "Incorrect.The correct result was 70\n",
      "8 --- 7 times 6equal? 3\n",
      "Incorrect.The correct result was 42\n",
      "9 --- 12 times 11equal? 5\n",
      "Incorrect.The correct result was 132\n",
      "10 --- 1 times 9equal? 9\n",
      "Correct!\n",
      "5\n",
      "5\n"
     ]
    }
   ],
   "source": [
    "from random import randint\n",
    "correct=0\n",
    "incorrect=0\n",
    "for a in range(1,11):\n",
    "    b=randint(1,12)\n",
    "    c=randint(1,12)\n",
    "    result=int(b*c)\n",
    "    print(a,\"---\",b,\"times\",c,end=\"\")\n",
    "    guess=int(input(\" equal? \"))\n",
    "    if (guess==result):\n",
    "        print(\"Correct!\")\n",
    "        correct=correct+1\n",
    "    else:\n",
    "        print(\"Incorrect.The correct result was\",result)\n",
    "        incorrect=incorrect+1\n",
    "print(correct)\n",
    "print(incorrect)"
   ]
  },
  {
   "cell_type": "code",
   "execution_count": 162,
   "metadata": {},
   "outputs": [
    {
     "name": "stdout",
     "output_type": "stream",
     "text": [
      "3283\n"
     ]
    }
   ],
   "source": [
    "from random import randint\n",
    "countNot=0\n",
    "for a in range(10000):\n",
    "    Car=1\n",
    "    OriginalHuman=randint(1,3)\n",
    "    if(Car==OriginalHuman):\n",
    "        countNot=countNot+1\n",
    "print(countNot)\n",
    " "
   ]
  },
  {
   "cell_type": "code",
   "execution_count": 164,
   "metadata": {},
   "outputs": [
    {
     "name": "stdout",
     "output_type": "stream",
     "text": [
      "2558\n"
     ]
    }
   ],
   "source": [
    "from random import randint\n",
    "countNot=0\n",
    "count4=0\n",
    "for a in range(10000):\n",
    "    Car=1\n",
    "    OriginalHuman=randint(1,4)\n",
    "    Eliminated=4\n",
    "    if(OriginalHuman!=4)\n",
    "    count4=count4+1:\n",
    "    if(Car==OriginalHuman):\n",
    "        countNot=countNot+1\n",
    "print(countNot)\n",
    " "
   ]
  },
  {
   "cell_type": "code",
   "execution_count": null,
   "metadata": {},
   "outputs": [],
   "source": []
  },
  {
   "cell_type": "code",
   "execution_count": null,
   "metadata": {},
   "outputs": [],
   "source": []
  }
 ],
 "metadata": {
  "kernelspec": {
   "display_name": "Python 3",
   "language": "python",
   "name": "python3"
  },
  "language_info": {
   "codemirror_mode": {
    "name": "ipython",
    "version": 3
   },
   "file_extension": ".py",
   "mimetype": "text/x-python",
   "name": "python",
   "nbconvert_exporter": "python",
   "pygments_lexer": "ipython3",
   "version": "3.8.5"
  }
 },
 "nbformat": 4,
 "nbformat_minor": 4
}
