{
 "cells": [
  {
   "cell_type": "code",
   "execution_count": 28,
   "metadata": {},
   "outputs": [
    {
     "name": "stdout",
     "output_type": "stream",
     "text": [
      "Enter your string: Appetito 24\n",
      "The length of the string is 11\n",
      "Appetito 24 Appetito 24 Appetito 24 Appetito 24 Appetito 24 Appetito 24 Appetito 24 Appetito 24 Appetito 24 Appetito 24 \n",
      "The first character of the string is A\n",
      "The first three characters of the string are App\n",
      "The string backwards is 42 otiteppA\n",
      "The seventh character is t\n",
      "The new string is ppetito 2\n",
      "The screaming string is APPETITO 24\n",
      "E: Appetito 24\n",
      "         24\n"
     ]
    }
   ],
   "source": [
    "string=input(\"Enter your string: \")\n",
    "a=len(string)\n",
    "print(\"The length of the string is\",a)\n",
    "print((string+\" \")*10)\n",
    "c=string[0]\n",
    "print(\"The first character of the string is\",c)\n",
    "d=string[0:3]\n",
    "print(\"The first three characters of the string are\",d)\n",
    "e=string[-1::-1]\n",
    "print(\"The string backwards is\",e)\n",
    "if a<7:\n",
    "    print(\"Error. This is string is too short\")\n",
    "else:\n",
    "    print(\"The seventh character is\",string[6])\n",
    "f=string[1:a-1]\n",
    "print(\"The new string is\",f)\n",
    "print(\"The screaming string is\",string.upper())\n",
    "print(\"E:\",string.replace(\"a\",\"e\"))\n",
    "newstring=string\n",
    "for h in range(a):\n",
    "    if  newstring[h].isalpha():\n",
    "        newstring=newstring.replace(newstring[h],\" \")\n",
    "print(newstring)"
   ]
  },
  {
   "cell_type": "code",
   "execution_count": 1,
   "metadata": {},
   "outputs": [
    {
     "name": "stdout",
     "output_type": "stream",
     "text": [
      "Enter your string: My name is Diego Herrea\n",
      "5\n"
     ]
    }
   ],
   "source": [
    "string=input(\"Enter your string: \")\n",
    "a=len(string)\n",
    "count=1\n",
    "for b in range(a):\n",
    "    if string[b]==\" \":\n",
    "        count=count+1\n",
    "print(count)\n",
    "    \n"
   ]
  },
  {
   "cell_type": "code",
   "execution_count": 37,
   "metadata": {},
   "outputs": [
    {
     "name": "stdout",
     "output_type": "stream",
     "text": [
      "Enter your string: qqwe)\n",
      "0\n",
      "1\n"
     ]
    }
   ],
   "source": [
    "string=input(\"Enter your string: \")\n",
    "openpar=0\n",
    "closepar=0\n",
    "a=len(string)\n",
    "for b in range(a):\n",
    "    if string[b]==\"(\":\n",
    "        openpar=openpar+1\n",
    "    else:\n",
    "        if string[b]==\")\":\n",
    "            closepar=closepar+1\n",
    "print(openpar)\n",
    "print(closepar)"
   ]
  },
  {
   "cell_type": "code",
   "execution_count": 2,
   "metadata": {},
   "outputs": [
    {
     "name": "stdout",
     "output_type": "stream",
     "text": [
      "Enter your string: facetious\n",
      "The string has a vowel\n"
     ]
    }
   ],
   "source": [
    "string=input(\"Enter your string: \")\n",
    "a=len(string)\n",
    "flag=0\n",
    "for b in range(a):\n",
    "    if string[b] in \"aeiou\":\n",
    "        flag=1\n",
    "        break\n",
    "if flag==1:\n",
    "    print(\"The string has a vowel\")\n",
    "else:\n",
    "    print(\"The string has no vowels\")\n",
    "    "
   ]
  },
  {
   "cell_type": "code",
   "execution_count": 3,
   "metadata": {},
   "outputs": [
    {
     "name": "stdout",
     "output_type": "stream",
     "text": [
      "Enter your string: Qbert\n",
      "Q*ert!!!\n"
     ]
    }
   ],
   "source": [
    "string=input(\"Enter your string: \")\n",
    "a=len(string)\n",
    "new_string=string[:1]+\"*\"+string[2:]+\"!!!\"\n",
    "print(new_string)"
   ]
  },
  {
   "cell_type": "code",
   "execution_count": 4,
   "metadata": {},
   "outputs": [
    {
     "name": "stdout",
     "output_type": "stream",
     "text": [
      "Enter your string: A Diego, Yusuf y Edmund\n",
      "a diego yusuf y edmund\n"
     ]
    }
   ],
   "source": [
    "string=input(\"Enter your string: \")\n",
    "a=len(string)\n",
    "string=string.lower()\n",
    "punctuation=\".,\"\n",
    "for a in range(len(punctuation)):\n",
    "    string=string.replace(punctuation[a],\"\")\n",
    "print(string)"
   ]
  },
  {
   "cell_type": "code",
   "execution_count": 58,
   "metadata": {},
   "outputs": [
    {
     "name": "stdout",
     "output_type": "stream",
     "text": [
      "Enter your string: bottob\n",
      "This is a palindrome\n"
     ]
    }
   ],
   "source": [
    "string=input(\"Enter your string: \")\n",
    "backstring=string[-1::-1]\n",
    "a=len(string)\n",
    "flag=0\n",
    "for b in range(a):\n",
    "    if string[b]!=backstring[b]:\n",
    "        flag=1\n",
    "        break\n",
    "if flag==0:\n",
    "    print(\"This is a palindrome\")\n",
    "else:\n",
    "    print(\"This is not a palindrome\")\n",
    "        \n"
   ]
  },
  {
   "cell_type": "code",
   "execution_count": 63,
   "metadata": {},
   "outputs": [
    {
     "name": "stdout",
     "output_type": "stream",
     "text": [
      "Number of addresses: 2\n",
      "Enter your string: diego.herrera@student.college.edu\n",
      "dent\n",
      "Enter your string: diego.herrera@prof.college.edu\n",
      "prof\n",
      "There were some proffesor addresses\n"
     ]
    }
   ],
   "source": [
    "n=int(input(\"Number of addresses: \"))\n",
    "flag=0\n",
    "for a in range(n):\n",
    "    string=input(\"Enter your string: \")\n",
    "    print(string[-16:-12])\n",
    "    if string[-16:-12]==\"prof\":\n",
    "        flag=1\n",
    "if flag==1:\n",
    "    print(\"There were some proffesor addresses\")\n",
    "else:\n",
    "    print(\"All student addresses\")\n",
    "    \n"
   ]
  },
  {
   "cell_type": "code",
   "execution_count": 64,
   "metadata": {},
   "outputs": [
    {
     "name": "stdout",
     "output_type": "stream",
     "text": [
      "Number of numbers: 10\n",
      " 1\n",
      "  2\n",
      "   3\n",
      "    4\n",
      "     5\n",
      "      6\n",
      "       7\n",
      "        8\n",
      "         9\n",
      "          10\n"
     ]
    }
   ],
   "source": [
    "n=int(input(\"Number of numbers: \"))\n",
    "for a in range(n):\n",
    "    print(\" \"*a,(a+1))\n"
   ]
  },
  {
   "cell_type": "code",
   "execution_count": 66,
   "metadata": {},
   "outputs": [
    {
     "name": "stdout",
     "output_type": "stream",
     "text": [
      "Enter your string: Diego\n",
      "DD\n",
      "ii\n",
      "ee\n",
      "gg\n",
      "oo\n"
     ]
    }
   ],
   "source": [
    "string=input(\"Enter your string: \")\n",
    "a=len(string)\n",
    "for b in range(a):\n",
    "    print(string[b]*2)"
   ]
  },
  {
   "cell_type": "code",
   "execution_count": 70,
   "metadata": {},
   "outputs": [
    {
     "name": "stdout",
     "output_type": "stream",
     "text": [
      "Enter your string: aparicion\n",
      "a\n",
      "paricion\n"
     ]
    }
   ],
   "source": [
    "string=input(\"Enter your string: \")\n",
    "a=string.index(\"a\")\n",
    "print(string[:a+1])\n",
    "print(string[a+1:])"
   ]
  },
  {
   "cell_type": "code",
   "execution_count": 5,
   "metadata": {},
   "outputs": [
    {
     "name": "stdout",
     "output_type": "stream",
     "text": [
      "Enter your string: Impares\n",
      "IMpArEs"
     ]
    }
   ],
   "source": [
    "string=input(\"Enter your string: \")\n",
    "a=len(string)\n",
    "for b in range(a):\n",
    "    char=string[b]\n",
    "    if b%2==1:\n",
    "        char=char.upper()\n",
    "    print(char,end=\"\")"
   ]
  },
  {
   "cell_type": "code",
   "execution_count": 89,
   "metadata": {},
   "outputs": [
    {
     "name": "stdout",
     "output_type": "stream",
     "text": [
      "Enter your first string: Diego\n",
      "Enter your second string: pies\n",
      "These strings are not the same length\n"
     ]
    }
   ],
   "source": [
    "\n",
    "firststr=input(\"Enter your first string: \")\n",
    "secondstr=input(\"Enter your second string: \")\n",
    "a=len(firststr)\n",
    "b=len(secondstr)\n",
    "for c in range(a):\n",
    "    if(a!=b):\n",
    "        print(\"These strings are not the same length\")\n",
    "        break\n",
    "    else:\n",
    "        print(firststr[c],end=\"\")\n",
    "        print(secondstr[c],end=\"\")\n",
    "    "
   ]
  },
  {
   "cell_type": "code",
   "execution_count": 6,
   "metadata": {},
   "outputs": [
    {
     "name": "stdout",
     "output_type": "stream",
     "text": [
      "Enter your name in lowercase: diego\n",
      "Diego\n"
     ]
    }
   ],
   "source": [
    "name=input(\"Enter your name in lowercase: \")\n",
    "print(name[0].upper() + name[1:])"
   ]
  },
  {
   "cell_type": "code",
   "execution_count": null,
   "metadata": {},
   "outputs": [],
   "source": []
  },
  {
   "cell_type": "code",
   "execution_count": 99,
   "metadata": {},
   "outputs": [
    {
     "name": "stdout",
     "output_type": "stream",
     "text": [
      "Enter your name in lowercase: George Washington\n",
      "George\n",
      "Washington\n"
     ]
    }
   ],
   "source": [
    "name=input(\"Enter your name in lowercase: \")\n",
    "space=name.index(\" \")\n",
    "first=name[:space]\n",
    "last=name[space+1:]\n",
    "print(first)\n",
    "print(last)"
   ]
  },
  {
   "cell_type": "code",
   "execution_count": 101,
   "metadata": {},
   "outputs": [
    {
     "name": "stdout",
     "output_type": "stream",
     "text": [
      "abcdefghijklmnopqrstuvwxyz\n",
      "bcdefghijklmnopqrstuvwxyza\n",
      "cdefghijklmnopqrstuvwxyzab\n",
      "defghijklmnopqrstuvwxyzabc\n",
      "efghijklmnopqrstuvwxyzabcd\n",
      "fghijklmnopqrstuvwxyzabcde\n",
      "ghijklmnopqrstuvwxyzabcdef\n",
      "hijklmnopqrstuvwxyzabcdefg\n",
      "ijklmnopqrstuvwxyzabcdefgh\n",
      "jklmnopqrstuvwxyzabcdefghi\n",
      "klmnopqrstuvwxyzabcdefghij\n",
      "lmnopqrstuvwxyzabcdefghijk\n",
      "mnopqrstuvwxyzabcdefghijkl\n",
      "nopqrstuvwxyzabcdefghijklm\n",
      "opqrstuvwxyzabcdefghijklmn\n",
      "pqrstuvwxyzabcdefghijklmno\n",
      "qrstuvwxyzabcdefghijklmnop\n",
      "rstuvwxyzabcdefghijklmnopq\n",
      "stuvwxyzabcdefghijklmnopqr\n",
      "tuvwxyzabcdefghijklmnopqrs\n",
      "uvwxyzabcdefghijklmnopqrst\n",
      "vwxyzabcdefghijklmnopqrstu\n",
      "wxyzabcdefghijklmnopqrstuv\n",
      "xyzabcdefghijklmnopqrstuvw\n",
      "yzabcdefghijklmnopqrstuvwx\n",
      "zabcdefghijklmnopqrstuvwxy\n"
     ]
    }
   ],
   "source": [
    "Alphabet=\"abcdefghijklmnopqrstuvwxyz\"\n",
    "for a in range(26):\n",
    "    print(Alphabet[a:] + Alphabet[:a])"
   ]
  },
  {
   "cell_type": "code",
   "execution_count": 104,
   "metadata": {},
   "outputs": [
    {
     "name": "stdout",
     "output_type": "stream",
     "text": [
      "Enter your string: Diego\n",
      "Enter the desired letter a\n",
      "The letter is not in the string\n"
     ]
    }
   ],
   "source": [
    "string=input(\"Enter your string: \")\n",
    "a=len(string)\n",
    "char=input(\"Enter the desired letter \")\n",
    "flag=0\n",
    "for b in range(a):\n",
    "    if char==string[b]:\n",
    "        flag=1\n",
    "        break\n",
    "if flag==1:\n",
    "    print(\"The letter is in the string\")\n",
    "else:\n",
    "    print(\"The letter is not in the string\")"
   ]
  },
  {
   "cell_type": "code",
   "execution_count": 7,
   "metadata": {},
   "outputs": [
    {
     "name": "stdout",
     "output_type": "stream",
     "text": [
      "Enter your string: Camara\n",
      "Enter the desired letter a\n",
      "3\n"
     ]
    }
   ],
   "source": [
    "string=input(\"Enter your string: \")\n",
    "a=len(string)\n",
    "char=input(\"Enter the desired letter \")\n",
    "count=0\n",
    "for b in range(a):\n",
    "    if char==string[b]:\n",
    "        count=count+1\n",
    "        \n",
    "print(count)"
   ]
  },
  {
   "cell_type": "code",
   "execution_count": 112,
   "metadata": {},
   "outputs": [
    {
     "name": "stdout",
     "output_type": "stream",
     "text": [
      "Enter your string: CarloS\n",
      "Enter the desired letter s\n",
      "The letter is in the position 6\n"
     ]
    }
   ],
   "source": [
    "string=input(\"Enter your string: \")\n",
    "a=len(string)\n",
    "char=input(\"Enter the desired letter \")\n",
    "flag=0\n",
    "for b in range(a):\n",
    "    if char.lower()==string[b].lower():\n",
    "        flag=1\n",
    "        break\n",
    "if flag==1:\n",
    "    print(\"The letter is in the position\",b+1)\n",
    "else:\n",
    "    print(\"The letter is not in this string\")"
   ]
  },
  {
   "cell_type": "code",
   "execution_count": 142,
   "metadata": {},
   "outputs": [
    {
     "name": "stdout",
     "output_type": "stream",
     "text": [
      "Enter the desired number 1000000\n",
      "1,000,000\n"
     ]
    }
   ],
   "source": [
    "number=input(\"Enter the desired number \")\n",
    "a=len(number)\n",
    "back=number[-1::-1]\n",
    "c=0\n",
    "back1=\"\"\n",
    "for b in range(a):\n",
    "    back1=back1+back[b]\n",
    "    c=c+1\n",
    "    if(c%3==0) and (b!=(a-1)):\n",
    "        back1=back1+\",\"\n",
    "string=back1[-1::-1]\n",
    "print(string)"
   ]
  },
  {
   "cell_type": "code",
   "execution_count": 178,
   "metadata": {},
   "outputs": [
    {
     "name": "stdout",
     "output_type": "stream",
     "text": [
      "Enter the hour: 11:54pm\n",
      "Enter the current timezone Mountain\n",
      "Enter the desired timezone Central\n",
      "The new hour is 12:54am\n"
     ]
    }
   ],
   "source": [
    "string=input(\"Enter the hour: \")\n",
    "a=len(string)\n",
    "half=string[-2::1]\n",
    "minutes=string[-5:-2:1]\n",
    "hour=string[:-5:1]\n",
    "if half==\"pm\" and (hour!=\"12\"):\n",
    "    hour=str(int(hour)+12)\n",
    "oldzone=input(\"Enter the current timezone \")\n",
    "newzone=input(\"Enter the desired timezone \")\n",
    "if oldzone.lower()==\"eastern\":\n",
    "    UKtime=int(hour)+5\n",
    "else:\n",
    "    if oldzone.lower()==\"central\": \n",
    "        UKtime=int(hour)+6\n",
    "    else:\n",
    "        if oldzone.lower()==\"mountain\":\n",
    "            UKtime=int(hour)+7\n",
    "        else:\n",
    "            if oldzone.lower()==\"pacific\":\n",
    "                UKtime=int(hour)+8\n",
    "if newzone.lower()==\"eastern\":\n",
    "    hour=UKtime-5\n",
    "else:\n",
    "    if newzone.lower()==\"central\": \n",
    "        hour=UKtime-6\n",
    "    else:\n",
    "        if newzone.lower()==\"mountain\":\n",
    "            hour=UKtime-7\n",
    "        else:\n",
    "            if newzone.lower()==\"pacific\":\n",
    "                hour=UKtime-8\n",
    "hour=hour%24\n",
    "if (hour%12==0):\n",
    "    hour=hour+12\n",
    "if hour<=12:\n",
    "    print(\"The new hour is \",str(hour),minutes,\"am\",sep=\"\")\n",
    "else:\n",
    "    hour=hour-12\n",
    "    print(\"The new hour is \",str(hour),minutes,\"pm\",sep=\"\")\n",
    "     \n",
    "    "
   ]
  },
  {
   "cell_type": "markdown",
   "metadata": {},
   "source": []
  },
  {
   "cell_type": "code",
   "execution_count": 198,
   "metadata": {},
   "outputs": [
    {
     "name": "stdout",
     "output_type": "stream",
     "text": [
      "Enter your string: carioa\n",
      "rcaoai\n"
     ]
    }
   ],
   "source": [
    "from random import randint\n",
    "string=input(\"Enter your string: \")\n",
    "a=len(string)\n",
    "new_string=\"\"\n",
    "for b in range(a):\n",
    "    x=randint(0,a-b-1)\n",
    "    new_string= string[x]+new_string\n",
    "    string=string[:x]+string[x+1:]\n",
    "print(new_string)"
   ]
  },
  {
   "cell_type": "code",
   "execution_count": 8,
   "metadata": {},
   "outputs": [
    {
     "name": "stdout",
     "output_type": "stream",
     "text": [
      "Enter your string: tumedejastecaer\n",
      "tmdjsearueeatce\n"
     ]
    }
   ],
   "source": [
    "string=input(\"Enter your string: \")\n",
    "a=len(string)\n",
    "new_string=\"\"\n",
    "for b in range(0,a,2):\n",
    "    new_string=new_string+string[b]\n",
    "for c in range(1,a,2):\n",
    "    new_string=new_string+string[c]\n",
    "print(new_string)"
   ]
  },
  {
   "cell_type": "code",
   "execution_count": 9,
   "metadata": {},
   "outputs": [
    {
     "name": "stdout",
     "output_type": "stream",
     "text": [
      "Enter your string: tmdjsearueeatce\n",
      "tumedejastecaer\n"
     ]
    }
   ],
   "source": [
    "from math import *\n",
    "string=input(\"Enter your string: \")\n",
    "a=len(string)\n",
    "midpoint=floor(int((a+1)/2))\n",
    "new_string=\"\"\n",
    "for b in range(midpoint):\n",
    "        new_string=new_string+string[b]\n",
    "        if(midpoint+b)<=(a-1):\n",
    "            new_string=new_string+string[midpoint+b]\n",
    "print(new_string)"
   ]
  },
  {
   "cell_type": "code",
   "execution_count": 10,
   "metadata": {},
   "outputs": [
    {
     "name": "stdout",
     "output_type": "stream",
     "text": [
      "Enter your string: tumedejastecaer\n",
      "Enter the amount of parts: 5\n",
      "teeujcmaaesedtr\n"
     ]
    }
   ],
   "source": [
    "string=input(\"Enter your string: \")\n",
    "a=len(string)\n",
    "new_string=\"\"\n",
    "number=int(input(\"Enter the amount of parts: \"))\n",
    "for d in range(number):\n",
    "    for b in range(d,a,number):\n",
    "        new_string=new_string+string[b]\n",
    "print(new_string)"
   ]
  },
  {
   "cell_type": "code",
   "execution_count": 265,
   "metadata": {},
   "outputs": [
    {
     "name": "stdout",
     "output_type": "stream",
     "text": [
      "Enter your string: ttirocasop siri\n",
      "Enter the amount of parts: 5\n",
      "15\n",
      "3\n",
      "trapitos ricosi\n"
     ]
    }
   ],
   "source": [
    "string=input(\"Enter your string: \")\n",
    "a=len(string)\n",
    "new_string=\"\"\n",
    "number=int(input(\"Enter the amount of parts: \"))\n",
    "partition=floor((a+number-1)/number)\n",
    "print(a)\n",
    "print(partition)\n",
    "modulus=a%number\n",
    "for b in range(partition):\n",
    "    new_string=new_string+string[b]\n",
    "    for c in range(1,number):\n",
    "        if (partition*c+b)<=(a-1):\n",
    "            new_string=new_string+string[partition*c+b]\n",
    "print(new_string)\n",
    "            "
   ]
  },
  {
   "cell_type": "code",
   "execution_count": 274,
   "metadata": {},
   "outputs": [
    {
     "name": "stdout",
     "output_type": "stream",
     "text": [
      "Enter your string: x^6\n",
      "The derivate is 6x^5\n",
      "Help on method_descriptor:\n",
      "\n",
      "isdigit(self, /)\n",
      "    Return True if the string is a digit string, False otherwise.\n",
      "    \n",
      "    A string is a digit string if all characters in the string are digits and there\n",
      "    is at least one character in the string.\n",
      "\n"
     ]
    }
   ],
   "source": [
    "string=input(\"Enter your string: \")\n",
    "a=len(string)\n",
    "sign=string.index(\"^\")\n",
    "exponent=float(string[sign+1:])\n",
    "variable=string[:sign]\n",
    "print(\"The derivate is \",int(exponent),variable,\"^\",int(exponent-1),sep=\"\")"
   ]
  },
  {
   "cell_type": "code",
   "execution_count": 279,
   "metadata": {},
   "outputs": [
    {
     "name": "stdout",
     "output_type": "stream",
     "text": [
      "Enter your string: 5(4x+6y)\n",
      "5*(4*x+6*y)\n"
     ]
    }
   ],
   "source": [
    "string=input(\"Enter your string: \")\n",
    "a=len(string)\n",
    "new_string=\"\"\n",
    "for b in range(a):\n",
    "    new_string=new_string+string[b]\n",
    "    if string[b] in \"0123456789\":\n",
    "        if (b+1<=a-1):\n",
    "            if (string[b+1].lower() in \"abcedefghijklmnopqrstuvwxyz\") or (string[b+1]==\"(\"):\n",
    "                new_string=new_string+\"*\"\n",
    "print(new_string)"
   ]
  },
  {
   "cell_type": "code",
   "execution_count": null,
   "metadata": {},
   "outputs": [],
   "source": []
  }
 ],
 "metadata": {
  "kernelspec": {
   "display_name": "Python 3",
   "language": "python",
   "name": "python3"
  },
  "language_info": {
   "codemirror_mode": {
    "name": "ipython",
    "version": 3
   },
   "file_extension": ".py",
   "mimetype": "text/x-python",
   "name": "python",
   "nbconvert_exporter": "python",
   "pygments_lexer": "ipython3",
   "version": "3.8.5"
  }
 },
 "nbformat": 4,
 "nbformat_minor": 4
}
