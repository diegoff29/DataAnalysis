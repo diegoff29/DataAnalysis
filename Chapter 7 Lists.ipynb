{
 "cells": [
  {
   "cell_type": "code",
   "execution_count": 35,
   "metadata": {},
   "outputs": [
    {
     "name": "stdout",
     "output_type": "stream",
     "text": [
      "Please enter the desired list: [1,2,4,5,6,2,3,4,19,23,24322]\n",
      "The number of items in the list is 11\n",
      "The last item in the list is 24322\n",
      "[24322, 23, 19, 4, 3, 2, 6, 5, 4, 2, 1]\n",
      "Yes\n",
      "The list has 1 number five\n",
      "[2, 2, 3, 4, 4, 5, 6, 19, 23]\n",
      "The list has 6 numbers less than zero\n"
     ]
    }
   ],
   "source": [
    "List=eval(input(\"Please enter the desired list: \"))\n",
    "a=len(List)\n",
    "print(\"The number of items in the list is\", a)\n",
    "print(\"The last item in the list is\",List[a-1])\n",
    "List.reverse()\n",
    "print(List,sep=\"\")\n",
    "flag=0;\n",
    "count5=0\n",
    "for b in range(a):\n",
    "    if List[b]==5 or List[b]==\"5\":\n",
    "        flag=1\n",
    "        count5=count5+1\n",
    "if flag==0:\n",
    "    print(\"No\")\n",
    "else:\n",
    "    print(\"Yes\")\n",
    "print(\"The list has\",count5,\"number five\")\n",
    "NewList=[]\n",
    "for c in range(1,a-1):\n",
    "    NewList.append(List[c])\n",
    "NewList.sort()\n",
    "print(NewList)\n",
    "countless=0\n",
    "for b in range(a):\n",
    "    if List[b]<5:\n",
    "        countless=countless+1\n",
    "print(\"The list has\",countless,\"numbers less than zero\")"
   ]
  },
  {
   "cell_type": "code",
   "execution_count": 58,
   "metadata": {},
   "outputs": [
    {
     "name": "stdout",
     "output_type": "stream",
     "text": [
      "[96, 78, 70, 76, 16, 19, 95, 74, 90, 83, 72, 30, 57, 44, 28, 13, 31, 88, 62, 32]\n",
      "The average of the numbers of the list is 57.7\n",
      "The smallest number is 13\n",
      "The biggest number is 96\n",
      "[13, 16, 19, 28, 30, 31, 32, 44, 57, 62, 70, 72, 74, 76, 78, 83, 88, 90, 95, 96]\n",
      "The second smallest number is 16\n",
      "The second biggest number is 95\n",
      "14\n"
     ]
    }
   ],
   "source": [
    "from random import randint\n",
    "RandList=[]\n",
    "for a in range(20):\n",
    "    RandList.append(randint(1,100))\n",
    "print(RandList)\n",
    "print(\"The average of the numbers of the list is\",(sum(RandList)/len(RandList)))\n",
    "print(\"The smallest number is\",min(RandList))\n",
    "print(\"The biggest number is\",max(RandList))\n",
    "RandList.sort()\n",
    "print(RandList)\n",
    "print(\"The second smallest number is\",RandList[1])\n",
    "print(\"The second biggest number is\",RandList[-2])\n",
    "counteven=0\n",
    "for b in range(len(RandList)):\n",
    "    if RandList[b]%2==0:\n",
    "        counteven=counteven+1\n",
    "print(counteven)"
   ]
  },
  {
   "cell_type": "code",
   "execution_count": 60,
   "metadata": {},
   "outputs": [
    {
     "name": "stdout",
     "output_type": "stream",
     "text": [
      "[4, 5, 6, 25, 10, 17, 4, 5, 6, 10, 17]\n"
     ]
    }
   ],
   "source": [
    "List=[8,9,10]\n",
    "List[1]=17\n",
    "for b in range(4,7):\n",
    "    List.append(b)\n",
    "del List[0]\n",
    "List.sort()\n",
    "List=List*2\n",
    "\n",
    "List.insert(3,25)\n",
    "print(List)"
   ]
  },
  {
   "cell_type": "code",
   "execution_count": 61,
   "metadata": {},
   "outputs": [
    {
     "name": "stdout",
     "output_type": "stream",
     "text": [
      "Enter a list with number between 1 and 12:[1,2,3,4,11,12,10,9]\n",
      "[1, 2, 3, 4, 10, 10, 10, 9]\n"
     ]
    }
   ],
   "source": [
    "List=eval(input((\"Enter a list with number between 1 and 12:\")))\n",
    "for b in range(len(List)):\n",
    "    if List[b]>10:\n",
    "        del List[b]\n",
    "        List.insert(b,10)\n",
    "print(List)"
   ]
  },
  {
   "cell_type": "code",
   "execution_count": 95,
   "metadata": {},
   "outputs": [
    {
     "name": "stdout",
     "output_type": "stream",
     "text": [
      "How many strings do you desire to enter? 5\n",
      "Enter string number Edmund\n",
      "Enter string number Yusuf\n",
      "Enter string number Kat\n",
      "Enter string number Ha\n",
      "Enter string number Diego\n",
      "['dmund', 'usuf', 'at', 'a', 'iego']\n"
     ]
    }
   ],
   "source": [
    "num=int(input(\"How many strings do you desire to enter? \"))\n",
    "Newlist=[]\n",
    "for a in range(num):\n",
    "    String=input(\"Enter string number \")\n",
    "    Newlist.append(String)\n",
    "for b in range(len(Newlist)):\n",
    "    String=Newlist[b]\n",
    "    Newstring=\"\"\n",
    "    for c in range(1,len(String)):\n",
    "        Newstring=Newstring+String[c]\n",
    "    del Newlist[b]\n",
    "    Newlist.insert(b,Newstring)\n",
    "print(Newlist)"
   ]
  },
  {
   "cell_type": "code",
   "execution_count": 104,
   "metadata": {},
   "outputs": [
    {
     "name": "stdout",
     "output_type": "stream",
     "text": [
      "[0, 1, 2, 3, 4, 5, 6, 7, 8, 9, 10, 11, 12, 13, 14, 15, 16, 17, 18, 19, 20, 21, 22, 23, 24, 25, 26, 27, 28, 29, 30, 31, 32, 33, 34, 35, 36, 37, 38, 39, 40, 41, 42, 43, 44, 45, 46, 47, 48, 49]\n",
      "[1, 4, 9, 16, 25, 36, 49, 64, 81, 100, 121, 144, 169, 196, 225, 256, 289, 324, 361, 400, 441, 484, 529, 576, 625, 676, 729, 784, 841, 900, 961, 1024, 1089, 1156, 1225, 1296, 1369, 1444, 1521, 1600, 1681, 1764, 1849, 1936, 2025, 2116, 2209, 2304, 2401, 2500]\n",
      "['a', 'bb', 'ccc', 'dddd', 'eeeee', 'ffffff', 'ggggggg', 'hhhhhhhh', 'iiiiiiiii', 'jjjjjjjjjj', 'kkkkkkkkkkk', 'llllllllllll', 'mmmmmmmmmmmmm', 'nnnnnnnnnnnnnn', 'ooooooooooooooo', 'pppppppppppppppp', 'qqqqqqqqqqqqqqqqq', 'rrrrrrrrrrrrrrrrrr', 'sssssssssssssssssss', 'tttttttttttttttttttt', 'uuuuuuuuuuuuuuuuuuuuu', 'vvvvvvvvvvvvvvvvvvvvvv', 'wwwwwwwwwwwwwwwwwwwwwww', 'xxxxxxxxxxxxxxxxxxxxxxxx', 'yyyyyyyyyyyyyyyyyyyyyyyyy', 'zzzzzzzzzzzzzzzzzzzzzzzzzz']\n"
     ]
    }
   ],
   "source": [
    "Listint=[]\n",
    "Listsqr=[]\n",
    "Alphabet=(\"abcdefghijklmnopqrstuvwxyz\")\n",
    "Listlet=[]\n",
    "for a in range(50):\n",
    "    Listint.append(a)\n",
    "    Listsqr.append((a+1)**2)\n",
    "for b in range(len(Alphabet)):\n",
    "    Listlet.append(Alphabet[b]*(b+1))\n",
    "print(Listint)\n",
    "print(Listsqr)\n",
    "print(Listlet)"
   ]
  },
  {
   "cell_type": "code",
   "execution_count": 108,
   "metadata": {},
   "outputs": [
    {
     "name": "stdout",
     "output_type": "stream",
     "text": [
      "Enter the first list[1,4,9]\n",
      "Enter the second list[16,25,36]\n",
      "[17, 29, 45]\n"
     ]
    }
   ],
   "source": [
    "L=eval(input(\"Enter the first list\"))\n",
    "M=eval(input(\"Enter the second list\"))\n",
    "N=[]\n",
    "if len(L)!=len(M):\n",
    "    print(\"Error. The two lists are not the same size\")\n",
    "else:\n",
    "    for a in range(len(L)):\n",
    "        N.append(L[a]+M[a])\n",
    "print(N)"
   ]
  },
  {
   "cell_type": "code",
   "execution_count": 112,
   "metadata": {},
   "outputs": [
    {
     "name": "stdout",
     "output_type": "stream",
     "text": [
      "Enter an integer number 125\n",
      "[1, 5, 25, 125]\n"
     ]
    }
   ],
   "source": [
    "num=int(input(\"Enter an integer number \"))\n",
    "Factors=[]\n",
    "for a in range(1,num+1):\n",
    "    if num%(a)==0:\n",
    "        Factors.append(a)\n",
    "print(Factors)"
   ]
  },
  {
   "cell_type": "code",
   "execution_count": 129,
   "metadata": {},
   "outputs": [
    {
     "name": "stdout",
     "output_type": "stream",
     "text": [
      "[0.027, 0.0578, 0.0853, 0.1145, 0.1356, 0.1585, 0.1371, 0.1134, 0.0876, 0.0555, 0.0277]\n"
     ]
    }
   ],
   "source": [
    "from random import randint\n",
    "List=[]\n",
    "for d in range(11):\n",
    "    List.append(0)\n",
    "for b in range(10000):\n",
    "    a= randint(1,6)+randint(1,6)\n",
    "    for c in range(2,13):\n",
    "        if(a==c):\n",
    "            List[c-2]=List[c-2]+1\n",
    "for d in range(11):\n",
    "    List[d]=List[d]/10000\n",
    "print(List)"
   ]
  },
  {
   "cell_type": "code",
   "execution_count": 133,
   "metadata": {},
   "outputs": [
    {
     "name": "stdout",
     "output_type": "stream",
     "text": [
      "Enter the desired list[0.027, 0.0578, 0.0853, 0.1145, 0.1356, 0.1585, 0.1371, 0.1134, 0.0876, 0.0555, 0.0277]\n",
      "[0.0578, 0.0853, 0.1145, 0.1356, 0.1585, 0.1371, 0.1134, 0.0876, 0.0555, 0.0277, 0.027]\n"
     ]
    }
   ],
   "source": [
    "List=eval(input(\"Enter the desired list\"))\n",
    "List.append(List[0])\n",
    "del List[0]\n",
    "print(List)"
   ]
  },
  {
   "cell_type": "code",
   "execution_count": 137,
   "metadata": {},
   "outputs": [
    {
     "name": "stdout",
     "output_type": "stream",
     "text": [
      "[1, 1, 0, 1, 0, 0, 1, 0, 0, 0, 1, 0, 0, 0, 0, 1, 0, 0, 0, 0, 0, 1, 0, 0, 0, 0, 0, 0, 1, 0, 0, 0, 0, 0, 0, 0, 1, 0, 0, 0, 0, 0, 0, 0, 0, 1, 0, 0, 0, 0, 0, 0, 0, 0, 0, 1, 0, 0, 0, 0, 0, 0, 0, 0, 0, 0, 1]\n"
     ]
    }
   ],
   "source": [
    "List=[1]\n",
    "for a in range(11):\n",
    "    List=List+[0]*a\n",
    "    List.append(1)\n",
    "print(List)"
   ]
  },
  {
   "cell_type": "code",
   "execution_count": 232,
   "metadata": {},
   "outputs": [
    {
     "name": "stdout",
     "output_type": "stream",
     "text": [
      "[1, 0, 1, 1, 1, 0, 1, 1, 0, 1, 1, 1, 0, 1, 0, 1, 0, 0, 0, 1, 0, 0, 0, 1, 0, 0, 0, 1, 0, 0, 0, 1, 0, 1, 0, 0, 1, 0, 1, 0, 0, 0, 1, 1, 0, 0, 0, 0, 0, 0, 1, 1, 0, 0, 0, 1, 0, 0, 0, 1, 0, 1, 0, 0, 0, 1, 1, 0, 0, 0, 1, 0, 1, 1, 0, 0, 0, 1, 0, 0, 0, 1, 1, 0, 0, 0, 0, 1, 1, 1, 1, 1, 0, 1, 0, 0, 1, 0, 0, 1]\n",
      "1 1\n",
      "5 1\n",
      "8 1\n",
      "12 1\n",
      "14 1\n",
      "16 3\n",
      "20 3\n",
      "24 3\n",
      "28 3\n",
      "32 1\n",
      "34 2\n",
      "37 1\n",
      "39 3\n",
      "44 6\n",
      "52 3\n",
      "56 3\n",
      "60 1\n",
      "62 3\n",
      "67 3\n",
      "71 1\n",
      "74 3\n",
      "78 3\n",
      "83 4\n",
      "92 1\n",
      "94 2\n",
      "97 2\n",
      "6\n"
     ]
    }
   ],
   "source": [
    "from random import randint\n",
    "List=[]\n",
    "countzero=0\n",
    "countmax=0\n",
    "for a in range(100):\n",
    "    num=randint(0,1)\n",
    "    List.append(num)\n",
    "print(List)\n",
    "NewList=List[:]\n",
    "c=NewList.index(0)\n",
    "for a in range(100):\n",
    "    countzero=0\n",
    "    for b in range(c,100):\n",
    "        if List[b]==1:\n",
    "            c=c+1\n",
    "            break\n",
    "        else:\n",
    "            if((b+1)<100):\n",
    "                countzero=countzero+1\n",
    "                if NewList[b]==NewList[b+1]:\n",
    "                    NewList[b]=\"a\"\n",
    "                else:\n",
    "                    NewList[b]=\"a\"\n",
    "                    break\n",
    "            if(b==99):\n",
    "                countzero=countzero+1\n",
    "    if (countzero>0):\n",
    "        print(c,countzero)\n",
    "        c=c+countzero+1\n",
    "    if countmax<countzero:\n",
    "        countmax=countzero\n",
    "    \n",
    "print(countmax)\n",
    "    \n",
    "    "
   ]
  },
  {
   "cell_type": "code",
   "execution_count": 241,
   "metadata": {},
   "outputs": [
    {
     "name": "stdout",
     "output_type": "stream",
     "text": [
      "Enter the desired list: [1,2,4,5,3,1,3,1,3,11,1,2,4]\n",
      "[1, 2, 4, 5, 3, 11]\n"
     ]
    }
   ],
   "source": [
    "List=eval(input(\"Enter the desired list: \"))\n",
    "NewList=[]\n",
    "for a in range(len(List)):\n",
    "       if(List.index(List[a])==a):\n",
    "        NewList.append(List[a])\n",
    "print(NewList)"
   ]
  },
  {
   "cell_type": "code",
   "execution_count": 251,
   "metadata": {},
   "outputs": [
    {
     "name": "stdout",
     "output_type": "stream",
     "text": [
      "Enter the desired option in feet 3\n",
      "Enter the desired conversion: \n",
      "1 . Inches\n",
      "2 . Yards\n",
      "3 . Miles\n",
      "4 . Millimeters\n",
      "5 . Centimeters\n",
      "6 . Meters\n",
      "7 . Kilometers\n",
      "4\n",
      "914.63\n"
     ]
    }
   ],
   "source": [
    "length=int(input(\"Enter the desired option in feet \"))\n",
    "Units=[\"Inches\",\"Yards\",\"Miles\",\"Millimeters\",\"Centimeters\",\"Meters\",\"Kilometers\"]\n",
    "conversion= print(\"Enter the desired conversion: \")\n",
    "for a in range(len(Units)):\n",
    "    print(a+1,\".\",Units[a])\n",
    "conv=int(input())\n",
    "Table=[12,1/3,1/5280,1000/3.28,100/3.28,1/3.28,1/0.00328]\n",
    "result=length*Table[conv-1]\n",
    "print(round(result,2))"
   ]
  },
  {
   "cell_type": "code",
   "execution_count": 295,
   "metadata": {},
   "outputs": [
    {
     "name": "stdout",
     "output_type": "stream",
     "text": [
      "Enter the message: Robert.lagodiesinha,£!2Sun\n",
      "yjocow.wbfsssvwescr,£!2aeh\n",
      "[7, 21, 13, 24, 23, 3, 0, 11, 1, 25, 4, 15, 10, 17, 4, 22, 5, 21, 17, 0, 0, 0, 0, 8, 10, 20]\n"
     ]
    }
   ],
   "source": [
    "from random import randint\n",
    "Alphabet=[\"a\",\"b\",\"c\",\"d\",\"e\",\"f\",\"g\",\"h\",\"i\",\"j\",\"k\",\"l\",\"m\",\"n\",\"o\",\"p\",\"q\",\"r\",\"s\",\"t\",\"u\",\"v\",\"w\",\"x\",\"y\",\"z\"]\n",
    "messagehigh=input(\"Enter the message: \")\n",
    "message=messagehigh.lower()\n",
    "Shifts=[]\n",
    "Encrypted=\"\"\n",
    "for a in range(len(message)):\n",
    "    if message[a] in Alphabet:\n",
    "        x=randint(1,26)\n",
    "        Shifts.append(x)\n",
    "        letter=Alphabet[((Alphabet.index(message[a])+x)%26)]\n",
    "        Encrypted=Encrypted+letter\n",
    "    else:\n",
    "        Shifts.append(0)\n",
    "        Encrypted=Encrypted+message[a]\n",
    "print(Encrypted)\n",
    "print(Shifts)"
   ]
  },
  {
   "cell_type": "code",
   "execution_count": 296,
   "metadata": {},
   "outputs": [
    {
     "name": "stdout",
     "output_type": "stream",
     "text": [
      "Enter the message: yjocow.wbfsssvwescr,£!2aeh\n",
      "Enter the shifts: [7, 21, 13, 24, 23, 3, 0, 11, 1, 25, 4, 15, 10, 17, 4, 22, 5, 21, 17, 0, 0, 0, 0, 8, 10, 20]\n",
      "<class 'int'>\n",
      "r\n",
      "ro\n",
      "rob\n",
      "robe\n",
      "rober\n",
      "robert\n",
      "robert.\n",
      "robert.l\n",
      "robert.la\n",
      "robert.lag\n",
      "robert.lago\n",
      "robert.lagod\n",
      "robert.lagodi\n",
      "robert.lagodie\n",
      "robert.lagodies\n",
      "robert.lagodiesi\n",
      "robert.lagodiesin\n",
      "robert.lagodiesinh\n",
      "robert.lagodiesinha\n",
      "robert.lagodiesinha,\n",
      "robert.lagodiesinha,£\n",
      "robert.lagodiesinha,£!\n",
      "robert.lagodiesinha,£!2\n",
      "robert.lagodiesinha,£!2s\n",
      "robert.lagodiesinha,£!2su\n",
      "robert.lagodiesinha,£!2sun\n"
     ]
    }
   ],
   "source": [
    "Alphabet=[\"a\",\"b\",\"c\",\"d\",\"e\",\"f\",\"g\",\"h\",\"i\",\"j\",\"k\",\"l\",\"m\",\"n\",\"o\",\"p\",\"q\",\"r\",\"s\",\"t\",\"u\",\"v\",\"w\",\"x\",\"y\",\"z\"]\n",
    "message=input(\"Enter the message: \")\n",
    "Shifts=eval(input(\"Enter the shifts: \"))\n",
    "Decrypted=\"\"\n",
    "for a in range(len(message)):\n",
    "    if message[a] in Alphabet:\n",
    "        Original=Alphabet.index(message[a])-Shifts[a]\n",
    "        if Original<0:\n",
    "            Original=Original+26\n",
    "        Decrypted=Decrypted+Alphabet[Original]\n",
    "    else:\n",
    "        Decrypted=Decrypted+message[a]\n",
    "    \n",
    "print(Decrypted)\n"
   ]
  },
  {
   "cell_type": "code",
   "execution_count": null,
   "metadata": {},
   "outputs": [],
   "source": []
  }
 ],
 "metadata": {
  "kernelspec": {
   "display_name": "Python 3",
   "language": "python",
   "name": "python3"
  },
  "language_info": {
   "codemirror_mode": {
    "name": "ipython",
    "version": 3
   },
   "file_extension": ".py",
   "mimetype": "text/x-python",
   "name": "python",
   "nbconvert_exporter": "python",
   "pygments_lexer": "ipython3",
   "version": "3.8.5"
  }
 },
 "nbformat": 4,
 "nbformat_minor": 4
}
