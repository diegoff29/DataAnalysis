{
 "cells": [
  {
   "cell_type": "code",
   "execution_count": 1,
   "metadata": {},
   "outputs": [
    {
     "name": "stdout",
     "output_type": "stream",
     "text": [
      "1\n",
      "2\n",
      "3\n",
      "4\n",
      "5\n",
      "6\n",
      "7\n",
      "8\n",
      "9\n",
      "10\n",
      "11\n",
      "12\n",
      "13\n",
      "14\n",
      "15\n",
      "16\n",
      "17\n",
      "18\n",
      "19\n",
      "20\n",
      "21\n",
      "22\n",
      "23\n",
      "24\n",
      "25\n",
      "26\n",
      "27\n",
      "28\n",
      "29\n",
      "30\n",
      "31\n",
      "32\n",
      "33\n",
      "34\n",
      "35\n",
      "36\n",
      "37\n",
      "38\n",
      "39\n",
      "40\n",
      "41\n",
      "42\n",
      "43\n",
      "44\n",
      "45\n",
      "46\n",
      "47\n",
      "48\n",
      "49\n",
      "50\n"
     ]
    }
   ],
   "source": [
    "i=1\n",
    "while i<51:\n",
    "    print(i)\n",
    "    i=i+1"
   ]
  },
  {
   "cell_type": "code",
   "execution_count": 6,
   "metadata": {},
   "outputs": [
    {
     "name": "stdout",
     "output_type": "stream",
     "text": [
      "Enter a string godiesinha\n",
      "g\n",
      "o\n",
      "d\n",
      "i\n",
      "e\n",
      "s\n",
      "i\n",
      "n\n",
      "h\n",
      "a\n",
      "g\n",
      "d\n",
      "e\n",
      "i\n",
      "h\n"
     ]
    }
   ],
   "source": [
    "text=input(\"Enter a string \")\n",
    "i=0\n",
    "while (i<len(text)):\n",
    "    print(text[i])\n",
    "    i=i+1\n",
    "i=0\n",
    "while (i<len(text)):\n",
    "    print(text[i])\n",
    "    i=i+2\n"
   ]
  },
  {
   "cell_type": "code",
   "execution_count": 5,
   "metadata": {},
   "outputs": [
    {
     "name": "stdout",
     "output_type": "stream",
     "text": [
      "Enter the desired weight. If you want to finish the loop, enter a negative number67\n",
      "The weight entered equals 147.735 pounds\n",
      "Enter the desired weight. If you want to finish the loop, enter a negative number-3\n"
     ]
    }
   ],
   "source": [
    "weight=0\n",
    "\n",
    "while(weight>=0):\n",
    "    weight=eval(input(\"Enter the desired weight. If you want to finish the loop, enter a negative number \"))\n",
    "    if weight>0:\n",
    "        weight=weight*2.205\n",
    "        print(\"The weight entered equals\",weight,\"pounds\")"
   ]
  },
  {
   "cell_type": "code",
   "execution_count": 7,
   "metadata": {},
   "outputs": [
    {
     "name": "stdout",
     "output_type": "stream",
     "text": [
      "Enter the password. You have 5 tries\n",
      "manchesteer\n",
      "Incorrect guess.\n",
      "Enter the password. You have 4 tries\n",
      "manichester\n",
      "Incorrect guess.\n",
      "Enter the password. You have 3 tries\n",
      "Manchester\n",
      "Correct. Access granted\n"
     ]
    }
   ],
   "source": [
    "\n",
    "password=\"Manchester\"\n",
    "guess=\"\"\n",
    "a=0\n",
    "while(password!=guess) and(a<5):\n",
    "    print(\"Enter the password. You have\",5-a,\"tries\")\n",
    "    guess=input()\n",
    "    if password==guess:\n",
    "        print(\"Correct. Access granted\")\n",
    "        break\n",
    "    else:\n",
    "        print(\"Incorrect guess.\")\n",
    "        a=a+1\n",
    "else:\n",
    "    print(\"You have been forced out of the system because of too many failed attempts\")"
   ]
  },
  {
   "cell_type": "code",
   "execution_count": 25,
   "metadata": {},
   "outputs": [
    {
     "name": "stdout",
     "output_type": "stream",
     "text": [
      "Enter the desired test score. This is the test score number 1\n",
      "91\n",
      "91\n",
      "Enter the desired test score. This is the test score number 2\n",
      "92\n",
      "183\n",
      "Enter the desired test score. This is the test score number 3\n",
      "80\n",
      "263\n",
      "Enter the desired test score. This is the test score number 4\n",
      "78\n",
      "341\n",
      "Enter the desired test score. This is the test score number 5\n",
      "45\n",
      "386\n",
      "Enter the desired test score. This is the test score number 6\n",
      "54\n",
      "440\n",
      "Enter the desired test score. This is the test score number 7\n",
      "92\n",
      "532\n",
      "Enter the desired test score. This is the test score number 8\n",
      "93\n",
      "625\n",
      "Enter the desired test score. This is the test score number 9\n",
      "89\n",
      "714\n",
      "Enter the desired test score. This is the test score number 10\n",
      "10\n",
      "724\n",
      "Enter the desired test score. This is the test score number 11\n",
      "-2\n",
      "The numbers of As is 4\n",
      "The average of the test 72.4\n"
     ]
    }
   ],
   "source": [
    "score=0\n",
    "number=0\n",
    "noventa=0\n",
    "total=0\n",
    "while(score>=0):\n",
    "    print(\"Enter the desired test score. This is the test score number\",number+1)\n",
    "    score=eval(input())\n",
    "    if score>0:\n",
    "        total=total+score\n",
    "        number=number+1\n",
    "        print(total)\n",
    "        if score>=90:\n",
    "            noventa=noventa+1\n",
    "    \n",
    "print(\"The numbers of As is\",noventa)\n",
    "print(\"The average of the test\",total/number)"
   ]
  },
  {
   "cell_type": "code",
   "execution_count": 34,
   "metadata": {},
   "outputs": [
    {
     "name": "stdout",
     "output_type": "stream",
     "text": [
      "Enter your guess (1-100) 50\n",
      "The real number is lower\n",
      "You have 4 guesses left\n",
      "Enter your guess (1-100) 25\n",
      "The real number is lower\n",
      "You have 3 guesses left\n",
      "Enter your guess (1-100) 13\n",
      "The real number is higher\n",
      "You have 2 guesses left\n",
      "Enter your guess (1-100) 21\n",
      "The real number is lower\n",
      "You have 1 guess left\n",
      "Enter your guess (1-100) 17\n",
      "The real number is lower\n",
      "You have 0 guesses left\n",
      "You run out of attempts. Try again\n"
     ]
    }
   ],
   "source": [
    "from random import randint\n",
    "x=randint(1,100)\n",
    "number=0\n",
    "guess=\"\"\n",
    "print\n",
    "while (guess!=x) and (number<5):\n",
    "    number=number+1\n",
    "    guess=eval(input(\"Enter your guess (1-100) \"))\n",
    "    if guess==x:\n",
    "            print(\"Correct. You got the right number\")\n",
    "            break\n",
    "    else:\n",
    "        if guess<=x:\n",
    "            print(\"The real number is higher\")\n",
    "        else:\n",
    "            print(\"The real number is lower\")\n",
    "    if number==4:\n",
    "        print(\"You have 1 guess left\")\n",
    "    else:\n",
    "        print(\"You have\",5-number,\"guesses left\")\n",
    "        \n",
    "else:\n",
    "    print(\"You run out of attempts. Try again\")"
   ]
  },
  {
   "cell_type": "code",
   "execution_count": 8,
   "metadata": {},
   "outputs": [
    {
     "name": "stdout",
     "output_type": "stream",
     "text": [
      "Enter the desired string Diego\n",
      "Enter the desired letter f\n",
      "This letter is not in the text\n"
     ]
    }
   ],
   "source": [
    "text=input(\"Enter the desired string \")\n",
    "letter=\"\"\n",
    "while letter in text:\n",
    "    letter=input(\"Enter the desired letter \")\n",
    "    if letter  in text:\n",
    "        print(text.index(letter))\n",
    "    else:\n",
    "        print(\"This letter is not in the text\")\n",
    "       "
   ]
  },
  {
   "cell_type": "code",
   "execution_count": 48,
   "metadata": {},
   "outputs": [
    {
     "name": "stdout",
     "output_type": "stream",
     "text": [
      "Enter the desired string carba\n",
      "Enter the desired letter a\n",
      "The letter was in index 1\n"
     ]
    }
   ],
   "source": [
    "text=input(\"Enter the desired string \")\n",
    "letter=input(\"Enter the desired letter \")\n",
    "for a in range(len(text)):\n",
    "    if text[a]==letter:\n",
    "        print(\"The letter was in index\",a)\n",
    "        break\n",
    "    if a==len(text)-1:\n",
    "        print(\"The letter is not found in the text\")"
   ]
  },
  {
   "cell_type": "code",
   "execution_count": 10,
   "metadata": {},
   "outputs": [
    {
     "name": "stdout",
     "output_type": "stream",
     "text": [
      "Enter the greater number 24\n",
      "Enter the lesser number 6\n",
      "6\n"
     ]
    }
   ],
   "source": [
    "greater=eval(input(\"Enter the greater number \"))\n",
    "lesser=eval(input(\"Enter the lesser number \"))\n",
    "while lesser>0:\n",
    "    modulus=greater%lesser\n",
    "    greater=lesser\n",
    "    lesser=modulus\n",
    "print(greater)\n",
    "#Program that finds the gcd"
   ]
  },
  {
   "cell_type": "code",
   "execution_count": 11,
   "metadata": {},
   "outputs": [
    {
     "name": "stdout",
     "output_type": "stream",
     "text": [
      "1\n",
      "3.0\n",
      "3.0\n",
      "2.3333333333333335\n",
      "2.3333333333333335\n",
      "2.238095238095238\n",
      "2.238095238095238\n",
      "2.2360688956433634\n",
      "2.2360688956433634\n",
      "2.236067977499978\n",
      "2.236067977499978\n",
      "2.23606797749979\n",
      "The final answer is 2.23606797749979\n"
     ]
    }
   ],
   "source": [
    "oldguess=1\n",
    "newguess=0\n",
    "distance=abs(oldguess-newguess)\n",
    "while(distance>0.0000000001):\n",
    "    newguess=(oldguess+5/oldguess)/2\n",
    "    oldguess,newguess=newguess,oldguess\n",
    "    print(newguess)\n",
    "    print(oldguess)\n",
    "    distance=abs(oldguess-newguess)\n",
    "print(\"The final answer is\",oldguess)"
   ]
  },
  {
   "cell_type": "code",
   "execution_count": 12,
   "metadata": {},
   "outputs": [
    {
     "name": "stdout",
     "output_type": "stream",
     "text": [
      "['duro', 'manso', 'uno', 'musica']\n",
      "duro\n"
     ]
    }
   ],
   "source": [
    "from random import choice\n",
    "lista=[\"duro\",\"repetir\",\"manso\",\"trabajo\",\"medalla\",\"high\",\"non-repeat\",\"uno\",\"Voldigoad\",\"musica\",\"ee\"]\n",
    "Nonrepeat=[]\n",
    "letter=\"\"\n",
    "a=0\n",
    "flag=0\n",
    "while(a<len(lista)):\n",
    "    c=0\n",
    "    flag=0\n",
    "    while(c<len(lista[a])):\n",
    "        d=c+1\n",
    "        while (d<len(lista[a])):\n",
    "            if(lista[a][c]==lista[a][d]):\n",
    "                flag=1\n",
    "                break\n",
    "            d=d+1\n",
    "        if flag==1:\n",
    "            break\n",
    "        c=c+1\n",
    "    else:\n",
    "        Nonrepeat.append(lista[a])\n",
    "    a=a+1\n",
    "print(Nonrepeat)\n",
    "print(choice(Nonrepeat))"
   ]
  },
  {
   "cell_type": "code",
   "execution_count": 159,
   "metadata": {},
   "outputs": [
    {
     "name": "stdout",
     "output_type": "stream",
     "text": [
      "[20, 22, 13, 10, 2, 4, 14, 6, 15, 21]\n",
      "[[0, 1, 0, 1, 0], [1, 0, 0, 0, 1], [0, 0, 1, 1, 1], [0, 0, 0, 0, 1], [1, 1, 0, 0, 0]]\n"
     ]
    }
   ],
   "source": [
    "from random import sample\n",
    "zeroes=[[0 for a in range(5)] for b in range(5)]\n",
    "numbers=[a for a in range(1,26)]\n",
    "lista=sample(numbers,10)\n",
    "print(lista)\n",
    "rows=[(lista[a]-1)//5 for a in range(10)]\n",
    "col=[(lista[a]-1)%5 for a in range(10)]\n",
    "for a in range(10):\n",
    "    zeroes[rows[a]][col[a]]=1\n",
    "print(zeroes)"
   ]
  },
  {
   "cell_type": "code",
   "execution_count": 166,
   "metadata": {},
   "outputs": [
    {
     "name": "stdout",
     "output_type": "stream",
     "text": [
      "There were no nonzero integers\n",
      "[0, 0, 0, 0, 0, 0, 0]\n"
     ]
    }
   ],
   "source": [
    "List=[0,0,0,0,0,0,0]\n",
    "a=0\n",
    "while(a<len(List)):\n",
    "    if List[a]!=0:\n",
    "        List[a]=1\n",
    "        break\n",
    "    a=a+1\n",
    "else:\n",
    "    print(\"There were no nonzero integers\")\n",
    "\n",
    "print(List)"
   ]
  },
  {
   "cell_type": "code",
   "execution_count": 177,
   "metadata": {},
   "outputs": [
    {
     "name": "stdout",
     "output_type": "stream",
     "text": [
      "Rock,paper or scissors?rock\n",
      "1\n",
      "Tie\n",
      "Rock,paper or scissors?rock\n",
      "1\n",
      "Tie\n",
      "Rock,paper or scissors?paper\n",
      "2\n",
      "Tie\n",
      "Rock,paper or scissors?paper\n",
      "1\n",
      "Human won\n",
      "Rock,paper or scissors?scissors\n",
      "2\n",
      "Human won\n",
      "Rock,paper or scissors?rock\n",
      "2\n",
      "Computer won\n",
      "Rock,paper or scissors?paper\n",
      "1\n",
      "Human won\n",
      "Congratulation. You won the match\n"
     ]
    }
   ],
   "source": [
    "from random import *\n",
    "compu=0\n",
    "human=0\n",
    "while(compu<3)and(human<3):\n",
    "    guess=input(\"Rock,paper or scissors?\")\n",
    "    guess=guess.lower()\n",
    "    x=randint(1,3)\n",
    "    print(x)\n",
    "    if guess.lower()==\"rock\":\n",
    "        if x==1:\n",
    "            print(\"Tie\")\n",
    "        else:\n",
    "            if x==2:\n",
    "                print(\"Computer won\")\n",
    "                compu=compu+1\n",
    "            else:\n",
    "                print(\"Human won\")\n",
    "                human=human+1\n",
    "    else:\n",
    "        if guess.lower()==\"paper\":\n",
    "            if x==1:\n",
    "                print(\"Human won\")\n",
    "                human=human+1\n",
    "            else:\n",
    "                if x==2:\n",
    "                    print(\"Tie\")\n",
    "                else:\n",
    "                    print(\"Computer won\")\n",
    "                    compu=compu+1\n",
    "        else:\n",
    "            if x==1:\n",
    "                print(\"Computer won\")\n",
    "                compu=compu+1\n",
    "            else:\n",
    "                if x==2:\n",
    "                    print(\"Human won\")\n",
    "                    human=human+1\n",
    "                else:\n",
    "                    print(\"Tie\")\n",
    "                    \n",
    "if (human>=3):\n",
    "    print(\"Congratulation. You won the match\")\n",
    "else:\n",
    "    print(\"The computer won the match. Better luck next time\")"
   ]
  },
  {
   "cell_type": "code",
   "execution_count": 182,
   "metadata": {},
   "outputs": [
    {
     "name": "stdout",
     "output_type": "stream",
     "text": [
      "1\n",
      "Heads or tails?heads\n",
      "109\n",
      "1\n",
      "Heads or tails?heads\n",
      "118\n",
      "2\n",
      "Heads or tails?tails\n",
      "127\n",
      "1\n",
      "Heads or tails?heads\n",
      "136\n",
      "2\n",
      "Heads or tails?tails\n",
      "145\n",
      "2\n",
      "Heads or tails?tails\n",
      "154\n",
      "2\n",
      "Heads or tails?tails\n",
      "163\n",
      "1\n",
      "Heads or tails?heads\n",
      "172\n",
      "2\n",
      "Heads or tails?tails\n",
      "181\n",
      "2\n",
      "Heads or tails?tails\n",
      "190\n",
      "1\n",
      "Heads or tails?heads\n",
      "199\n",
      "2\n",
      "Heads or tails?tails\n",
      "208\n",
      "We pimpin\n"
     ]
    }
   ],
   "source": [
    "from random import randint\n",
    "salary=100\n",
    "while (salary>0 and salary<200):\n",
    "    x=randint(1,2)\n",
    "    guess=input(\"Heads or tails?\")\n",
    "    guess=guess.lower()\n",
    "    if guess==\"heads\":\n",
    "        if x==1:\n",
    "            salary=salary+9\n",
    "        else:\n",
    "            salary=salary-10\n",
    "    else:\n",
    "        if x==1:\n",
    "            salary=salary-10\n",
    "        else:\n",
    "            salary=salary+9\n",
    "    print(salary)\n",
    "if salary<0:\n",
    "    print(\"You broke nigga\")\n",
    "else:\n",
    "    print(\"We pimpin\")\n"
   ]
  },
  {
   "cell_type": "code",
   "execution_count": 188,
   "metadata": {},
   "outputs": [
    {
     "name": "stdout",
     "output_type": "stream",
     "text": [
      "[[[9, 8, 1, 4, 2, 3, 6, 5, 7]], [[8, 2, 5, 9, 1, 3, 6, 4, 7]], [[4, 2, 5, 7, 8, 6, 1, 9, 3]], [[8, 2, 1, 4, 5, 3, 7, 6, 9]], [[3, 7, 9, 4, 1, 5, 6, 8, 2]], [[8, 3, 4, 2, 7, 6, 1, 9, 5]], [[4, 5, 7, 6, 2, 9, 8, 3, 1]], [[4, 8, 1, 9, 6, 5, 7, 2, 3]], [[4, 7, 6, 5, 9, 1, 8, 3, 2]]]\n"
     ]
    }
   ],
   "source": [
    "from random import sample\n",
    "from pprint import *\n",
    "onenine=[a for a in range(1,10)]\n",
    "block=[[sample(onenine,9)] for a in range(9)]\n",
    "a=0\n",
    "Columns=[]\n",
    "while (a<9):\n",
    "    Columns=[block[b][a] for b in range(9)]\n",
    "pprint(block)"
   ]
  },
  {
   "cell_type": "code",
   "execution_count": 196,
   "metadata": {},
   "outputs": [
    {
     "name": "stdout",
     "output_type": "stream",
     "text": [
      "[27, 29, 17, 8, 6, 18, 9, 28, 11, 14, 22, 35]\n",
      "[[0, 0, 0, 0, 0, 0], [1, 0, 1, 1, 0, 1], [0, 0, 1, 0, 0, 1], [1, 0, 0, 0, 1, 0], [0, 0, 0, 1, 1, 1], [0, 0, 0, 0, 0, 1]]\n"
     ]
    }
   ],
   "source": [
    "from random import sample\n",
    "thirty=[a for a in range(36)]\n",
    "picks=sample(thirty,12)\n",
    "finallist=[1 if thirty[a] in picks else 0 for a in range(36)]\n",
    "finalblock=[[finallist[a+b] for a in range(6)] for b in range(0,36,6)]\n",
    "print(picks)\n",
    "print(finalblock)"
   ]
  },
  {
   "cell_type": "code",
   "execution_count": 205,
   "metadata": {},
   "outputs": [
    {
     "name": "stdout",
     "output_type": "stream",
     "text": [
      "Enter the desired numerator 1\n",
      "Enter the desired denominator 59\n",
      "Enter the digit desired 5\n",
      "0.01694915254237288\n",
      "4\n"
     ]
    }
   ],
   "source": [
    "numerator=(eval(input(\"Enter the desired numerator \")))\n",
    "denominator=(eval(input(\"Enter the desired denominator \")))\n",
    "limit=eval(input(\"Enter the digit desired \"))\n",
    "print(numerator/denominator)\n",
    "a=0\n",
    "while(a<limit):\n",
    "        numerator=numerator*10\n",
    "        num=numerator//denominator\n",
    "        numerator=numerator-(num*denominator)\n",
    "        a=a+1\n",
    "print(num)"
   ]
  },
  {
   "cell_type": "code",
   "execution_count": 266,
   "metadata": {},
   "outputs": [
    {
     "name": "stdout",
     "output_type": "stream",
     "text": [
      "**********\n",
      "Enter the desired letter a\n",
      "****a****a\n",
      "Enter the desired letter e\n",
      "****a****a\n",
      "Enter the desired letter b\n",
      "****a****a\n",
      "Enter the desired letter v\n",
      "****a****a\n",
      "Enter the desired letter r\n",
      "****a*r**a\n",
      "Enter the desired letter s\n",
      "**s*a*r**a\n",
      "Enter the desired letter m\n",
      "**s*a*r**a\n",
      "Enter the desired letter n\n",
      "You have failed this game. Too much mistakes.The answer was costa rica\n"
     ]
    }
   ],
   "source": [
    "from random import choice\n",
    "Countries=[\"Panama\",\"Haiti\",\"Trinidad and Tobago\",\"Ecuador\",\"Guatemala\",\"Venezuela\",\"Antigua and Barbuda\",\"Bahamas\",\"Saint Kitts and Nevis\",\"Jamaica\",\"United States\",\"Canada\",\"Dominican Republic\",\"Guyana\",\"Argentina\",\"Mexico\",\"Cuba\",\"Saint Vincent and the Grenadines\",\"Saint Lucia\",\"Dominica\",\"Brazil\",\"Chile\",\"Uruguay\",\"Paraguay\",\"Peru\",\"Colombia\",\"Suriname\",\"French Guiana\",\"Bolivia\",\"Honduras\",\"Costa Rica\",\"Nicaragua\",\"El Salvador\",\"Grenada\",\"Barbados\",\"Belize\"]\n",
    "countries=[Countries[a].lower() for a in range(len(Countries))]\n",
    "pick=choice(countries)\n",
    "Pick=[pick[a] for a in range(len(pick))]\n",
    "asterick=[\"*\" for b in range(len(pick))]\n",
    "oldc=0\n",
    "newc=0\n",
    "fails=0\n",
    "while(oldc<len(Pick)):\n",
    "    if fails==5:\n",
    "        print(\"You have failed this game. Too much mistakes.The answer was\",pick)\n",
    "        break\n",
    "    Asterick=\"\".join(asterick)\n",
    "    print(Asterick)\n",
    "    guess=input(\"Enter the desired letter \")\n",
    "    for a in range(len(pick)):\n",
    "        if Pick[a]==guess:\n",
    "            del asterick[a]\n",
    "            asterick.insert(a,guess)\n",
    "            newc=newc+1\n",
    "    if(newc==oldc):\n",
    "        fails=fails+1\n",
    "    oldc=newc\n",
    "else:\n",
    "    print(pick)\n",
    "    print(\"Congratulations you won the game\")\n"
   ]
  },
  {
   "cell_type": "code",
   "execution_count": 311,
   "metadata": {},
   "outputs": [
    {
     "name": "stdout",
     "output_type": "stream",
     "text": [
      "[['*', '*', '*', '*', '*', '*'],\n",
      " ['*', '*', '*', '*', '*', '*'],\n",
      " ['*', '*', '*', '*', '*', '*'],\n",
      " ['*', '*', '*', '*', '*', '*'],\n",
      " ['*', '*', '*', '*', '*', '*'],\n",
      " ['*', '*', '*', '*', '*', '*']]\n",
      "Enter the desired row and column for the symbol in the form [a,b] [1,1]\n",
      "[['6', '*', '*', '*', '*', '*'],\n",
      " ['*', '*', '*', '*', '*', '*'],\n",
      " ['*', '*', '*', '*', '*', '*'],\n",
      " ['*', '*', '*', '*', '*', '*'],\n",
      " ['*', '*', '*', '*', '*', '*'],\n",
      " ['*', '*', '*', '*', '*', '*']]\n",
      "Enter the desired row and column for the symbol in the form [a,b] [2,3]\n",
      "Incorrect guess\n",
      "[['6', '*', '*', '*', '*', '*'],\n",
      " ['*', '*', 'J', '*', '*', '*'],\n",
      " ['*', '*', '*', '*', '*', '*'],\n",
      " ['*', '*', '*', '*', '*', '*'],\n",
      " ['*', '*', '*', '*', '*', '*'],\n",
      " ['*', '*', '*', '*', '*', '*']]\n",
      "[['*', '*', '*', '*', '*', '*'],\n",
      " ['*', '*', '*', '*', '*', '*'],\n",
      " ['*', '*', '*', '*', '*', '*'],\n",
      " ['*', '*', '*', '*', '*', '*'],\n",
      " ['*', '*', '*', '*', '*', '*'],\n",
      " ['*', '*', '*', '*', '*', '*']]\n",
      "Enter the desired row and column for the symbol in the form [a,b] [4,1]\n",
      "[['*', '*', '*', '*', '*', '*'],\n",
      " ['*', '*', '*', '*', '*', '*'],\n",
      " ['*', '*', '*', '*', '*', '*'],\n",
      " [':', '*', '*', '*', '*', '*'],\n",
      " ['*', '*', '*', '*', '*', '*'],\n",
      " ['*', '*', '*', '*', '*', '*']]\n",
      "Enter the desired row and column for the symbol in the form [a,b] [2,2]\n",
      "Incorrect guess\n",
      "[['*', '*', '*', '*', '*', '*'],\n",
      " ['*', '}', '*', '*', '*', '*'],\n",
      " ['*', '*', '*', '*', '*', '*'],\n",
      " [':', '*', '*', '*', '*', '*'],\n",
      " ['*', '*', '*', '*', '*', '*'],\n",
      " ['*', '*', '*', '*', '*', '*']]\n",
      "[['*', '*', '*', '*', '*', '*'],\n",
      " ['*', '*', '*', '*', '*', '*'],\n",
      " ['*', '*', '*', '*', '*', '*'],\n",
      " ['*', '*', '*', '*', '*', '*'],\n",
      " ['*', '*', '*', '*', '*', '*'],\n",
      " ['*', '*', '*', '*', '*', '*']]\n",
      "Enter the desired row and column for the symbol in the form [a,b] [6,6]\n",
      "[['*', '*', '*', '*', '*', '*'],\n",
      " ['*', '*', '*', '*', '*', '*'],\n",
      " ['*', '*', '*', '*', '*', '*'],\n",
      " ['*', '*', '*', '*', '*', '*'],\n",
      " ['*', '*', '*', '*', '*', '*'],\n",
      " ['*', '*', '*', '*', '*', '?']]\n",
      "Enter the desired row and column for the symbol in the form [a,b] [6,1]\n",
      "Incorrect guess\n",
      "[['*', '*', '*', '*', '*', '*'],\n",
      " ['*', '*', '*', '*', '*', '*'],\n",
      " ['*', '*', '*', '*', '*', '*'],\n",
      " ['*', '*', '*', '*', '*', '*'],\n",
      " ['*', '*', '*', '*', '*', '*'],\n",
      " ['q', '*', '*', '*', '*', '?']]\n",
      "[['*', '*', '*', '*', '*', '*'],\n",
      " ['*', '*', '*', '*', '*', '*'],\n",
      " ['*', '*', '*', '*', '*', '*'],\n",
      " ['*', '*', '*', '*', '*', '*'],\n",
      " ['*', '*', '*', '*', '*', '*'],\n",
      " ['*', '*', '*', '*', '*', '*']]\n",
      "Enter the desired row and column for the symbol in the form [a,b] [5,5]\n",
      "[['*', '*', '*', '*', '*', '*'],\n",
      " ['*', '*', '*', '*', '*', '*'],\n",
      " ['*', '*', '*', '*', '*', '*'],\n",
      " ['*', '*', '*', '*', '*', '*'],\n",
      " ['*', '*', '*', '*', '6', '*'],\n",
      " ['*', '*', '*', '*', '*', '*']]\n",
      "Enter the desired row and column for the symbol in the form [a,b] [1,1]\n",
      "Correct guess\n",
      "[['6', '*', '*', '*', '*', '*'],\n",
      " ['*', '*', '*', '*', '*', '*'],\n",
      " ['*', '*', '*', '*', '*', '*'],\n",
      " ['*', '*', '*', '*', '*', '*'],\n",
      " ['*', '*', '*', '*', '6', '*'],\n",
      " ['*', '*', '*', '*', '*', '*']]\n",
      "Enter the desired row and column for the symbol in the form [a,b] [4,4]\n",
      "[['6', '*', '*', '*', '*', '*'],\n",
      " ['*', '*', '*', '*', '*', '*'],\n",
      " ['*', '*', '*', '*', '*', '*'],\n",
      " ['*', '*', '*', 's', '*', '*'],\n",
      " ['*', '*', '*', '*', '6', '*'],\n",
      " ['*', '*', '*', '*', '*', '*']]\n",
      "Enter the desired row and column for the symbol in the form [a,b] [2,3[\n"
     ]
    },
    {
     "ename": "SyntaxError",
     "evalue": "unexpected EOF while parsing (<string>, line 1)",
     "output_type": "error",
     "traceback": [
      "Traceback \u001b[1;36m(most recent call last)\u001b[0m:\n",
      "  File \u001b[0;32m\"C:\\ProgramData\\Anaconda3\\lib\\site-packages\\IPython\\core\\interactiveshell.py\"\u001b[0m, line \u001b[0;32m3418\u001b[0m, in \u001b[0;35mrun_code\u001b[0m\n    exec(code_obj, self.user_global_ns, self.user_ns)\n",
      "\u001b[1;36m  File \u001b[1;32m\"<ipython-input-311-2a72b0593c61>\"\u001b[1;36m, line \u001b[1;32m23\u001b[1;36m, in \u001b[1;35m<module>\u001b[1;36m\u001b[0m\n\u001b[1;33m    Coordinates=eval(input(\"Enter the desired row and column for the symbol in the form [a,b] \"))\u001b[0m\n",
      "\u001b[1;36m  File \u001b[1;32m\"<string>\"\u001b[1;36m, line \u001b[1;32m1\u001b[0m\n\u001b[1;33m    [2,3[\u001b[0m\n\u001b[1;37m        ^\u001b[0m\n\u001b[1;31mSyntaxError\u001b[0m\u001b[1;31m:\u001b[0m unexpected EOF while parsing\n"
     ]
    }
   ],
   "source": [
    "from pprint import *\n",
    "from string import *\n",
    "from random import *\n",
    "Assortment=ascii_lowercase+punctuation+digits+ascii_uppercase\n",
    "Symbols=sample(Assortment,18)\n",
    "Symbols=Symbols*2\n",
    "shuffle(Symbols)\n",
    "symbols=[[Symbols[a+b] for a in range(6)] for b in range(0,36,6)]\n",
    "#pprint(symbols)\n",
    "asterick=[\"*\"for a in range (36)]\n",
    "oldc=0\n",
    "newc=0\n",
    "var=[]\n",
    "Position=[]\n",
    "turns=0\n",
    "while (oldc<36):\n",
    "    if turns==10:\n",
    "        print(\"Sorry, you used all your attempts\")\n",
    "        break\n",
    "    turns=turns+1\n",
    "    Asterick=[[asterick[a+b] for a in range(6)] for b in range(0,36,6)]\n",
    "    pprint(Asterick)\n",
    "    Coordinates=eval(input(\"Enter the desired row and column for the symbol in the form [a,b] \"))\n",
    "    Row=Coordinates[0]-1\n",
    "    Column=Coordinates[1]-1\n",
    "    if (Row*6+Column) in Position:\n",
    "        print(\"Already inputted coordinate\")\n",
    "        turns=turns-1\n",
    "    else:\n",
    "        Position.append(Row*6+Column)\n",
    "    var.append(Symbols[Position[-1]])\n",
    "    asterick[Position[-1]]=Symbols[Position[-1]]\n",
    "    if turns%2==0:\n",
    "        if var[0]!=var[1]:\n",
    "            print(\"Incorrect guess\")\n",
    "            Asterick=[[asterick[a+b] for a in range(6)] for b in range(0,36,6)]\n",
    "            pprint(Asterick)\n",
    "            asterick[Position[-1]]=\"*\"\n",
    "            asterick[Position[-2]]=\"*\"\n",
    "            Position[-2:]=\"\"\n",
    "        else:\n",
    "            oldc=oldc+2\n",
    "            print(\"Correct guess\")\n",
    "            turns=turns-2\n",
    "        var=[]\n",
    "else:\n",
    "    print(\"Congratulations. You won the game\")"
   ]
  },
  {
   "cell_type": "code",
   "execution_count": 321,
   "metadata": {},
   "outputs": [
    {
     "name": "stdout",
     "output_type": "stream",
     "text": [
      "[1, [0], 1, [0, 0], 1, [0, 0, 0], 1, [0, 0, 0, 0], 1, [0, 0, 0, 0, 0], 1, [0, 0, 0, 0, 0, 0], 1, [0, 0, 0, 0, 0, 0, 0], 1, [0, 0, 0, 0, 0, 0, 0, 0], 1, [0, 0, 0, 0, 0, 0, 0, 0, 0], 1, [0, 0, 0, 0, 0, 0, 0, 0, 0, 0], 1]\n"
     ]
    }
   ],
   "source": [
    "lista=[1 if a%2==0 else [0 for b in range(int((a+1)/2))] for a in range(21)]\n",
    "print(lista)"
   ]
  },
  {
   "cell_type": "code",
   "execution_count": null,
   "metadata": {},
   "outputs": [],
   "source": []
  }
 ],
 "metadata": {
  "kernelspec": {
   "display_name": "Python 3",
   "language": "python",
   "name": "python3"
  },
  "language_info": {
   "codemirror_mode": {
    "name": "ipython",
    "version": 3
   },
   "file_extension": ".py",
   "mimetype": "text/x-python",
   "name": "python",
   "nbconvert_exporter": "python",
   "pygments_lexer": "ipython3",
   "version": "3.8.5"
  }
 },
 "nbformat": 4,
 "nbformat_minor": 4
}
