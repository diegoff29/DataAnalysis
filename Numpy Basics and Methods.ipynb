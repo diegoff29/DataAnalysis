{
 "cells": [
  {
   "cell_type": "code",
   "execution_count": 1,
   "metadata": {},
   "outputs": [
    {
     "data": {
      "text/plain": [
       "array([1., 2., 3., 4., 5.], dtype=float32)"
      ]
     },
     "execution_count": 1,
     "metadata": {},
     "output_type": "execute_result"
    }
   ],
   "source": [
    "import numpy as np\n",
    "np.array([1,2,3,4,5],dtype=\"float32\")"
   ]
  },
  {
   "cell_type": "code",
   "execution_count": 2,
   "metadata": {},
   "outputs": [
    {
     "name": "stdout",
     "output_type": "stream",
     "text": [
      "[0 0 0 0 0 0 0 0 0 0]\n",
      "[[1 1 1 1 1]\n",
      " [1 1 1 1 1]\n",
      " [1 1 1 1 1]]\n",
      "[[3.14 3.14 3.14 3.14 3.14]\n",
      " [3.14 3.14 3.14 3.14 3.14]\n",
      " [3.14 3.14 3.14 3.14 3.14]]\n",
      "[ 0  2  4  6  8 10 12 14 16 18]\n",
      "[0.   0.25 0.5  0.75 1.  ]\n",
      "[[0.96459631 0.79919446 0.17014878]\n",
      " [0.87674907 0.73162912 0.46738617]\n",
      " [0.75981887 0.98353977 0.48215152]]\n",
      "[[-0.016971    0.60032302 -0.59892725]\n",
      " [-0.93410473  0.46082899 -1.22688362]\n",
      " [ 1.76884987  1.82684345  0.98403593]]\n",
      "[[8 5 8]\n",
      " [2 1 2]\n",
      " [0 5 6]]\n",
      "[[1. 0. 0.]\n",
      " [0. 1. 0.]\n",
      " [0. 0. 1.]]\n"
     ]
    }
   ],
   "source": [
    "print(np.zeros(10,dtype=\"int\"))\n",
    "print(np.ones((3,5),dtype=\"int\"))\n",
    "print(np.full((3,5),3.14))\n",
    "print(np.arange(0, 20, 2))\n",
    "print(np.linspace(0,1,5))\n",
    "print(np.random.random((3,3)))\n",
    "print(np.random.normal(0,1,(3,3))) #0=Mean. 1=Standard Deviation\n",
    "print(np.random.randint(0,10,(3,3))) #0=Mean. 1=Standard Deviation\n",
    "print(np.eye(3))"
   ]
  },
  {
   "cell_type": "code",
   "execution_count": 12,
   "metadata": {},
   "outputs": [],
   "source": []
  },
  {
   "cell_type": "code",
   "execution_count": 13,
   "metadata": {},
   "outputs": [
    {
     "data": {
      "text/plain": [
       "array([0, 1, 2, 3, 4])"
      ]
     },
     "execution_count": 13,
     "metadata": {},
     "output_type": "execute_result"
    }
   ],
   "source": [
    "np.arange(5)"
   ]
  },
  {
   "cell_type": "code",
   "execution_count": 36,
   "metadata": {},
   "outputs": [
    {
     "name": "stdout",
     "output_type": "stream",
     "text": [
      "[[0 1 2 3]\n",
      " [0 1 2 3]]\n",
      "[[[0 1 2 3]\n",
      "  [0 1 2 3]\n",
      "  [0 1 2 3]]\n",
      "\n",
      " [[0 1 2 3]\n",
      "  [0 1 2 3]\n",
      "  [0 1 2 3]]]\n"
     ]
    }
   ],
   "source": [
    "twodim = np.array([np.arange(4),np.arange(4)])\n",
    "twodim.shape\n",
    "threedim=np.array([np.array([np.arange(4),np.arange(4),np.arange(4)]),np.array([np.arange(4),np.arange(4),np.arange(4)])])\n",
    "print(twodim)\n",
    "print(threedim)"
   ]
  },
  {
   "cell_type": "code",
   "execution_count": 65,
   "metadata": {},
   "outputs": [
    {
     "ename": "TypeError",
     "evalue": "data type 't' not understood",
     "output_type": "error",
     "traceback": [
      "\u001b[1;31m---------------------------------------------------------------------------\u001b[0m",
      "\u001b[1;31mTypeError\u001b[0m                                 Traceback (most recent call last)",
      "\u001b[1;32m<ipython-input-65-244e431e102f>\u001b[0m in \u001b[0;36m<module>\u001b[1;34m\u001b[0m\n\u001b[1;32m----> 1\u001b[1;33m \u001b[0mt\u001b[0m\u001b[1;33m=\u001b[0m\u001b[0mnp\u001b[0m\u001b[1;33m.\u001b[0m\u001b[0mdtype\u001b[0m\u001b[1;33m(\u001b[0m\u001b[1;34m't'\u001b[0m\u001b[1;33m)\u001b[0m\u001b[1;33m\u001b[0m\u001b[1;33m\u001b[0m\u001b[0m\n\u001b[0m\u001b[0;32m      2\u001b[0m \u001b[0mprint\u001b[0m\u001b[1;33m(\u001b[0m\u001b[0mt\u001b[0m\u001b[1;33m.\u001b[0m\u001b[0mchar\u001b[0m\u001b[1;33m)\u001b[0m\u001b[1;33m\u001b[0m\u001b[1;33m\u001b[0m\u001b[0m\n\u001b[0;32m      3\u001b[0m \u001b[0mprint\u001b[0m\u001b[1;33m(\u001b[0m\u001b[0mt\u001b[0m\u001b[1;33m.\u001b[0m\u001b[0mstr\u001b[0m\u001b[1;33m)\u001b[0m\u001b[1;33m\u001b[0m\u001b[1;33m\u001b[0m\u001b[0m\n\u001b[0;32m      4\u001b[0m \u001b[0mprint\u001b[0m\u001b[1;33m(\u001b[0m\u001b[0mt\u001b[0m\u001b[1;33m.\u001b[0m\u001b[0mtype\u001b[0m\u001b[1;33m)\u001b[0m\u001b[1;33m\u001b[0m\u001b[1;33m\u001b[0m\u001b[0m\n",
      "\u001b[1;31mTypeError\u001b[0m: data type 't' not understood"
     ]
    }
   ],
   "source": [
    "t=np.dtype('S')\n",
    "print(t.char)\n",
    "print(t.str)\n",
    "print(t.type)"
   ]
  },
  {
   "cell_type": "code",
   "execution_count": 79,
   "metadata": {},
   "outputs": [
    {
     "name": "stdout",
     "output_type": "stream",
     "text": [
      "[('name', '<U40'), ('items', '<i4'), ('price', '<f8')]\n",
      "<U40\n",
      "('Butter', 13, 2.72)\n"
     ]
    }
   ],
   "source": [
    "record=np.dtype([(\"name\", str,40),(\"items\",int),(\"price\",float)])\n",
    "print(record)\n",
    "print(record[\"name\"])\n",
    "itemz=np.array([('Meaning of life DVD',42,3.14),('Butter',13,2.72)],dtype=record)\n",
    "print(itemz[1])"
   ]
  },
  {
   "cell_type": "code",
   "execution_count": 4,
   "metadata": {},
   "outputs": [
    {
     "name": "stdout",
     "output_type": "stream",
     "text": [
      "[[[ 0  1  2  3]\n",
      "  [ 4  5  6  7]\n",
      "  [ 8  9 10 11]]\n",
      "\n",
      " [[12 13 14 15]\n",
      "  [16 17 18 19]\n",
      "  [20 21 22 23]]]\n",
      "(2, 3, 4)\n",
      "20\n",
      "[ 0 12]\n"
     ]
    }
   ],
   "source": [
    "#Slicing\n",
    "b=np.arange(24).reshape(2,3,4)\n",
    "print(b)\n",
    "print(b.shape)\n",
    "print(b[1,2,0])\n",
    "print(b[:,0,0])"
   ]
  },
  {
   "cell_type": "code",
   "execution_count": 5,
   "metadata": {},
   "outputs": [
    {
     "name": "stdout",
     "output_type": "stream",
     "text": [
      "[[ 0  1  2  3]\n",
      " [ 4  5  6  7]\n",
      " [ 8  9 10 11]]\n",
      "[[ 0  1  2  3]\n",
      " [ 4  5  6  7]\n",
      " [ 8  9 10 11]]\n",
      "[[ 0  1  2  3]\n",
      " [ 4  5  6  7]\n",
      " [ 8  9 10 11]] Ellipsis\n",
      "[4 5 6 7]\n",
      "[4 6]\n",
      "[[ 1  5  9]\n",
      " [13 17 21]]\n",
      "[[ 4  5  6  7]\n",
      " [16 17 18 19]]\n"
     ]
    }
   ],
   "source": [
    "print(b[0])\n",
    "print(b[0,:,:])\n",
    "print(b[0],...)\n",
    "print(b[0,1])\n",
    "print(b[0,1,0::2])\n",
    "print(b[...,1])\n",
    "print(b[:,1])"
   ]
  },
  {
   "cell_type": "code",
   "execution_count": 6,
   "metadata": {},
   "outputs": [
    {
     "name": "stdout",
     "output_type": "stream",
     "text": [
      "[1 5 9]\n",
      "[ 3  7 11]\n",
      "[11  7  3]\n"
     ]
    }
   ],
   "source": [
    "print(b[0,:,1])\n",
    "print(b[0,:,-1])\n",
    "print(b[0,::-1,-1])"
   ]
  },
  {
   "cell_type": "code",
   "execution_count": 10,
   "metadata": {},
   "outputs": [
    {
     "name": "stdout",
     "output_type": "stream",
     "text": [
      "[[[ 0  1  2  3]\n",
      "  [ 4  5  6  7]\n",
      "  [ 8  9 10 11]]\n",
      "\n",
      " [[12 13 14 15]\n",
      "  [16 17 18 19]\n",
      "  [20 21 22 69]]]\n",
      "[[69  1  2  3]\n",
      " [ 4  5  6  7]\n",
      " [ 8  9 10 11]\n",
      " [12 13 14 15]\n",
      " [16 17 18 19]\n",
      " [20 21 22 69]]\n",
      "[[69  4  8 12 16 20]\n",
      " [ 1  5  9 13 17 21]\n",
      " [ 2  6 10 14 18 22]\n",
      " [ 3  7 11 15 19 69]]\n"
     ]
    }
   ],
   "source": [
    "#Matrix Transformations\n",
    "viewing=b.ravel()\n",
    "copies=b.flatten()\n",
    "viewing[-1]=69\n",
    "copies[0]=69\n",
    "print(b)\n",
    "copies.shape=(6,4)\n",
    "print(copies)\n",
    "print(copies.transpose())"
   ]
  },
  {
   "cell_type": "code",
   "execution_count": 18,
   "metadata": {},
   "outputs": [
    {
     "name": "stdout",
     "output_type": "stream",
     "text": [
      "[[0 1 2]\n",
      " [3 4 5]\n",
      " [6 7 8]]\n",
      "[[ 0  2  4]\n",
      " [ 6  8 10]\n",
      " [12 14 16]]\n",
      "[[ 0  1  2  0  2  4]\n",
      " [ 3  4  5  6  8 10]\n",
      " [ 6  7  8 12 14 16]]\n",
      "[[ 0  1  2  0  2  4]\n",
      " [ 3  4  5  6  8 10]\n",
      " [ 6  7  8 12 14 16]]\n",
      "[[ 0  1  2]\n",
      " [ 3  4  5]\n",
      " [ 6  7  8]\n",
      " [ 0  2  4]\n",
      " [ 6  8 10]\n",
      " [12 14 16]]\n",
      "[[ 0  1  2]\n",
      " [ 3  4  5]\n",
      " [ 6  7  8]\n",
      " [ 0  2  4]\n",
      " [ 6  8 10]\n",
      " [12 14 16]]\n",
      "[[[ 0  0]\n",
      "  [ 1  2]\n",
      "  [ 2  4]]\n",
      "\n",
      " [[ 3  6]\n",
      "  [ 4  8]\n",
      "  [ 5 10]]\n",
      "\n",
      " [[ 6 12]\n",
      "  [ 7 14]\n",
      "  [ 8 16]]]\n"
     ]
    }
   ],
   "source": [
    "#Stacking Two Dimensional Arrays\n",
    "a=np.arange(9).reshape(3,3)\n",
    "b=2*a\n",
    "print(a)\n",
    "print(b)\n",
    "c1=np.hstack((a,b))\n",
    "c12=np.concatenate((a,b),axis=1)\n",
    "c2=np.vstack((a,b))\n",
    "c22=np.concatenate((a,b),axis=0)\n",
    "c3=np.dstack((a,b))\n",
    "print(c1)\n",
    "print(c12)\n",
    "print(c2)\n",
    "print(c22)\n",
    "print(c3)"
   ]
  },
  {
   "cell_type": "code",
   "execution_count": 25,
   "metadata": {},
   "outputs": [
    {
     "name": "stdout",
     "output_type": "stream",
     "text": [
      "[[0 0]\n",
      " [1 2]]\n",
      "[[ 0  1  2  0  2  4]\n",
      " [ 3  4  5  6  8 10]\n",
      " [ 6  7  8 12 14 16]]\n",
      "[[0 1]\n",
      " [0 2]]\n",
      "[[ 0  1  2]\n",
      " [ 3  4  5]\n",
      " [ 6  7  8]\n",
      " [ 0  2  4]\n",
      " [ 6  8 10]\n",
      " [12 14 16]]\n"
     ]
    }
   ],
   "source": [
    "#Stacking One Dimensional\n",
    "oned=np.arange(2)\n",
    "twoned=2*oned\n",
    "o1=np.column_stack((oned,twoned))\n",
    "c13=np.column_stack((a,b))\n",
    "print(o1)\n",
    "print(c13)\n",
    "o2=np.row_stack((oned,twoned))\n",
    "c23=np.row_stack((a,b))\n",
    "print(o2)\n",
    "print(c23)"
   ]
  },
  {
   "cell_type": "code",
   "execution_count": 29,
   "metadata": {},
   "outputs": [
    {
     "name": "stdout",
     "output_type": "stream",
     "text": [
      "[array([[0, 1],\n",
      "       [3, 4],\n",
      "       [6, 7]]), array([[ 2,  0],\n",
      "       [ 5,  6],\n",
      "       [ 8, 12]]), array([[ 2,  4],\n",
      "       [ 8, 10],\n",
      "       [14, 16]])]\n",
      "[array([[0, 1],\n",
      "       [3, 4],\n",
      "       [6, 7]]), array([[ 2,  0],\n",
      "       [ 5,  6],\n",
      "       [ 8, 12]]), array([[ 2,  4],\n",
      "       [ 8, 10],\n",
      "       [14, 16]])]\n",
      "[array([[0, 1, 2],\n",
      "       [3, 4, 5]]), array([[6, 7, 8],\n",
      "       [0, 2, 4]]), array([[ 6,  8, 10],\n",
      "       [12, 14, 16]])]\n",
      "[array([[0, 1, 2],\n",
      "       [3, 4, 5]]), array([[6, 7, 8],\n",
      "       [0, 2, 4]]), array([[ 6,  8, 10],\n",
      "       [12, 14, 16]])]\n"
     ]
    }
   ],
   "source": [
    "#Splitting\n",
    "s1=np.hsplit(c1,3)\n",
    "s12=np.split(c1,3,axis=1)\n",
    "print(s1)\n",
    "print(s12)\n",
    "s2=np.vsplit(c2,3)\n",
    "s22=np.split(c2,3,axis=0)\n",
    "print(s2)\n",
    "print(s22)\n",
    "#Dsplitting, divides by columns."
   ]
  },
  {
   "cell_type": "code",
   "execution_count": 39,
   "metadata": {},
   "outputs": [
    {
     "name": "stdout",
     "output_type": "stream",
     "text": [
      "[[ 0  2  4]\n",
      " [ 6  8 10]\n",
      " [12 14 16]]\n",
      "2\n",
      "(3, 3)\n",
      "9\n",
      "4\n",
      "36\n",
      "[[ 0  6 12]\n",
      " [ 2  8 14]\n",
      " [ 4 10 16]]\n"
     ]
    },
    {
     "data": {
      "text/plain": [
       "[[0, 2, 4], [6, 8, 10], [12, 14, 16]]"
      ]
     },
     "execution_count": 39,
     "metadata": {},
     "output_type": "execute_result"
    }
   ],
   "source": [
    "#Dimensions\n",
    "print(b)\n",
    "print(b.ndim)\n",
    "print(b.shape)\n",
    "print(b.size)\n",
    "print(b.itemsize)\n",
    "print(b.nbytes)\n",
    "print(b.T)\n",
    "b.astype('float64')\n",
    "b.tolist()\n"
   ]
  },
  {
   "cell_type": "code",
   "execution_count": null,
   "metadata": {},
   "outputs": [],
   "source": []
  }
 ],
 "metadata": {
  "kernelspec": {
   "display_name": "Python 3",
   "language": "python",
   "name": "python3"
  },
  "language_info": {
   "codemirror_mode": {
    "name": "ipython",
    "version": 3
   },
   "file_extension": ".py",
   "mimetype": "text/x-python",
   "name": "python",
   "nbconvert_exporter": "python",
   "pygments_lexer": "ipython3",
   "version": "3.8.5"
  }
 },
 "nbformat": 4,
 "nbformat_minor": 4
}
